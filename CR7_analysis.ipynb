{
 "cells": [
  {
   "cell_type": "markdown",
   "id": "495dc43b",
   "metadata": {},
   "source": [
    "# Imports "
   ]
  },
  {
   "cell_type": "code",
   "execution_count": 1,
   "id": "41c7b2bb",
   "metadata": {},
   "outputs": [],
   "source": [
    "import numpy as np # linear algebra\n",
    "import pandas as pd # data processing, CSV file I/O (e.g. pd.read_csv)\n",
    "import matplotlib.pyplot as plt \n",
    "import seaborn as sns\n",
    "from datetime import timedelta\n",
    "import warnings\n",
    "import os\n",
    "import plotly.graph_objs as go\n",
    "from plotly.offline import download_plotlyjs, init_notebook_mode, plot, iplot\n",
    "import plotly.express as px"
   ]
  },
  {
   "cell_type": "code",
   "execution_count": 2,
   "id": "a6834aaf",
   "metadata": {},
   "outputs": [
    {
     "data": {
      "text/html": [
       "        <script type=\"text/javascript\">\n",
       "        window.PlotlyConfig = {MathJaxConfig: 'local'};\n",
       "        if (window.MathJax && window.MathJax.Hub && window.MathJax.Hub.Config) {window.MathJax.Hub.Config({SVG: {font: \"STIX-Web\"}});}\n",
       "        if (typeof require !== 'undefined') {\n",
       "        require.undef(\"plotly\");\n",
       "        requirejs.config({\n",
       "            paths: {\n",
       "                'plotly': ['https://cdn.plot.ly/plotly-2.12.1.min']\n",
       "            }\n",
       "        });\n",
       "        require(['plotly'], function(Plotly) {\n",
       "            window._Plotly = Plotly;\n",
       "        });\n",
       "        }\n",
       "        </script>\n",
       "        "
      ]
     },
     "metadata": {},
     "output_type": "display_data"
    }
   ],
   "source": [
    "warnings.filterwarnings('ignore')\n",
    "init_notebook_mode(connected=True)"
   ]
  },
  {
   "cell_type": "markdown",
   "id": "4f1c3ae9",
   "metadata": {},
   "source": [
    "# Load Datas "
   ]
  },
  {
   "cell_type": "code",
   "execution_count": 3,
   "id": "953ed368",
   "metadata": {},
   "outputs": [],
   "source": [
    "df = pd.read_csv('cr7.csv')"
   ]
  },
  {
   "cell_type": "code",
   "execution_count": 4,
   "id": "78f719ae",
   "metadata": {},
   "outputs": [
    {
     "data": {
      "text/html": [
       "<div>\n",
       "<style scoped>\n",
       "    .dataframe tbody tr th:only-of-type {\n",
       "        vertical-align: middle;\n",
       "    }\n",
       "\n",
       "    .dataframe tbody tr th {\n",
       "        vertical-align: top;\n",
       "    }\n",
       "\n",
       "    .dataframe thead th {\n",
       "        text-align: right;\n",
       "    }\n",
       "</style>\n",
       "<table border=\"1\" class=\"dataframe\">\n",
       "  <thead>\n",
       "    <tr style=\"text-align: right;\">\n",
       "      <th></th>\n",
       "      <th>Season</th>\n",
       "      <th>Competition</th>\n",
       "      <th>Matchday</th>\n",
       "      <th>Date</th>\n",
       "      <th>Venue</th>\n",
       "      <th>Club</th>\n",
       "      <th>Opponent</th>\n",
       "      <th>Result</th>\n",
       "      <th>Playing_Position</th>\n",
       "      <th>Minute</th>\n",
       "      <th>At_score</th>\n",
       "      <th>Type</th>\n",
       "      <th>Goal_assist</th>\n",
       "    </tr>\n",
       "  </thead>\n",
       "  <tbody>\n",
       "    <tr>\n",
       "      <th>0</th>\n",
       "      <td>02/03</td>\n",
       "      <td>Liga Portugal</td>\n",
       "      <td>6</td>\n",
       "      <td>10-07-02</td>\n",
       "      <td>H</td>\n",
       "      <td>Sporting CP</td>\n",
       "      <td>Moreirense FC</td>\n",
       "      <td>3:00</td>\n",
       "      <td>LW</td>\n",
       "      <td>34</td>\n",
       "      <td>2:00</td>\n",
       "      <td>Solo run</td>\n",
       "      <td>NaN</td>\n",
       "    </tr>\n",
       "    <tr>\n",
       "      <th>1</th>\n",
       "      <td>02/03</td>\n",
       "      <td>Liga Portugal</td>\n",
       "      <td>6</td>\n",
       "      <td>10-07-02</td>\n",
       "      <td>H</td>\n",
       "      <td>Sporting CP</td>\n",
       "      <td>Moreirense FC</td>\n",
       "      <td>3:00</td>\n",
       "      <td>LW</td>\n",
       "      <td>90+5</td>\n",
       "      <td>3:00</td>\n",
       "      <td>Header</td>\n",
       "      <td>Rui Jorge</td>\n",
       "    </tr>\n",
       "    <tr>\n",
       "      <th>2</th>\n",
       "      <td>02/03</td>\n",
       "      <td>Liga Portugal</td>\n",
       "      <td>8</td>\n",
       "      <td>10/26/02</td>\n",
       "      <td>A</td>\n",
       "      <td>Sporting CP</td>\n",
       "      <td>Boavista FC</td>\n",
       "      <td>1:02</td>\n",
       "      <td>NaN</td>\n",
       "      <td>88</td>\n",
       "      <td>1:02</td>\n",
       "      <td>Right-footed shot</td>\n",
       "      <td>Carlos Martins</td>\n",
       "    </tr>\n",
       "    <tr>\n",
       "      <th>3</th>\n",
       "      <td>02/03</td>\n",
       "      <td>Taca de Portugal Placard</td>\n",
       "      <td>Fourth Round</td>\n",
       "      <td>11/24/02</td>\n",
       "      <td>H</td>\n",
       "      <td>Sporting CP</td>\n",
       "      <td>CD Estarreja</td>\n",
       "      <td>4:01</td>\n",
       "      <td>NaN</td>\n",
       "      <td>67</td>\n",
       "      <td>3:00</td>\n",
       "      <td>Left-footed shot</td>\n",
       "      <td>Cesar Prates</td>\n",
       "    </tr>\n",
       "    <tr>\n",
       "      <th>4</th>\n",
       "      <td>02/03</td>\n",
       "      <td>Taca de Portugal Placard</td>\n",
       "      <td>Fifth Round</td>\n",
       "      <td>12/18/02</td>\n",
       "      <td>H</td>\n",
       "      <td>Sporting CP</td>\n",
       "      <td>FC Oliveira do Hospital</td>\n",
       "      <td>8:01</td>\n",
       "      <td>NaN</td>\n",
       "      <td>13</td>\n",
       "      <td>3:00</td>\n",
       "      <td>NaN</td>\n",
       "      <td>NaN</td>\n",
       "    </tr>\n",
       "    <tr>\n",
       "      <th>...</th>\n",
       "      <td>...</td>\n",
       "      <td>...</td>\n",
       "      <td>...</td>\n",
       "      <td>...</td>\n",
       "      <td>...</td>\n",
       "      <td>...</td>\n",
       "      <td>...</td>\n",
       "      <td>...</td>\n",
       "      <td>...</td>\n",
       "      <td>...</td>\n",
       "      <td>...</td>\n",
       "      <td>...</td>\n",
       "      <td>...</td>\n",
       "    </tr>\n",
       "    <tr>\n",
       "      <th>696</th>\n",
       "      <td>21/22</td>\n",
       "      <td>Premier League</td>\n",
       "      <td>37</td>\n",
       "      <td>4/28/22</td>\n",
       "      <td>H</td>\n",
       "      <td>Manchester United</td>\n",
       "      <td>Chelsea FC</td>\n",
       "      <td>1:01</td>\n",
       "      <td>CF</td>\n",
       "      <td>62</td>\n",
       "      <td>1:01</td>\n",
       "      <td>Right-footed shot</td>\n",
       "      <td>Nemanja MatiÄ‡</td>\n",
       "    </tr>\n",
       "    <tr>\n",
       "      <th>697</th>\n",
       "      <td>21/22</td>\n",
       "      <td>Premier League</td>\n",
       "      <td>35</td>\n",
       "      <td>05-02-22</td>\n",
       "      <td>H</td>\n",
       "      <td>Manchester United</td>\n",
       "      <td>Brentford FC</td>\n",
       "      <td>3:00</td>\n",
       "      <td>CF</td>\n",
       "      <td>61</td>\n",
       "      <td>2:00</td>\n",
       "      <td>Penalty</td>\n",
       "      <td>NaN</td>\n",
       "    </tr>\n",
       "    <tr>\n",
       "      <th>698</th>\n",
       "      <td>22/23</td>\n",
       "      <td>Europa League</td>\n",
       "      <td>Group Stage</td>\n",
       "      <td>9/15/22</td>\n",
       "      <td>A</td>\n",
       "      <td>Manchester United</td>\n",
       "      <td>FC Sheriff</td>\n",
       "      <td>0:02</td>\n",
       "      <td>CF</td>\n",
       "      <td>39</td>\n",
       "      <td>0:02</td>\n",
       "      <td>Penalty</td>\n",
       "      <td>NaN</td>\n",
       "    </tr>\n",
       "    <tr>\n",
       "      <th>699</th>\n",
       "      <td>22/23</td>\n",
       "      <td>Premier League</td>\n",
       "      <td>10</td>\n",
       "      <td>10/9/22</td>\n",
       "      <td>A</td>\n",
       "      <td>Manchester United</td>\n",
       "      <td>Everton FC</td>\n",
       "      <td>1:2</td>\n",
       "      <td>NaN</td>\n",
       "      <td>44</td>\n",
       "      <td>1:2</td>\n",
       "      <td>Counter attack goal</td>\n",
       "      <td>Casemiro</td>\n",
       "    </tr>\n",
       "    <tr>\n",
       "      <th>700</th>\n",
       "      <td>22/23</td>\n",
       "      <td>Europa League</td>\n",
       "      <td>Group Stage</td>\n",
       "      <td>10/27/22</td>\n",
       "      <td>H</td>\n",
       "      <td>Manchester United</td>\n",
       "      <td>FC Sheriff</td>\n",
       "      <td>3:0</td>\n",
       "      <td>CF</td>\n",
       "      <td>81</td>\n",
       "      <td>3:0</td>\n",
       "      <td>Left-footed shot</td>\n",
       "      <td>NaN</td>\n",
       "    </tr>\n",
       "  </tbody>\n",
       "</table>\n",
       "<p>701 rows × 13 columns</p>\n",
       "</div>"
      ],
      "text/plain": [
       "    Season               Competition      Matchday      Date Venue  \\\n",
       "0    02/03             Liga Portugal             6  10-07-02     H   \n",
       "1    02/03             Liga Portugal             6  10-07-02     H   \n",
       "2    02/03             Liga Portugal             8  10/26/02     A   \n",
       "3    02/03  Taca de Portugal Placard  Fourth Round  11/24/02     H   \n",
       "4    02/03  Taca de Portugal Placard   Fifth Round  12/18/02     H   \n",
       "..     ...                       ...           ...       ...   ...   \n",
       "696  21/22            Premier League            37   4/28/22     H   \n",
       "697  21/22            Premier League            35  05-02-22     H   \n",
       "698  22/23             Europa League   Group Stage   9/15/22     A   \n",
       "699  22/23            Premier League            10   10/9/22     A   \n",
       "700  22/23             Europa League   Group Stage  10/27/22     H   \n",
       "\n",
       "                  Club                 Opponent Result Playing_Position  \\\n",
       "0          Sporting CP            Moreirense FC   3:00               LW   \n",
       "1          Sporting CP            Moreirense FC   3:00               LW   \n",
       "2          Sporting CP              Boavista FC   1:02              NaN   \n",
       "3          Sporting CP             CD Estarreja   4:01              NaN   \n",
       "4          Sporting CP  FC Oliveira do Hospital   8:01              NaN   \n",
       "..                 ...                      ...    ...              ...   \n",
       "696  Manchester United               Chelsea FC   1:01               CF   \n",
       "697  Manchester United             Brentford FC   3:00               CF   \n",
       "698  Manchester United               FC Sheriff   0:02               CF   \n",
       "699  Manchester United               Everton FC    1:2              NaN   \n",
       "700  Manchester United               FC Sheriff    3:0               CF   \n",
       "\n",
       "    Minute At_score                 Type     Goal_assist  \n",
       "0       34     2:00             Solo run             NaN  \n",
       "1     90+5     3:00               Header       Rui Jorge  \n",
       "2       88     1:02    Right-footed shot  Carlos Martins  \n",
       "3       67     3:00     Left-footed shot    Cesar Prates  \n",
       "4       13     3:00                  NaN             NaN  \n",
       "..     ...      ...                  ...             ...  \n",
       "696     62     1:01    Right-footed shot  Nemanja MatiÄ‡  \n",
       "697     61     2:00              Penalty             NaN  \n",
       "698     39     0:02              Penalty             NaN  \n",
       "699     44      1:2  Counter attack goal        Casemiro  \n",
       "700     81      3:0     Left-footed shot             NaN  \n",
       "\n",
       "[701 rows x 13 columns]"
      ]
     },
     "execution_count": 4,
     "metadata": {},
     "output_type": "execute_result"
    }
   ],
   "source": [
    "df"
   ]
  },
  {
   "cell_type": "markdown",
   "id": "82f9036a",
   "metadata": {},
   "source": [
    "# Dtypes"
   ]
  },
  {
   "cell_type": "code",
   "execution_count": 5,
   "id": "96303a02",
   "metadata": {},
   "outputs": [
    {
     "data": {
      "text/plain": [
       "Season              object\n",
       "Competition         object\n",
       "Matchday            object\n",
       "Date                object\n",
       "Venue               object\n",
       "Club                object\n",
       "Opponent            object\n",
       "Result              object\n",
       "Playing_Position    object\n",
       "Minute              object\n",
       "At_score            object\n",
       "Type                object\n",
       "Goal_assist         object\n",
       "dtype: object"
      ]
     },
     "execution_count": 5,
     "metadata": {},
     "output_type": "execute_result"
    }
   ],
   "source": [
    "df.dtypes"
   ]
  },
  {
   "cell_type": "code",
   "execution_count": 6,
   "id": "092fb0f2",
   "metadata": {},
   "outputs": [],
   "source": [
    "df['Date'] = pd.to_datetime(df['Date'])"
   ]
  },
  {
   "cell_type": "code",
   "execution_count": null,
   "id": "07b765f8",
   "metadata": {},
   "outputs": [],
   "source": []
  },
  {
   "cell_type": "code",
   "execution_count": null,
   "id": "cd31b8d2",
   "metadata": {},
   "outputs": [],
   "source": []
  },
  {
   "cell_type": "code",
   "execution_count": null,
   "id": "781cd162",
   "metadata": {},
   "outputs": [],
   "source": []
  },
  {
   "cell_type": "markdown",
   "id": "7591693e",
   "metadata": {},
   "source": [
    "# Describe Datas "
   ]
  },
  {
   "cell_type": "code",
   "execution_count": 7,
   "id": "ea8af0e9",
   "metadata": {},
   "outputs": [
    {
     "data": {
      "text/html": [
       "<div>\n",
       "<style scoped>\n",
       "    .dataframe tbody tr th:only-of-type {\n",
       "        vertical-align: middle;\n",
       "    }\n",
       "\n",
       "    .dataframe tbody tr th {\n",
       "        vertical-align: top;\n",
       "    }\n",
       "\n",
       "    .dataframe thead th {\n",
       "        text-align: right;\n",
       "    }\n",
       "</style>\n",
       "<table border=\"1\" class=\"dataframe\">\n",
       "  <thead>\n",
       "    <tr style=\"text-align: right;\">\n",
       "      <th></th>\n",
       "      <th>Season</th>\n",
       "      <th>Competition</th>\n",
       "      <th>Matchday</th>\n",
       "      <th>Date</th>\n",
       "      <th>Venue</th>\n",
       "      <th>Club</th>\n",
       "      <th>Opponent</th>\n",
       "      <th>Result</th>\n",
       "      <th>Playing_Position</th>\n",
       "      <th>Minute</th>\n",
       "      <th>At_score</th>\n",
       "      <th>Type</th>\n",
       "      <th>Goal_assist</th>\n",
       "    </tr>\n",
       "  </thead>\n",
       "  <tbody>\n",
       "    <tr>\n",
       "      <th>count</th>\n",
       "      <td>701</td>\n",
       "      <td>701</td>\n",
       "      <td>701</td>\n",
       "      <td>701</td>\n",
       "      <td>701</td>\n",
       "      <td>701</td>\n",
       "      <td>701</td>\n",
       "      <td>701</td>\n",
       "      <td>643</td>\n",
       "      <td>701</td>\n",
       "      <td>701</td>\n",
       "      <td>686</td>\n",
       "      <td>459</td>\n",
       "    </tr>\n",
       "    <tr>\n",
       "      <th>unique</th>\n",
       "      <td>21</td>\n",
       "      <td>16</td>\n",
       "      <td>52</td>\n",
       "      <td>464</td>\n",
       "      <td>2</td>\n",
       "      <td>4</td>\n",
       "      <td>125</td>\n",
       "      <td>53</td>\n",
       "      <td>5</td>\n",
       "      <td>106</td>\n",
       "      <td>37</td>\n",
       "      <td>11</td>\n",
       "      <td>86</td>\n",
       "    </tr>\n",
       "    <tr>\n",
       "      <th>top</th>\n",
       "      <td>14/15</td>\n",
       "      <td>LaLiga</td>\n",
       "      <td>Group Stage</td>\n",
       "      <td>2015-09-12 00:00:00</td>\n",
       "      <td>H</td>\n",
       "      <td>Real Madrid</td>\n",
       "      <td>Sevilla FC</td>\n",
       "      <td>3:00</td>\n",
       "      <td>LW</td>\n",
       "      <td>90</td>\n",
       "      <td>1:00</td>\n",
       "      <td>Right-footed shot</td>\n",
       "      <td>Karim Benzema</td>\n",
       "    </tr>\n",
       "    <tr>\n",
       "      <th>freq</th>\n",
       "      <td>61</td>\n",
       "      <td>311</td>\n",
       "      <td>75</td>\n",
       "      <td>5</td>\n",
       "      <td>403</td>\n",
       "      <td>450</td>\n",
       "      <td>27</td>\n",
       "      <td>49</td>\n",
       "      <td>356</td>\n",
       "      <td>17</td>\n",
       "      <td>111</td>\n",
       "      <td>251</td>\n",
       "      <td>44</td>\n",
       "    </tr>\n",
       "    <tr>\n",
       "      <th>first</th>\n",
       "      <td>NaN</td>\n",
       "      <td>NaN</td>\n",
       "      <td>NaN</td>\n",
       "      <td>2002-10-07 00:00:00</td>\n",
       "      <td>NaN</td>\n",
       "      <td>NaN</td>\n",
       "      <td>NaN</td>\n",
       "      <td>NaN</td>\n",
       "      <td>NaN</td>\n",
       "      <td>NaN</td>\n",
       "      <td>NaN</td>\n",
       "      <td>NaN</td>\n",
       "      <td>NaN</td>\n",
       "    </tr>\n",
       "    <tr>\n",
       "      <th>last</th>\n",
       "      <td>NaN</td>\n",
       "      <td>NaN</td>\n",
       "      <td>NaN</td>\n",
       "      <td>2022-10-27 00:00:00</td>\n",
       "      <td>NaN</td>\n",
       "      <td>NaN</td>\n",
       "      <td>NaN</td>\n",
       "      <td>NaN</td>\n",
       "      <td>NaN</td>\n",
       "      <td>NaN</td>\n",
       "      <td>NaN</td>\n",
       "      <td>NaN</td>\n",
       "      <td>NaN</td>\n",
       "    </tr>\n",
       "  </tbody>\n",
       "</table>\n",
       "</div>"
      ],
      "text/plain": [
       "       Season Competition     Matchday                 Date Venue  \\\n",
       "count     701         701          701                  701   701   \n",
       "unique     21          16           52                  464     2   \n",
       "top     14/15      LaLiga  Group Stage  2015-09-12 00:00:00     H   \n",
       "freq       61         311           75                    5   403   \n",
       "first     NaN         NaN          NaN  2002-10-07 00:00:00   NaN   \n",
       "last      NaN         NaN          NaN  2022-10-27 00:00:00   NaN   \n",
       "\n",
       "               Club    Opponent Result Playing_Position Minute At_score  \\\n",
       "count           701         701    701              643    701      701   \n",
       "unique            4         125     53                5    106       37   \n",
       "top     Real Madrid  Sevilla FC   3:00               LW     90     1:00   \n",
       "freq            450          27     49              356     17      111   \n",
       "first           NaN         NaN    NaN              NaN    NaN      NaN   \n",
       "last            NaN         NaN    NaN              NaN    NaN      NaN   \n",
       "\n",
       "                     Type    Goal_assist  \n",
       "count                 686            459  \n",
       "unique                 11             86  \n",
       "top     Right-footed shot  Karim Benzema  \n",
       "freq                  251             44  \n",
       "first                 NaN            NaN  \n",
       "last                  NaN            NaN  "
      ]
     },
     "execution_count": 7,
     "metadata": {},
     "output_type": "execute_result"
    }
   ],
   "source": [
    "df.describe()"
   ]
  },
  {
   "cell_type": "code",
   "execution_count": 8,
   "id": "4d4d8dd0",
   "metadata": {},
   "outputs": [
    {
     "data": {
      "text/plain": [
       "Season                0\n",
       "Competition           0\n",
       "Matchday              0\n",
       "Date                  0\n",
       "Venue                 0\n",
       "Club                  0\n",
       "Opponent              0\n",
       "Result                0\n",
       "Playing_Position     58\n",
       "Minute                0\n",
       "At_score              0\n",
       "Type                 15\n",
       "Goal_assist         242\n",
       "dtype: int64"
      ]
     },
     "execution_count": 8,
     "metadata": {},
     "output_type": "execute_result"
    }
   ],
   "source": [
    "df.isnull().sum()"
   ]
  },
  {
   "cell_type": "code",
   "execution_count": 9,
   "id": "0cd939c2",
   "metadata": {},
   "outputs": [
    {
     "name": "stdout",
     "output_type": "stream",
     "text": [
      "Season:Season    0.0\n",
      "dtype: float64%\n",
      " \n",
      "Competition:Competition    0.0\n",
      "dtype: float64%\n",
      " \n",
      "Matchday:Matchday    0.0\n",
      "dtype: float64%\n",
      " \n",
      "Date:Date    0.0\n",
      "dtype: float64%\n",
      " \n",
      "Venue:Venue    0.0\n",
      "dtype: float64%\n",
      " \n",
      "Club:Club    0.0\n",
      "dtype: float64%\n",
      " \n",
      "Opponent:Opponent    0.0\n",
      "dtype: float64%\n",
      " \n",
      "Result:Result    0.0\n",
      "dtype: float64%\n",
      " \n",
      "Playing_Position:Playing_Position    8.0\n",
      "dtype: float64%\n",
      " \n",
      "Minute:Minute    0.0\n",
      "dtype: float64%\n",
      " \n",
      "At_score:At_score    0.0\n",
      "dtype: float64%\n",
      " \n",
      "Type:Type    2.0\n",
      "dtype: float64%\n",
      " \n",
      "Goal_assist:Goal_assist    35.0\n",
      "dtype: float64%\n",
      " \n"
     ]
    }
   ],
   "source": [
    "for col in df.columns:\n",
    "    perc = df[[col]].isna().mean()\n",
    "    print(f'{col}:{round(perc*100)}%')\n",
    "    print(' ')"
   ]
  },
  {
   "cell_type": "code",
   "execution_count": 10,
   "id": "14b259e2",
   "metadata": {},
   "outputs": [],
   "source": [
    "df.dropna(inplace=True)"
   ]
  },
  {
   "cell_type": "markdown",
   "id": "31742d56",
   "metadata": {},
   "source": [
    "# Load Datas "
   ]
  },
  {
   "cell_type": "code",
   "execution_count": 11,
   "id": "878f2ce7",
   "metadata": {},
   "outputs": [
    {
     "data": {
      "text/html": [
       "<div>\n",
       "<style scoped>\n",
       "    .dataframe tbody tr th:only-of-type {\n",
       "        vertical-align: middle;\n",
       "    }\n",
       "\n",
       "    .dataframe tbody tr th {\n",
       "        vertical-align: top;\n",
       "    }\n",
       "\n",
       "    .dataframe thead th {\n",
       "        text-align: right;\n",
       "    }\n",
       "</style>\n",
       "<table border=\"1\" class=\"dataframe\">\n",
       "  <thead>\n",
       "    <tr style=\"text-align: right;\">\n",
       "      <th></th>\n",
       "      <th>Season</th>\n",
       "      <th>Competition</th>\n",
       "      <th>Matchday</th>\n",
       "      <th>Date</th>\n",
       "      <th>Venue</th>\n",
       "      <th>Club</th>\n",
       "      <th>Opponent</th>\n",
       "      <th>Result</th>\n",
       "      <th>Playing_Position</th>\n",
       "      <th>Minute</th>\n",
       "      <th>At_score</th>\n",
       "      <th>Type</th>\n",
       "      <th>Goal_assist</th>\n",
       "    </tr>\n",
       "  </thead>\n",
       "  <tbody>\n",
       "    <tr>\n",
       "      <th>1</th>\n",
       "      <td>02/03</td>\n",
       "      <td>Liga Portugal</td>\n",
       "      <td>6</td>\n",
       "      <td>2002-10-07</td>\n",
       "      <td>H</td>\n",
       "      <td>Sporting CP</td>\n",
       "      <td>Moreirense FC</td>\n",
       "      <td>3:00</td>\n",
       "      <td>LW</td>\n",
       "      <td>90+5</td>\n",
       "      <td>3:00</td>\n",
       "      <td>Header</td>\n",
       "      <td>Rui Jorge</td>\n",
       "    </tr>\n",
       "    <tr>\n",
       "      <th>10</th>\n",
       "      <td>03/04</td>\n",
       "      <td>FA Cup</td>\n",
       "      <td>Final</td>\n",
       "      <td>2004-05-22</td>\n",
       "      <td>H</td>\n",
       "      <td>Manchester United</td>\n",
       "      <td>Millwall FC</td>\n",
       "      <td>3:00</td>\n",
       "      <td>RW</td>\n",
       "      <td>44</td>\n",
       "      <td>1:00</td>\n",
       "      <td>Header</td>\n",
       "      <td>Gary Neville</td>\n",
       "    </tr>\n",
       "    <tr>\n",
       "      <th>14</th>\n",
       "      <td>04/05</td>\n",
       "      <td>Premier League</td>\n",
       "      <td>25</td>\n",
       "      <td>2005-02-01</td>\n",
       "      <td>A</td>\n",
       "      <td>Manchester United</td>\n",
       "      <td>Arsenal FC</td>\n",
       "      <td>2:04</td>\n",
       "      <td>RW</td>\n",
       "      <td>54</td>\n",
       "      <td>2:02</td>\n",
       "      <td>Left-footed shot</td>\n",
       "      <td>Ryan Giggs</td>\n",
       "    </tr>\n",
       "    <tr>\n",
       "      <th>15</th>\n",
       "      <td>04/05</td>\n",
       "      <td>Premier League</td>\n",
       "      <td>25</td>\n",
       "      <td>2005-02-01</td>\n",
       "      <td>A</td>\n",
       "      <td>Manchester United</td>\n",
       "      <td>Arsenal FC</td>\n",
       "      <td>2:04</td>\n",
       "      <td>RW</td>\n",
       "      <td>58</td>\n",
       "      <td>2:03</td>\n",
       "      <td>Tap-in</td>\n",
       "      <td>Ryan Giggs</td>\n",
       "    </tr>\n",
       "    <tr>\n",
       "      <th>19</th>\n",
       "      <td>04/05</td>\n",
       "      <td>FA Cup</td>\n",
       "      <td>Semi-Finals</td>\n",
       "      <td>2005-04-17</td>\n",
       "      <td>A</td>\n",
       "      <td>Manchester United</td>\n",
       "      <td>Newcastle United</td>\n",
       "      <td>1:04</td>\n",
       "      <td>RW</td>\n",
       "      <td>76</td>\n",
       "      <td>1:04</td>\n",
       "      <td>Right-footed shot</td>\n",
       "      <td>Ruud van Nistelrooy</td>\n",
       "    </tr>\n",
       "    <tr>\n",
       "      <th>...</th>\n",
       "      <td>...</td>\n",
       "      <td>...</td>\n",
       "      <td>...</td>\n",
       "      <td>...</td>\n",
       "      <td>...</td>\n",
       "      <td>...</td>\n",
       "      <td>...</td>\n",
       "      <td>...</td>\n",
       "      <td>...</td>\n",
       "      <td>...</td>\n",
       "      <td>...</td>\n",
       "      <td>...</td>\n",
       "      <td>...</td>\n",
       "    </tr>\n",
       "    <tr>\n",
       "      <th>691</th>\n",
       "      <td>21/22</td>\n",
       "      <td>Premier League</td>\n",
       "      <td>29</td>\n",
       "      <td>2022-03-12</td>\n",
       "      <td>H</td>\n",
       "      <td>Manchester United</td>\n",
       "      <td>Tottenham Hotspur</td>\n",
       "      <td>3:02</td>\n",
       "      <td>CF</td>\n",
       "      <td>81</td>\n",
       "      <td>3:02</td>\n",
       "      <td>Header</td>\n",
       "      <td>Alex Telles</td>\n",
       "    </tr>\n",
       "    <tr>\n",
       "      <th>692</th>\n",
       "      <td>21/22</td>\n",
       "      <td>Premier League</td>\n",
       "      <td>33</td>\n",
       "      <td>2022-04-16</td>\n",
       "      <td>H</td>\n",
       "      <td>Manchester United</td>\n",
       "      <td>Norwich City</td>\n",
       "      <td>3:02</td>\n",
       "      <td>CF</td>\n",
       "      <td>7</td>\n",
       "      <td>1:00</td>\n",
       "      <td>Right-footed shot</td>\n",
       "      <td>Anthony Elanga</td>\n",
       "    </tr>\n",
       "    <tr>\n",
       "      <th>693</th>\n",
       "      <td>21/22</td>\n",
       "      <td>Premier League</td>\n",
       "      <td>33</td>\n",
       "      <td>2022-04-16</td>\n",
       "      <td>H</td>\n",
       "      <td>Manchester United</td>\n",
       "      <td>Norwich City</td>\n",
       "      <td>3:02</td>\n",
       "      <td>CF</td>\n",
       "      <td>32</td>\n",
       "      <td>2:00</td>\n",
       "      <td>Header</td>\n",
       "      <td>Alex Telles</td>\n",
       "    </tr>\n",
       "    <tr>\n",
       "      <th>695</th>\n",
       "      <td>21/22</td>\n",
       "      <td>Premier League</td>\n",
       "      <td>34</td>\n",
       "      <td>2022-04-23</td>\n",
       "      <td>A</td>\n",
       "      <td>Manchester United</td>\n",
       "      <td>Arsenal FC</td>\n",
       "      <td>3:01</td>\n",
       "      <td>CF</td>\n",
       "      <td>34</td>\n",
       "      <td>2:01</td>\n",
       "      <td>Left-footed shot</td>\n",
       "      <td>Nemanja MatiÄ‡</td>\n",
       "    </tr>\n",
       "    <tr>\n",
       "      <th>696</th>\n",
       "      <td>21/22</td>\n",
       "      <td>Premier League</td>\n",
       "      <td>37</td>\n",
       "      <td>2022-04-28</td>\n",
       "      <td>H</td>\n",
       "      <td>Manchester United</td>\n",
       "      <td>Chelsea FC</td>\n",
       "      <td>1:01</td>\n",
       "      <td>CF</td>\n",
       "      <td>62</td>\n",
       "      <td>1:01</td>\n",
       "      <td>Right-footed shot</td>\n",
       "      <td>Nemanja MatiÄ‡</td>\n",
       "    </tr>\n",
       "  </tbody>\n",
       "</table>\n",
       "<p>420 rows × 13 columns</p>\n",
       "</div>"
      ],
      "text/plain": [
       "    Season     Competition     Matchday       Date Venue               Club  \\\n",
       "1    02/03   Liga Portugal            6 2002-10-07     H        Sporting CP   \n",
       "10   03/04          FA Cup        Final 2004-05-22     H  Manchester United   \n",
       "14   04/05  Premier League           25 2005-02-01     A  Manchester United   \n",
       "15   04/05  Premier League           25 2005-02-01     A  Manchester United   \n",
       "19   04/05          FA Cup  Semi-Finals 2005-04-17     A  Manchester United   \n",
       "..     ...             ...          ...        ...   ...                ...   \n",
       "691  21/22  Premier League           29 2022-03-12     H  Manchester United   \n",
       "692  21/22  Premier League           33 2022-04-16     H  Manchester United   \n",
       "693  21/22  Premier League           33 2022-04-16     H  Manchester United   \n",
       "695  21/22  Premier League           34 2022-04-23     A  Manchester United   \n",
       "696  21/22  Premier League           37 2022-04-28     H  Manchester United   \n",
       "\n",
       "              Opponent Result Playing_Position Minute At_score  \\\n",
       "1        Moreirense FC   3:00               LW   90+5     3:00   \n",
       "10         Millwall FC   3:00               RW     44     1:00   \n",
       "14          Arsenal FC   2:04               RW     54     2:02   \n",
       "15          Arsenal FC   2:04               RW     58     2:03   \n",
       "19    Newcastle United   1:04               RW     76     1:04   \n",
       "..                 ...    ...              ...    ...      ...   \n",
       "691  Tottenham Hotspur   3:02               CF     81     3:02   \n",
       "692       Norwich City   3:02               CF      7     1:00   \n",
       "693       Norwich City   3:02               CF     32     2:00   \n",
       "695         Arsenal FC   3:01               CF     34     2:01   \n",
       "696         Chelsea FC   1:01               CF     62     1:01   \n",
       "\n",
       "                  Type          Goal_assist  \n",
       "1               Header            Rui Jorge  \n",
       "10              Header         Gary Neville  \n",
       "14    Left-footed shot           Ryan Giggs  \n",
       "15              Tap-in           Ryan Giggs  \n",
       "19   Right-footed shot  Ruud van Nistelrooy  \n",
       "..                 ...                  ...  \n",
       "691             Header          Alex Telles  \n",
       "692  Right-footed shot       Anthony Elanga  \n",
       "693             Header          Alex Telles  \n",
       "695   Left-footed shot       Nemanja MatiÄ‡  \n",
       "696  Right-footed shot       Nemanja MatiÄ‡  \n",
       "\n",
       "[420 rows x 13 columns]"
      ]
     },
     "execution_count": 11,
     "metadata": {},
     "output_type": "execute_result"
    }
   ],
   "source": [
    "df"
   ]
  },
  {
   "cell_type": "code",
   "execution_count": 12,
   "id": "0dbf91cd",
   "metadata": {},
   "outputs": [
    {
     "data": {
      "text/html": [
       "<div>\n",
       "<style scoped>\n",
       "    .dataframe tbody tr th:only-of-type {\n",
       "        vertical-align: middle;\n",
       "    }\n",
       "\n",
       "    .dataframe tbody tr th {\n",
       "        vertical-align: top;\n",
       "    }\n",
       "\n",
       "    .dataframe thead th {\n",
       "        text-align: right;\n",
       "    }\n",
       "</style>\n",
       "<table border=\"1\" class=\"dataframe\">\n",
       "  <thead>\n",
       "    <tr style=\"text-align: right;\">\n",
       "      <th></th>\n",
       "      <th>Unique Values Count</th>\n",
       "    </tr>\n",
       "  </thead>\n",
       "  <tbody>\n",
       "    <tr>\n",
       "      <th>Season</th>\n",
       "      <td>20</td>\n",
       "    </tr>\n",
       "    <tr>\n",
       "      <th>Competition</th>\n",
       "      <td>12</td>\n",
       "    </tr>\n",
       "    <tr>\n",
       "      <th>Matchday</th>\n",
       "      <td>47</td>\n",
       "    </tr>\n",
       "    <tr>\n",
       "      <th>Date</th>\n",
       "      <td>309</td>\n",
       "    </tr>\n",
       "    <tr>\n",
       "      <th>Venue</th>\n",
       "      <td>2</td>\n",
       "    </tr>\n",
       "    <tr>\n",
       "      <th>Club</th>\n",
       "      <td>4</td>\n",
       "    </tr>\n",
       "    <tr>\n",
       "      <th>Opponent</th>\n",
       "      <td>101</td>\n",
       "    </tr>\n",
       "    <tr>\n",
       "      <th>Result</th>\n",
       "      <td>49</td>\n",
       "    </tr>\n",
       "    <tr>\n",
       "      <th>Playing_Position</th>\n",
       "      <td>5</td>\n",
       "    </tr>\n",
       "    <tr>\n",
       "      <th>Minute</th>\n",
       "      <td>101</td>\n",
       "    </tr>\n",
       "    <tr>\n",
       "      <th>At_score</th>\n",
       "      <td>35</td>\n",
       "    </tr>\n",
       "    <tr>\n",
       "      <th>Type</th>\n",
       "      <td>7</td>\n",
       "    </tr>\n",
       "    <tr>\n",
       "      <th>Goal_assist</th>\n",
       "      <td>78</td>\n",
       "    </tr>\n",
       "  </tbody>\n",
       "</table>\n",
       "</div>"
      ],
      "text/plain": [
       "                  Unique Values Count\n",
       "Season                             20\n",
       "Competition                        12\n",
       "Matchday                           47\n",
       "Date                              309\n",
       "Venue                               2\n",
       "Club                                4\n",
       "Opponent                          101\n",
       "Result                             49\n",
       "Playing_Position                    5\n",
       "Minute                            101\n",
       "At_score                           35\n",
       "Type                                7\n",
       "Goal_assist                        78"
      ]
     },
     "execution_count": 12,
     "metadata": {},
     "output_type": "execute_result"
    }
   ],
   "source": [
    "pd.DataFrame(df.apply(lambda col: len(col.unique())),columns=[\"Unique Values Count\"])"
   ]
  },
  {
   "cell_type": "code",
   "execution_count": 13,
   "id": "af3adfe8",
   "metadata": {},
   "outputs": [
    {
     "data": {
      "text/html": [
       "<div>\n",
       "<style scoped>\n",
       "    .dataframe tbody tr th:only-of-type {\n",
       "        vertical-align: middle;\n",
       "    }\n",
       "\n",
       "    .dataframe tbody tr th {\n",
       "        vertical-align: top;\n",
       "    }\n",
       "\n",
       "    .dataframe thead th {\n",
       "        text-align: right;\n",
       "    }\n",
       "</style>\n",
       "<table border=\"1\" class=\"dataframe\">\n",
       "  <thead>\n",
       "    <tr style=\"text-align: right;\">\n",
       "      <th></th>\n",
       "      <th>count</th>\n",
       "      <th>unique</th>\n",
       "      <th>top</th>\n",
       "      <th>freq</th>\n",
       "    </tr>\n",
       "  </thead>\n",
       "  <tbody>\n",
       "    <tr>\n",
       "      <th>Season</th>\n",
       "      <td>420</td>\n",
       "      <td>20</td>\n",
       "      <td>14/15</td>\n",
       "      <td>44</td>\n",
       "    </tr>\n",
       "    <tr>\n",
       "      <th>Competition</th>\n",
       "      <td>420</td>\n",
       "      <td>12</td>\n",
       "      <td>LaLiga</td>\n",
       "      <td>200</td>\n",
       "    </tr>\n",
       "    <tr>\n",
       "      <th>Matchday</th>\n",
       "      <td>420</td>\n",
       "      <td>47</td>\n",
       "      <td>Group Stage</td>\n",
       "      <td>49</td>\n",
       "    </tr>\n",
       "    <tr>\n",
       "      <th>Venue</th>\n",
       "      <td>420</td>\n",
       "      <td>2</td>\n",
       "      <td>H</td>\n",
       "      <td>240</td>\n",
       "    </tr>\n",
       "    <tr>\n",
       "      <th>Club</th>\n",
       "      <td>420</td>\n",
       "      <td>4</td>\n",
       "      <td>Real Madrid</td>\n",
       "      <td>301</td>\n",
       "    </tr>\n",
       "    <tr>\n",
       "      <th>Opponent</th>\n",
       "      <td>420</td>\n",
       "      <td>101</td>\n",
       "      <td>Sevilla FC</td>\n",
       "      <td>19</td>\n",
       "    </tr>\n",
       "    <tr>\n",
       "      <th>Result</th>\n",
       "      <td>420</td>\n",
       "      <td>49</td>\n",
       "      <td>3:00</td>\n",
       "      <td>31</td>\n",
       "    </tr>\n",
       "    <tr>\n",
       "      <th>Playing_Position</th>\n",
       "      <td>420</td>\n",
       "      <td>5</td>\n",
       "      <td>LW</td>\n",
       "      <td>238</td>\n",
       "    </tr>\n",
       "    <tr>\n",
       "      <th>Minute</th>\n",
       "      <td>420</td>\n",
       "      <td>101</td>\n",
       "      <td>70</td>\n",
       "      <td>10</td>\n",
       "    </tr>\n",
       "    <tr>\n",
       "      <th>At_score</th>\n",
       "      <td>420</td>\n",
       "      <td>35</td>\n",
       "      <td>1:00</td>\n",
       "      <td>68</td>\n",
       "    </tr>\n",
       "    <tr>\n",
       "      <th>Type</th>\n",
       "      <td>420</td>\n",
       "      <td>7</td>\n",
       "      <td>Right-footed shot</td>\n",
       "      <td>209</td>\n",
       "    </tr>\n",
       "    <tr>\n",
       "      <th>Goal_assist</th>\n",
       "      <td>420</td>\n",
       "      <td>78</td>\n",
       "      <td>Karim Benzema</td>\n",
       "      <td>44</td>\n",
       "    </tr>\n",
       "  </tbody>\n",
       "</table>\n",
       "</div>"
      ],
      "text/plain": [
       "                 count unique                top freq\n",
       "Season             420     20              14/15   44\n",
       "Competition        420     12             LaLiga  200\n",
       "Matchday           420     47        Group Stage   49\n",
       "Venue              420      2                  H  240\n",
       "Club               420      4        Real Madrid  301\n",
       "Opponent           420    101         Sevilla FC   19\n",
       "Result             420     49               3:00   31\n",
       "Playing_Position   420      5                 LW  238\n",
       "Minute             420    101                 70   10\n",
       "At_score           420     35               1:00   68\n",
       "Type               420      7  Right-footed shot  209\n",
       "Goal_assist        420     78      Karim Benzema   44"
      ]
     },
     "execution_count": 13,
     "metadata": {},
     "output_type": "execute_result"
    }
   ],
   "source": [
    "df.describe(include=['object']).T"
   ]
  },
  {
   "cell_type": "markdown",
   "id": "8f1b22c0",
   "metadata": {},
   "source": [
    "# graphics "
   ]
  },
  {
   "cell_type": "code",
   "execution_count": 14,
   "id": "ff76bdb6",
   "metadata": {},
   "outputs": [
    {
     "data": {
      "application/vnd.plotly.v1+json": {
       "config": {
        "plotlyServerURL": "https://plot.ly"
       },
       "data": [
        {
         "alignmentgroup": "True",
         "bingroup": "x",
         "hovertemplate": "Club=Sporting CP<br>Competition=%{x}<br>count=%{y}<extra></extra>",
         "legendgroup": "Sporting CP",
         "marker": {
          "color": "#636efa",
          "pattern": {
           "shape": ""
          }
         },
         "name": "Sporting CP",
         "offsetgroup": "Sporting CP",
         "orientation": "v",
         "showlegend": true,
         "type": "histogram",
         "x": [
          "Liga Portugal"
         ],
         "xaxis": "x",
         "yaxis": "y"
        },
        {
         "alignmentgroup": "True",
         "bingroup": "x",
         "hovertemplate": "Club=Manchester United<br>Competition=%{x}<br>count=%{y}<extra></extra>",
         "legendgroup": "Manchester United",
         "marker": {
          "color": "#EF553B",
          "pattern": {
           "shape": ""
          }
         },
         "name": "Manchester United",
         "offsetgroup": "Manchester United",
         "orientation": "v",
         "showlegend": true,
         "type": "histogram",
         "x": [
          "FA Cup",
          "Premier League",
          "Premier League",
          "FA Cup",
          "Premier League",
          "Premier League",
          "UEFA Champions League",
          "UEFA Champions League",
          "UEFA Champions League",
          "UEFA Champions League",
          "Premier League",
          "Premier League",
          "UEFA Champions League",
          "UEFA Champions League",
          "Premier League",
          "Premier League",
          "Premier League",
          "Premier League",
          "Premier League",
          "FA Cup",
          "Premier League",
          "Premier League",
          "Premier League",
          "UEFA Champions League",
          "Premier League",
          "Premier League",
          "Premier League",
          "UEFA Champions League",
          "Premier League",
          "Premier League",
          "Premier League",
          "Premier League",
          "Premier League",
          "FIFA Club World Cup",
          "Premier League",
          "Premier League",
          "FA Cup",
          "UEFA Champions League",
          "Premier League",
          "UEFA Champions League",
          "Premier League",
          "UEFA Champions League",
          "Premier League",
          "UEFA Champions League",
          "UEFA Champions League",
          "UEFA Champions League",
          "Premier League",
          "UEFA Champions League",
          "UEFA Champions League",
          "Premier League",
          "Premier League",
          "Premier League",
          "Premier League",
          "Premier League",
          "Premier League",
          "Premier League",
          "Premier League",
          "Premier League"
         ],
         "xaxis": "x",
         "yaxis": "y"
        },
        {
         "alignmentgroup": "True",
         "bingroup": "x",
         "hovertemplate": "Club=Real Madrid<br>Competition=%{x}<br>count=%{y}<extra></extra>",
         "legendgroup": "Real Madrid",
         "marker": {
          "color": "#00cc96",
          "pattern": {
           "shape": ""
          }
         },
         "name": "Real Madrid",
         "offsetgroup": "Real Madrid",
         "orientation": "v",
         "showlegend": true,
         "type": "histogram",
         "x": [
          "LaLiga",
          "UEFA Champions League",
          "UEFA Champions League",
          "LaLiga",
          "UEFA Champions League",
          "LaLiga",
          "LaLiga",
          "LaLiga",
          "UEFA Champions League",
          "LaLiga",
          "LaLiga",
          "LaLiga",
          "LaLiga",
          "LaLiga",
          "LaLiga",
          "LaLiga",
          "LaLiga",
          "LaLiga",
          "LaLiga",
          "UEFA Champions League",
          "LaLiga",
          "UEFA Champions League",
          "Copa del Rey",
          "Copa del Rey",
          "Copa del Rey",
          "LaLiga",
          "LaLiga",
          "LaLiga",
          "LaLiga",
          "Copa del Rey",
          "Copa del Rey",
          "LaLiga",
          "LaLiga",
          "LaLiga",
          "LaLiga",
          "UEFA Champions League",
          "LaLiga",
          "UEFA Champions League",
          "Copa del Rey",
          "LaLiga",
          "LaLiga",
          "LaLiga",
          "LaLiga",
          "LaLiga",
          "LaLiga",
          "LaLiga",
          "Supercopa",
          "LaLiga",
          "LaLiga",
          "LaLiga",
          "LaLiga",
          "UEFA Champions League",
          "LaLiga",
          "LaLiga",
          "LaLiga",
          "LaLiga",
          "LaLiga",
          "LaLiga",
          "LaLiga",
          "Copa del Rey",
          "LaLiga",
          "LaLiga",
          "Copa del Rey",
          "Copa del Rey",
          "LaLiga",
          "LaLiga",
          "LaLiga",
          "LaLiga",
          "UEFA Champions League",
          "LaLiga",
          "LaLiga",
          "UEFA Champions League",
          "UEFA Champions League",
          "LaLiga",
          "LaLiga",
          "LaLiga",
          "LaLiga",
          "UEFA Champions League",
          "LaLiga",
          "LaLiga",
          "UEFA Champions League",
          "LaLiga",
          "LaLiga",
          "LaLiga",
          "Supercopa",
          "Supercopa",
          "LaLiga",
          "UEFA Champions League",
          "LaLiga",
          "UEFA Champions League",
          "UEFA Champions League",
          "UEFA Champions League",
          "LaLiga",
          "LaLiga",
          "UEFA Champions League",
          "LaLiga",
          "LaLiga",
          "UEFA Champions League",
          "Copa del Rey",
          "LaLiga",
          "LaLiga",
          "Copa del Rey",
          "Copa del Rey",
          "Copa del Rey",
          "LaLiga",
          "LaLiga",
          "LaLiga",
          "LaLiga",
          "LaLiga",
          "LaLiga",
          "LaLiga",
          "UEFA Champions League",
          "UEFA Champions League",
          "LaLiga",
          "LaLiga",
          "UEFA Champions League",
          "LaLiga",
          "UEFA Champions League",
          "UEFA Champions League",
          "LaLiga",
          "UEFA Champions League",
          "LaLiga",
          "LaLiga",
          "LaLiga",
          "Copa del Rey",
          "LaLiga",
          "UEFA Champions League",
          "UEFA Champions League",
          "UEFA Champions League",
          "LaLiga",
          "UEFA Champions League",
          "UEFA Champions League",
          "LaLiga",
          "UEFA Champions League",
          "LaLiga",
          "LaLiga",
          "LaLiga",
          "LaLiga",
          "UEFA Champions League",
          "LaLiga",
          "LaLiga",
          "UEFA Champions League",
          "LaLiga",
          "LaLiga",
          "LaLiga",
          "LaLiga",
          "LaLiga",
          "UEFA Champions League",
          "UEFA Champions League",
          "LaLiga",
          "LaLiga",
          "LaLiga",
          "UEFA Champions League",
          "LaLiga",
          "UEFA Champions League",
          "LaLiga",
          "LaLiga",
          "UEFA Champions League",
          "LaLiga",
          "UEFA Super Cup",
          "UEFA Super Cup",
          "LaLiga",
          "UEFA Champions League",
          "LaLiga",
          "LaLiga",
          "LaLiga",
          "LaLiga",
          "LaLiga",
          "LaLiga",
          "LaLiga",
          "LaLiga",
          "LaLiga",
          "LaLiga",
          "UEFA Champions League",
          "LaLiga",
          "LaLiga",
          "LaLiga",
          "UEFA Champions League",
          "LaLiga",
          "LaLiga",
          "LaLiga",
          "Copa del Rey",
          "LaLiga",
          "LaLiga",
          "UEFA Champions League",
          "LaLiga",
          "UEFA Champions League",
          "UEFA Champions League",
          "LaLiga",
          "LaLiga",
          "LaLiga",
          "LaLiga",
          "LaLiga",
          "LaLiga",
          "LaLiga",
          "LaLiga",
          "LaLiga",
          "LaLiga",
          "UEFA Champions League",
          "LaLiga",
          "LaLiga",
          "LaLiga",
          "LaLiga",
          "LaLiga",
          "LaLiga",
          "LaLiga",
          "LaLiga",
          "UEFA Champions League",
          "UEFA Champions League",
          "LaLiga",
          "LaLiga",
          "LaLiga",
          "UEFA Champions League",
          "UEFA Champions League",
          "LaLiga",
          "UEFA Champions League",
          "UEFA Champions League",
          "LaLiga",
          "LaLiga",
          "LaLiga",
          "LaLiga",
          "LaLiga",
          "LaLiga",
          "LaLiga",
          "UEFA Champions League",
          "LaLiga",
          "LaLiga",
          "LaLiga",
          "LaLiga",
          "UEFA Champions League",
          "LaLiga",
          "LaLiga",
          "LaLiga",
          "UEFA Champions League",
          "UEFA Champions League",
          "LaLiga",
          "LaLiga",
          "LaLiga",
          "LaLiga",
          "LaLiga",
          "LaLiga",
          "UEFA Champions League",
          "LaLiga",
          "LaLiga",
          "LaLiga",
          "LaLiga",
          "LaLiga",
          "FIFA Club World Cup",
          "FIFA Club World Cup",
          "FIFA Club World Cup",
          "LaLiga",
          "LaLiga",
          "LaLiga",
          "LaLiga",
          "LaLiga",
          "LaLiga",
          "UEFA Champions League",
          "UEFA Champions League",
          "UEFA Champions League",
          "UEFA Champions League",
          "UEFA Champions League",
          "LaLiga",
          "UEFA Champions League",
          "UEFA Champions League",
          "UEFA Champions League",
          "LaLiga",
          "LaLiga",
          "LaLiga",
          "UEFA Champions League",
          "UEFA Champions League",
          "Supercopa",
          "UEFA Champions League",
          "UEFA Champions League",
          "UEFA Champions League",
          "LaLiga",
          "UEFA Champions League",
          "UEFA Champions League",
          "UEFA Champions League",
          "LaLiga",
          "FIFA Club World Cup",
          "LaLiga",
          "LaLiga",
          "LaLiga",
          "LaLiga",
          "LaLiga",
          "LaLiga",
          "LaLiga",
          "LaLiga",
          "LaLiga",
          "UEFA Champions League",
          "LaLiga",
          "LaLiga",
          "LaLiga",
          "LaLiga",
          "LaLiga",
          "UEFA Champions League",
          "UEFA Champions League",
          "LaLiga",
          "LaLiga",
          "LaLiga",
          "LaLiga"
         ],
         "xaxis": "x",
         "yaxis": "y"
        },
        {
         "alignmentgroup": "True",
         "bingroup": "x",
         "hovertemplate": "Club=Juventus FC<br>Competition=%{x}<br>count=%{y}<extra></extra>",
         "legendgroup": "Juventus FC",
         "marker": {
          "color": "#ab63fa",
          "pattern": {
           "shape": ""
          }
         },
         "name": "Juventus FC",
         "offsetgroup": "Juventus FC",
         "orientation": "v",
         "showlegend": true,
         "type": "histogram",
         "x": [
          "Serie A",
          "Serie A",
          "Serie A",
          "UEFA Champions League",
          "Serie A",
          "Serie A",
          "Serie A",
          "Supercoppa Italiana",
          "Serie A",
          "Serie A",
          "Serie A",
          "Serie A",
          "UEFA Champions League",
          "UEFA Champions League",
          "UEFA Champions League",
          "UEFA Champions League",
          "Serie A",
          "Serie A",
          "Serie A",
          "Serie A",
          "UEFA Champions League",
          "Serie A",
          "UEFA Champions League",
          "Serie A",
          "Serie A",
          "Serie A",
          "Serie A",
          "Serie A",
          "Italy Cup",
          "Serie A",
          "Serie A",
          "Serie A",
          "Serie A",
          "Serie A",
          "Serie A",
          "Serie A",
          "UEFA Champions League",
          "Serie A",
          "Serie A",
          "Serie A",
          "Serie A",
          "Serie A",
          "Serie A",
          "UEFA Champions League",
          "UEFA Champions League",
          "Serie A",
          "Serie A",
          "Serie A",
          "Serie A",
          "Serie A",
          "Serie A",
          "Serie A",
          "Serie A",
          "Serie A",
          "Serie A",
          "Serie A",
          "Serie A",
          "Serie A",
          "Serie A",
          "Serie A"
         ],
         "xaxis": "x",
         "yaxis": "y"
        }
       ],
       "layout": {
        "barmode": "relative",
        "height": 500,
        "legend": {
         "title": {
          "text": "Club"
         },
         "tracegroupgap": 0
        },
        "template": {
         "data": {
          "bar": [
           {
            "error_x": {
             "color": "#2a3f5f"
            },
            "error_y": {
             "color": "#2a3f5f"
            },
            "marker": {
             "line": {
              "color": "#E5ECF6",
              "width": 0.5
             },
             "pattern": {
              "fillmode": "overlay",
              "size": 10,
              "solidity": 0.2
             }
            },
            "type": "bar"
           }
          ],
          "barpolar": [
           {
            "marker": {
             "line": {
              "color": "#E5ECF6",
              "width": 0.5
             },
             "pattern": {
              "fillmode": "overlay",
              "size": 10,
              "solidity": 0.2
             }
            },
            "type": "barpolar"
           }
          ],
          "carpet": [
           {
            "aaxis": {
             "endlinecolor": "#2a3f5f",
             "gridcolor": "white",
             "linecolor": "white",
             "minorgridcolor": "white",
             "startlinecolor": "#2a3f5f"
            },
            "baxis": {
             "endlinecolor": "#2a3f5f",
             "gridcolor": "white",
             "linecolor": "white",
             "minorgridcolor": "white",
             "startlinecolor": "#2a3f5f"
            },
            "type": "carpet"
           }
          ],
          "choropleth": [
           {
            "colorbar": {
             "outlinewidth": 0,
             "ticks": ""
            },
            "type": "choropleth"
           }
          ],
          "contour": [
           {
            "colorbar": {
             "outlinewidth": 0,
             "ticks": ""
            },
            "colorscale": [
             [
              0,
              "#0d0887"
             ],
             [
              0.1111111111111111,
              "#46039f"
             ],
             [
              0.2222222222222222,
              "#7201a8"
             ],
             [
              0.3333333333333333,
              "#9c179e"
             ],
             [
              0.4444444444444444,
              "#bd3786"
             ],
             [
              0.5555555555555556,
              "#d8576b"
             ],
             [
              0.6666666666666666,
              "#ed7953"
             ],
             [
              0.7777777777777778,
              "#fb9f3a"
             ],
             [
              0.8888888888888888,
              "#fdca26"
             ],
             [
              1,
              "#f0f921"
             ]
            ],
            "type": "contour"
           }
          ],
          "contourcarpet": [
           {
            "colorbar": {
             "outlinewidth": 0,
             "ticks": ""
            },
            "type": "contourcarpet"
           }
          ],
          "heatmap": [
           {
            "colorbar": {
             "outlinewidth": 0,
             "ticks": ""
            },
            "colorscale": [
             [
              0,
              "#0d0887"
             ],
             [
              0.1111111111111111,
              "#46039f"
             ],
             [
              0.2222222222222222,
              "#7201a8"
             ],
             [
              0.3333333333333333,
              "#9c179e"
             ],
             [
              0.4444444444444444,
              "#bd3786"
             ],
             [
              0.5555555555555556,
              "#d8576b"
             ],
             [
              0.6666666666666666,
              "#ed7953"
             ],
             [
              0.7777777777777778,
              "#fb9f3a"
             ],
             [
              0.8888888888888888,
              "#fdca26"
             ],
             [
              1,
              "#f0f921"
             ]
            ],
            "type": "heatmap"
           }
          ],
          "heatmapgl": [
           {
            "colorbar": {
             "outlinewidth": 0,
             "ticks": ""
            },
            "colorscale": [
             [
              0,
              "#0d0887"
             ],
             [
              0.1111111111111111,
              "#46039f"
             ],
             [
              0.2222222222222222,
              "#7201a8"
             ],
             [
              0.3333333333333333,
              "#9c179e"
             ],
             [
              0.4444444444444444,
              "#bd3786"
             ],
             [
              0.5555555555555556,
              "#d8576b"
             ],
             [
              0.6666666666666666,
              "#ed7953"
             ],
             [
              0.7777777777777778,
              "#fb9f3a"
             ],
             [
              0.8888888888888888,
              "#fdca26"
             ],
             [
              1,
              "#f0f921"
             ]
            ],
            "type": "heatmapgl"
           }
          ],
          "histogram": [
           {
            "marker": {
             "pattern": {
              "fillmode": "overlay",
              "size": 10,
              "solidity": 0.2
             }
            },
            "type": "histogram"
           }
          ],
          "histogram2d": [
           {
            "colorbar": {
             "outlinewidth": 0,
             "ticks": ""
            },
            "colorscale": [
             [
              0,
              "#0d0887"
             ],
             [
              0.1111111111111111,
              "#46039f"
             ],
             [
              0.2222222222222222,
              "#7201a8"
             ],
             [
              0.3333333333333333,
              "#9c179e"
             ],
             [
              0.4444444444444444,
              "#bd3786"
             ],
             [
              0.5555555555555556,
              "#d8576b"
             ],
             [
              0.6666666666666666,
              "#ed7953"
             ],
             [
              0.7777777777777778,
              "#fb9f3a"
             ],
             [
              0.8888888888888888,
              "#fdca26"
             ],
             [
              1,
              "#f0f921"
             ]
            ],
            "type": "histogram2d"
           }
          ],
          "histogram2dcontour": [
           {
            "colorbar": {
             "outlinewidth": 0,
             "ticks": ""
            },
            "colorscale": [
             [
              0,
              "#0d0887"
             ],
             [
              0.1111111111111111,
              "#46039f"
             ],
             [
              0.2222222222222222,
              "#7201a8"
             ],
             [
              0.3333333333333333,
              "#9c179e"
             ],
             [
              0.4444444444444444,
              "#bd3786"
             ],
             [
              0.5555555555555556,
              "#d8576b"
             ],
             [
              0.6666666666666666,
              "#ed7953"
             ],
             [
              0.7777777777777778,
              "#fb9f3a"
             ],
             [
              0.8888888888888888,
              "#fdca26"
             ],
             [
              1,
              "#f0f921"
             ]
            ],
            "type": "histogram2dcontour"
           }
          ],
          "mesh3d": [
           {
            "colorbar": {
             "outlinewidth": 0,
             "ticks": ""
            },
            "type": "mesh3d"
           }
          ],
          "parcoords": [
           {
            "line": {
             "colorbar": {
              "outlinewidth": 0,
              "ticks": ""
             }
            },
            "type": "parcoords"
           }
          ],
          "pie": [
           {
            "automargin": true,
            "type": "pie"
           }
          ],
          "scatter": [
           {
            "fillpattern": {
             "fillmode": "overlay",
             "size": 10,
             "solidity": 0.2
            },
            "type": "scatter"
           }
          ],
          "scatter3d": [
           {
            "line": {
             "colorbar": {
              "outlinewidth": 0,
              "ticks": ""
             }
            },
            "marker": {
             "colorbar": {
              "outlinewidth": 0,
              "ticks": ""
             }
            },
            "type": "scatter3d"
           }
          ],
          "scattercarpet": [
           {
            "marker": {
             "colorbar": {
              "outlinewidth": 0,
              "ticks": ""
             }
            },
            "type": "scattercarpet"
           }
          ],
          "scattergeo": [
           {
            "marker": {
             "colorbar": {
              "outlinewidth": 0,
              "ticks": ""
             }
            },
            "type": "scattergeo"
           }
          ],
          "scattergl": [
           {
            "marker": {
             "colorbar": {
              "outlinewidth": 0,
              "ticks": ""
             }
            },
            "type": "scattergl"
           }
          ],
          "scattermapbox": [
           {
            "marker": {
             "colorbar": {
              "outlinewidth": 0,
              "ticks": ""
             }
            },
            "type": "scattermapbox"
           }
          ],
          "scatterpolar": [
           {
            "marker": {
             "colorbar": {
              "outlinewidth": 0,
              "ticks": ""
             }
            },
            "type": "scatterpolar"
           }
          ],
          "scatterpolargl": [
           {
            "marker": {
             "colorbar": {
              "outlinewidth": 0,
              "ticks": ""
             }
            },
            "type": "scatterpolargl"
           }
          ],
          "scatterternary": [
           {
            "marker": {
             "colorbar": {
              "outlinewidth": 0,
              "ticks": ""
             }
            },
            "type": "scatterternary"
           }
          ],
          "surface": [
           {
            "colorbar": {
             "outlinewidth": 0,
             "ticks": ""
            },
            "colorscale": [
             [
              0,
              "#0d0887"
             ],
             [
              0.1111111111111111,
              "#46039f"
             ],
             [
              0.2222222222222222,
              "#7201a8"
             ],
             [
              0.3333333333333333,
              "#9c179e"
             ],
             [
              0.4444444444444444,
              "#bd3786"
             ],
             [
              0.5555555555555556,
              "#d8576b"
             ],
             [
              0.6666666666666666,
              "#ed7953"
             ],
             [
              0.7777777777777778,
              "#fb9f3a"
             ],
             [
              0.8888888888888888,
              "#fdca26"
             ],
             [
              1,
              "#f0f921"
             ]
            ],
            "type": "surface"
           }
          ],
          "table": [
           {
            "cells": {
             "fill": {
              "color": "#EBF0F8"
             },
             "line": {
              "color": "white"
             }
            },
            "header": {
             "fill": {
              "color": "#C8D4E3"
             },
             "line": {
              "color": "white"
             }
            },
            "type": "table"
           }
          ]
         },
         "layout": {
          "annotationdefaults": {
           "arrowcolor": "#2a3f5f",
           "arrowhead": 0,
           "arrowwidth": 1
          },
          "autotypenumbers": "strict",
          "coloraxis": {
           "colorbar": {
            "outlinewidth": 0,
            "ticks": ""
           }
          },
          "colorscale": {
           "diverging": [
            [
             0,
             "#8e0152"
            ],
            [
             0.1,
             "#c51b7d"
            ],
            [
             0.2,
             "#de77ae"
            ],
            [
             0.3,
             "#f1b6da"
            ],
            [
             0.4,
             "#fde0ef"
            ],
            [
             0.5,
             "#f7f7f7"
            ],
            [
             0.6,
             "#e6f5d0"
            ],
            [
             0.7,
             "#b8e186"
            ],
            [
             0.8,
             "#7fbc41"
            ],
            [
             0.9,
             "#4d9221"
            ],
            [
             1,
             "#276419"
            ]
           ],
           "sequential": [
            [
             0,
             "#0d0887"
            ],
            [
             0.1111111111111111,
             "#46039f"
            ],
            [
             0.2222222222222222,
             "#7201a8"
            ],
            [
             0.3333333333333333,
             "#9c179e"
            ],
            [
             0.4444444444444444,
             "#bd3786"
            ],
            [
             0.5555555555555556,
             "#d8576b"
            ],
            [
             0.6666666666666666,
             "#ed7953"
            ],
            [
             0.7777777777777778,
             "#fb9f3a"
            ],
            [
             0.8888888888888888,
             "#fdca26"
            ],
            [
             1,
             "#f0f921"
            ]
           ],
           "sequentialminus": [
            [
             0,
             "#0d0887"
            ],
            [
             0.1111111111111111,
             "#46039f"
            ],
            [
             0.2222222222222222,
             "#7201a8"
            ],
            [
             0.3333333333333333,
             "#9c179e"
            ],
            [
             0.4444444444444444,
             "#bd3786"
            ],
            [
             0.5555555555555556,
             "#d8576b"
            ],
            [
             0.6666666666666666,
             "#ed7953"
            ],
            [
             0.7777777777777778,
             "#fb9f3a"
            ],
            [
             0.8888888888888888,
             "#fdca26"
            ],
            [
             1,
             "#f0f921"
            ]
           ]
          },
          "colorway": [
           "#636efa",
           "#EF553B",
           "#00cc96",
           "#ab63fa",
           "#FFA15A",
           "#19d3f3",
           "#FF6692",
           "#B6E880",
           "#FF97FF",
           "#FECB52"
          ],
          "font": {
           "color": "#2a3f5f"
          },
          "geo": {
           "bgcolor": "white",
           "lakecolor": "white",
           "landcolor": "#E5ECF6",
           "showlakes": true,
           "showland": true,
           "subunitcolor": "white"
          },
          "hoverlabel": {
           "align": "left"
          },
          "hovermode": "closest",
          "mapbox": {
           "style": "light"
          },
          "paper_bgcolor": "white",
          "plot_bgcolor": "#E5ECF6",
          "polar": {
           "angularaxis": {
            "gridcolor": "white",
            "linecolor": "white",
            "ticks": ""
           },
           "bgcolor": "#E5ECF6",
           "radialaxis": {
            "gridcolor": "white",
            "linecolor": "white",
            "ticks": ""
           }
          },
          "scene": {
           "xaxis": {
            "backgroundcolor": "#E5ECF6",
            "gridcolor": "white",
            "gridwidth": 2,
            "linecolor": "white",
            "showbackground": true,
            "ticks": "",
            "zerolinecolor": "white"
           },
           "yaxis": {
            "backgroundcolor": "#E5ECF6",
            "gridcolor": "white",
            "gridwidth": 2,
            "linecolor": "white",
            "showbackground": true,
            "ticks": "",
            "zerolinecolor": "white"
           },
           "zaxis": {
            "backgroundcolor": "#E5ECF6",
            "gridcolor": "white",
            "gridwidth": 2,
            "linecolor": "white",
            "showbackground": true,
            "ticks": "",
            "zerolinecolor": "white"
           }
          },
          "shapedefaults": {
           "line": {
            "color": "#2a3f5f"
           }
          },
          "ternary": {
           "aaxis": {
            "gridcolor": "white",
            "linecolor": "white",
            "ticks": ""
           },
           "baxis": {
            "gridcolor": "white",
            "linecolor": "white",
            "ticks": ""
           },
           "bgcolor": "#E5ECF6",
           "caxis": {
            "gridcolor": "white",
            "linecolor": "white",
            "ticks": ""
           }
          },
          "title": {
           "x": 0.05
          },
          "xaxis": {
           "automargin": true,
           "gridcolor": "white",
           "linecolor": "white",
           "ticks": "",
           "title": {
            "standoff": 15
           },
           "zerolinecolor": "white",
           "zerolinewidth": 2
          },
          "yaxis": {
           "automargin": true,
           "gridcolor": "white",
           "linecolor": "white",
           "ticks": "",
           "title": {
            "standoff": 15
           },
           "zerolinecolor": "white",
           "zerolinewidth": 2
          }
         }
        },
        "title": {
         "text": "Goals per competition"
        },
        "xaxis": {
         "anchor": "y",
         "domain": [
          0,
          1
         ],
         "title": {
          "text": "Competition"
         }
        },
        "yaxis": {
         "anchor": "x",
         "domain": [
          0,
          1
         ],
         "title": {
          "text": "count"
         }
        }
       }
      },
      "text/html": [
       "<div>                            <div id=\"c827e6bd-5e6a-4951-9fb6-223ba2678aa7\" class=\"plotly-graph-div\" style=\"height:500px; width:100%;\"></div>            <script type=\"text/javascript\">                require([\"plotly\"], function(Plotly) {                    window.PLOTLYENV=window.PLOTLYENV || {};                                    if (document.getElementById(\"c827e6bd-5e6a-4951-9fb6-223ba2678aa7\")) {                    Plotly.newPlot(                        \"c827e6bd-5e6a-4951-9fb6-223ba2678aa7\",                        [{\"alignmentgroup\":\"True\",\"bingroup\":\"x\",\"hovertemplate\":\"Club=Sporting CP<br>Competition=%{x}<br>count=%{y}<extra></extra>\",\"legendgroup\":\"Sporting CP\",\"marker\":{\"color\":\"#636efa\",\"pattern\":{\"shape\":\"\"}},\"name\":\"Sporting CP\",\"offsetgroup\":\"Sporting CP\",\"orientation\":\"v\",\"showlegend\":true,\"x\":[\"Liga Portugal\"],\"xaxis\":\"x\",\"yaxis\":\"y\",\"type\":\"histogram\"},{\"alignmentgroup\":\"True\",\"bingroup\":\"x\",\"hovertemplate\":\"Club=Manchester United<br>Competition=%{x}<br>count=%{y}<extra></extra>\",\"legendgroup\":\"Manchester United\",\"marker\":{\"color\":\"#EF553B\",\"pattern\":{\"shape\":\"\"}},\"name\":\"Manchester United\",\"offsetgroup\":\"Manchester United\",\"orientation\":\"v\",\"showlegend\":true,\"x\":[\"FA Cup\",\"Premier League\",\"Premier League\",\"FA Cup\",\"Premier League\",\"Premier League\",\"UEFA Champions League\",\"UEFA Champions League\",\"UEFA Champions League\",\"UEFA Champions League\",\"Premier League\",\"Premier League\",\"UEFA Champions League\",\"UEFA Champions League\",\"Premier League\",\"Premier League\",\"Premier League\",\"Premier League\",\"Premier League\",\"FA Cup\",\"Premier League\",\"Premier League\",\"Premier League\",\"UEFA Champions League\",\"Premier League\",\"Premier League\",\"Premier League\",\"UEFA Champions League\",\"Premier League\",\"Premier League\",\"Premier League\",\"Premier League\",\"Premier League\",\"FIFA Club World Cup\",\"Premier League\",\"Premier League\",\"FA Cup\",\"UEFA Champions League\",\"Premier League\",\"UEFA Champions League\",\"Premier League\",\"UEFA Champions League\",\"Premier League\",\"UEFA Champions League\",\"UEFA Champions League\",\"UEFA Champions League\",\"Premier League\",\"UEFA Champions League\",\"UEFA Champions League\",\"Premier League\",\"Premier League\",\"Premier League\",\"Premier League\",\"Premier League\",\"Premier League\",\"Premier League\",\"Premier League\",\"Premier League\"],\"xaxis\":\"x\",\"yaxis\":\"y\",\"type\":\"histogram\"},{\"alignmentgroup\":\"True\",\"bingroup\":\"x\",\"hovertemplate\":\"Club=Real Madrid<br>Competition=%{x}<br>count=%{y}<extra></extra>\",\"legendgroup\":\"Real Madrid\",\"marker\":{\"color\":\"#00cc96\",\"pattern\":{\"shape\":\"\"}},\"name\":\"Real Madrid\",\"offsetgroup\":\"Real Madrid\",\"orientation\":\"v\",\"showlegend\":true,\"x\":[\"LaLiga\",\"UEFA Champions League\",\"UEFA Champions League\",\"LaLiga\",\"UEFA Champions League\",\"LaLiga\",\"LaLiga\",\"LaLiga\",\"UEFA Champions League\",\"LaLiga\",\"LaLiga\",\"LaLiga\",\"LaLiga\",\"LaLiga\",\"LaLiga\",\"LaLiga\",\"LaLiga\",\"LaLiga\",\"LaLiga\",\"UEFA Champions League\",\"LaLiga\",\"UEFA Champions League\",\"Copa del Rey\",\"Copa del Rey\",\"Copa del Rey\",\"LaLiga\",\"LaLiga\",\"LaLiga\",\"LaLiga\",\"Copa del Rey\",\"Copa del Rey\",\"LaLiga\",\"LaLiga\",\"LaLiga\",\"LaLiga\",\"UEFA Champions League\",\"LaLiga\",\"UEFA Champions League\",\"Copa del Rey\",\"LaLiga\",\"LaLiga\",\"LaLiga\",\"LaLiga\",\"LaLiga\",\"LaLiga\",\"LaLiga\",\"Supercopa\",\"LaLiga\",\"LaLiga\",\"LaLiga\",\"LaLiga\",\"UEFA Champions League\",\"LaLiga\",\"LaLiga\",\"LaLiga\",\"LaLiga\",\"LaLiga\",\"LaLiga\",\"LaLiga\",\"Copa del Rey\",\"LaLiga\",\"LaLiga\",\"Copa del Rey\",\"Copa del Rey\",\"LaLiga\",\"LaLiga\",\"LaLiga\",\"LaLiga\",\"UEFA Champions League\",\"LaLiga\",\"LaLiga\",\"UEFA Champions League\",\"UEFA Champions League\",\"LaLiga\",\"LaLiga\",\"LaLiga\",\"LaLiga\",\"UEFA Champions League\",\"LaLiga\",\"LaLiga\",\"UEFA Champions League\",\"LaLiga\",\"LaLiga\",\"LaLiga\",\"Supercopa\",\"Supercopa\",\"LaLiga\",\"UEFA Champions League\",\"LaLiga\",\"UEFA Champions League\",\"UEFA Champions League\",\"UEFA Champions League\",\"LaLiga\",\"LaLiga\",\"UEFA Champions League\",\"LaLiga\",\"LaLiga\",\"UEFA Champions League\",\"Copa del Rey\",\"LaLiga\",\"LaLiga\",\"Copa del Rey\",\"Copa del Rey\",\"Copa del Rey\",\"LaLiga\",\"LaLiga\",\"LaLiga\",\"LaLiga\",\"LaLiga\",\"LaLiga\",\"LaLiga\",\"UEFA Champions League\",\"UEFA Champions League\",\"LaLiga\",\"LaLiga\",\"UEFA Champions League\",\"LaLiga\",\"UEFA Champions League\",\"UEFA Champions League\",\"LaLiga\",\"UEFA Champions League\",\"LaLiga\",\"LaLiga\",\"LaLiga\",\"Copa del Rey\",\"LaLiga\",\"UEFA Champions League\",\"UEFA Champions League\",\"UEFA Champions League\",\"LaLiga\",\"UEFA Champions League\",\"UEFA Champions League\",\"LaLiga\",\"UEFA Champions League\",\"LaLiga\",\"LaLiga\",\"LaLiga\",\"LaLiga\",\"UEFA Champions League\",\"LaLiga\",\"LaLiga\",\"UEFA Champions League\",\"LaLiga\",\"LaLiga\",\"LaLiga\",\"LaLiga\",\"LaLiga\",\"UEFA Champions League\",\"UEFA Champions League\",\"LaLiga\",\"LaLiga\",\"LaLiga\",\"UEFA Champions League\",\"LaLiga\",\"UEFA Champions League\",\"LaLiga\",\"LaLiga\",\"UEFA Champions League\",\"LaLiga\",\"UEFA Super Cup\",\"UEFA Super Cup\",\"LaLiga\",\"UEFA Champions League\",\"LaLiga\",\"LaLiga\",\"LaLiga\",\"LaLiga\",\"LaLiga\",\"LaLiga\",\"LaLiga\",\"LaLiga\",\"LaLiga\",\"LaLiga\",\"UEFA Champions League\",\"LaLiga\",\"LaLiga\",\"LaLiga\",\"UEFA Champions League\",\"LaLiga\",\"LaLiga\",\"LaLiga\",\"Copa del Rey\",\"LaLiga\",\"LaLiga\",\"UEFA Champions League\",\"LaLiga\",\"UEFA Champions League\",\"UEFA Champions League\",\"LaLiga\",\"LaLiga\",\"LaLiga\",\"LaLiga\",\"LaLiga\",\"LaLiga\",\"LaLiga\",\"LaLiga\",\"LaLiga\",\"LaLiga\",\"UEFA Champions League\",\"LaLiga\",\"LaLiga\",\"LaLiga\",\"LaLiga\",\"LaLiga\",\"LaLiga\",\"LaLiga\",\"LaLiga\",\"UEFA Champions League\",\"UEFA Champions League\",\"LaLiga\",\"LaLiga\",\"LaLiga\",\"UEFA Champions League\",\"UEFA Champions League\",\"LaLiga\",\"UEFA Champions League\",\"UEFA Champions League\",\"LaLiga\",\"LaLiga\",\"LaLiga\",\"LaLiga\",\"LaLiga\",\"LaLiga\",\"LaLiga\",\"UEFA Champions League\",\"LaLiga\",\"LaLiga\",\"LaLiga\",\"LaLiga\",\"UEFA Champions League\",\"LaLiga\",\"LaLiga\",\"LaLiga\",\"UEFA Champions League\",\"UEFA Champions League\",\"LaLiga\",\"LaLiga\",\"LaLiga\",\"LaLiga\",\"LaLiga\",\"LaLiga\",\"UEFA Champions League\",\"LaLiga\",\"LaLiga\",\"LaLiga\",\"LaLiga\",\"LaLiga\",\"FIFA Club World Cup\",\"FIFA Club World Cup\",\"FIFA Club World Cup\",\"LaLiga\",\"LaLiga\",\"LaLiga\",\"LaLiga\",\"LaLiga\",\"LaLiga\",\"UEFA Champions League\",\"UEFA Champions League\",\"UEFA Champions League\",\"UEFA Champions League\",\"UEFA Champions League\",\"LaLiga\",\"UEFA Champions League\",\"UEFA Champions League\",\"UEFA Champions League\",\"LaLiga\",\"LaLiga\",\"LaLiga\",\"UEFA Champions League\",\"UEFA Champions League\",\"Supercopa\",\"UEFA Champions League\",\"UEFA Champions League\",\"UEFA Champions League\",\"LaLiga\",\"UEFA Champions League\",\"UEFA Champions League\",\"UEFA Champions League\",\"LaLiga\",\"FIFA Club World Cup\",\"LaLiga\",\"LaLiga\",\"LaLiga\",\"LaLiga\",\"LaLiga\",\"LaLiga\",\"LaLiga\",\"LaLiga\",\"LaLiga\",\"UEFA Champions League\",\"LaLiga\",\"LaLiga\",\"LaLiga\",\"LaLiga\",\"LaLiga\",\"UEFA Champions League\",\"UEFA Champions League\",\"LaLiga\",\"LaLiga\",\"LaLiga\",\"LaLiga\"],\"xaxis\":\"x\",\"yaxis\":\"y\",\"type\":\"histogram\"},{\"alignmentgroup\":\"True\",\"bingroup\":\"x\",\"hovertemplate\":\"Club=Juventus FC<br>Competition=%{x}<br>count=%{y}<extra></extra>\",\"legendgroup\":\"Juventus FC\",\"marker\":{\"color\":\"#ab63fa\",\"pattern\":{\"shape\":\"\"}},\"name\":\"Juventus FC\",\"offsetgroup\":\"Juventus FC\",\"orientation\":\"v\",\"showlegend\":true,\"x\":[\"Serie A\",\"Serie A\",\"Serie A\",\"UEFA Champions League\",\"Serie A\",\"Serie A\",\"Serie A\",\"Supercoppa Italiana\",\"Serie A\",\"Serie A\",\"Serie A\",\"Serie A\",\"UEFA Champions League\",\"UEFA Champions League\",\"UEFA Champions League\",\"UEFA Champions League\",\"Serie A\",\"Serie A\",\"Serie A\",\"Serie A\",\"UEFA Champions League\",\"Serie A\",\"UEFA Champions League\",\"Serie A\",\"Serie A\",\"Serie A\",\"Serie A\",\"Serie A\",\"Italy Cup\",\"Serie A\",\"Serie A\",\"Serie A\",\"Serie A\",\"Serie A\",\"Serie A\",\"Serie A\",\"UEFA Champions League\",\"Serie A\",\"Serie A\",\"Serie A\",\"Serie A\",\"Serie A\",\"Serie A\",\"UEFA Champions League\",\"UEFA Champions League\",\"Serie A\",\"Serie A\",\"Serie A\",\"Serie A\",\"Serie A\",\"Serie A\",\"Serie A\",\"Serie A\",\"Serie A\",\"Serie A\",\"Serie A\",\"Serie A\",\"Serie A\",\"Serie A\",\"Serie A\"],\"xaxis\":\"x\",\"yaxis\":\"y\",\"type\":\"histogram\"}],                        {\"template\":{\"data\":{\"histogram2dcontour\":[{\"type\":\"histogram2dcontour\",\"colorbar\":{\"outlinewidth\":0,\"ticks\":\"\"},\"colorscale\":[[0.0,\"#0d0887\"],[0.1111111111111111,\"#46039f\"],[0.2222222222222222,\"#7201a8\"],[0.3333333333333333,\"#9c179e\"],[0.4444444444444444,\"#bd3786\"],[0.5555555555555556,\"#d8576b\"],[0.6666666666666666,\"#ed7953\"],[0.7777777777777778,\"#fb9f3a\"],[0.8888888888888888,\"#fdca26\"],[1.0,\"#f0f921\"]]}],\"choropleth\":[{\"type\":\"choropleth\",\"colorbar\":{\"outlinewidth\":0,\"ticks\":\"\"}}],\"histogram2d\":[{\"type\":\"histogram2d\",\"colorbar\":{\"outlinewidth\":0,\"ticks\":\"\"},\"colorscale\":[[0.0,\"#0d0887\"],[0.1111111111111111,\"#46039f\"],[0.2222222222222222,\"#7201a8\"],[0.3333333333333333,\"#9c179e\"],[0.4444444444444444,\"#bd3786\"],[0.5555555555555556,\"#d8576b\"],[0.6666666666666666,\"#ed7953\"],[0.7777777777777778,\"#fb9f3a\"],[0.8888888888888888,\"#fdca26\"],[1.0,\"#f0f921\"]]}],\"heatmap\":[{\"type\":\"heatmap\",\"colorbar\":{\"outlinewidth\":0,\"ticks\":\"\"},\"colorscale\":[[0.0,\"#0d0887\"],[0.1111111111111111,\"#46039f\"],[0.2222222222222222,\"#7201a8\"],[0.3333333333333333,\"#9c179e\"],[0.4444444444444444,\"#bd3786\"],[0.5555555555555556,\"#d8576b\"],[0.6666666666666666,\"#ed7953\"],[0.7777777777777778,\"#fb9f3a\"],[0.8888888888888888,\"#fdca26\"],[1.0,\"#f0f921\"]]}],\"heatmapgl\":[{\"type\":\"heatmapgl\",\"colorbar\":{\"outlinewidth\":0,\"ticks\":\"\"},\"colorscale\":[[0.0,\"#0d0887\"],[0.1111111111111111,\"#46039f\"],[0.2222222222222222,\"#7201a8\"],[0.3333333333333333,\"#9c179e\"],[0.4444444444444444,\"#bd3786\"],[0.5555555555555556,\"#d8576b\"],[0.6666666666666666,\"#ed7953\"],[0.7777777777777778,\"#fb9f3a\"],[0.8888888888888888,\"#fdca26\"],[1.0,\"#f0f921\"]]}],\"contourcarpet\":[{\"type\":\"contourcarpet\",\"colorbar\":{\"outlinewidth\":0,\"ticks\":\"\"}}],\"contour\":[{\"type\":\"contour\",\"colorbar\":{\"outlinewidth\":0,\"ticks\":\"\"},\"colorscale\":[[0.0,\"#0d0887\"],[0.1111111111111111,\"#46039f\"],[0.2222222222222222,\"#7201a8\"],[0.3333333333333333,\"#9c179e\"],[0.4444444444444444,\"#bd3786\"],[0.5555555555555556,\"#d8576b\"],[0.6666666666666666,\"#ed7953\"],[0.7777777777777778,\"#fb9f3a\"],[0.8888888888888888,\"#fdca26\"],[1.0,\"#f0f921\"]]}],\"surface\":[{\"type\":\"surface\",\"colorbar\":{\"outlinewidth\":0,\"ticks\":\"\"},\"colorscale\":[[0.0,\"#0d0887\"],[0.1111111111111111,\"#46039f\"],[0.2222222222222222,\"#7201a8\"],[0.3333333333333333,\"#9c179e\"],[0.4444444444444444,\"#bd3786\"],[0.5555555555555556,\"#d8576b\"],[0.6666666666666666,\"#ed7953\"],[0.7777777777777778,\"#fb9f3a\"],[0.8888888888888888,\"#fdca26\"],[1.0,\"#f0f921\"]]}],\"mesh3d\":[{\"type\":\"mesh3d\",\"colorbar\":{\"outlinewidth\":0,\"ticks\":\"\"}}],\"scatter\":[{\"fillpattern\":{\"fillmode\":\"overlay\",\"size\":10,\"solidity\":0.2},\"type\":\"scatter\"}],\"parcoords\":[{\"type\":\"parcoords\",\"line\":{\"colorbar\":{\"outlinewidth\":0,\"ticks\":\"\"}}}],\"scatterpolargl\":[{\"type\":\"scatterpolargl\",\"marker\":{\"colorbar\":{\"outlinewidth\":0,\"ticks\":\"\"}}}],\"bar\":[{\"error_x\":{\"color\":\"#2a3f5f\"},\"error_y\":{\"color\":\"#2a3f5f\"},\"marker\":{\"line\":{\"color\":\"#E5ECF6\",\"width\":0.5},\"pattern\":{\"fillmode\":\"overlay\",\"size\":10,\"solidity\":0.2}},\"type\":\"bar\"}],\"scattergeo\":[{\"type\":\"scattergeo\",\"marker\":{\"colorbar\":{\"outlinewidth\":0,\"ticks\":\"\"}}}],\"scatterpolar\":[{\"type\":\"scatterpolar\",\"marker\":{\"colorbar\":{\"outlinewidth\":0,\"ticks\":\"\"}}}],\"histogram\":[{\"marker\":{\"pattern\":{\"fillmode\":\"overlay\",\"size\":10,\"solidity\":0.2}},\"type\":\"histogram\"}],\"scattergl\":[{\"type\":\"scattergl\",\"marker\":{\"colorbar\":{\"outlinewidth\":0,\"ticks\":\"\"}}}],\"scatter3d\":[{\"type\":\"scatter3d\",\"line\":{\"colorbar\":{\"outlinewidth\":0,\"ticks\":\"\"}},\"marker\":{\"colorbar\":{\"outlinewidth\":0,\"ticks\":\"\"}}}],\"scattermapbox\":[{\"type\":\"scattermapbox\",\"marker\":{\"colorbar\":{\"outlinewidth\":0,\"ticks\":\"\"}}}],\"scatterternary\":[{\"type\":\"scatterternary\",\"marker\":{\"colorbar\":{\"outlinewidth\":0,\"ticks\":\"\"}}}],\"scattercarpet\":[{\"type\":\"scattercarpet\",\"marker\":{\"colorbar\":{\"outlinewidth\":0,\"ticks\":\"\"}}}],\"carpet\":[{\"aaxis\":{\"endlinecolor\":\"#2a3f5f\",\"gridcolor\":\"white\",\"linecolor\":\"white\",\"minorgridcolor\":\"white\",\"startlinecolor\":\"#2a3f5f\"},\"baxis\":{\"endlinecolor\":\"#2a3f5f\",\"gridcolor\":\"white\",\"linecolor\":\"white\",\"minorgridcolor\":\"white\",\"startlinecolor\":\"#2a3f5f\"},\"type\":\"carpet\"}],\"table\":[{\"cells\":{\"fill\":{\"color\":\"#EBF0F8\"},\"line\":{\"color\":\"white\"}},\"header\":{\"fill\":{\"color\":\"#C8D4E3\"},\"line\":{\"color\":\"white\"}},\"type\":\"table\"}],\"barpolar\":[{\"marker\":{\"line\":{\"color\":\"#E5ECF6\",\"width\":0.5},\"pattern\":{\"fillmode\":\"overlay\",\"size\":10,\"solidity\":0.2}},\"type\":\"barpolar\"}],\"pie\":[{\"automargin\":true,\"type\":\"pie\"}]},\"layout\":{\"autotypenumbers\":\"strict\",\"colorway\":[\"#636efa\",\"#EF553B\",\"#00cc96\",\"#ab63fa\",\"#FFA15A\",\"#19d3f3\",\"#FF6692\",\"#B6E880\",\"#FF97FF\",\"#FECB52\"],\"font\":{\"color\":\"#2a3f5f\"},\"hovermode\":\"closest\",\"hoverlabel\":{\"align\":\"left\"},\"paper_bgcolor\":\"white\",\"plot_bgcolor\":\"#E5ECF6\",\"polar\":{\"bgcolor\":\"#E5ECF6\",\"angularaxis\":{\"gridcolor\":\"white\",\"linecolor\":\"white\",\"ticks\":\"\"},\"radialaxis\":{\"gridcolor\":\"white\",\"linecolor\":\"white\",\"ticks\":\"\"}},\"ternary\":{\"bgcolor\":\"#E5ECF6\",\"aaxis\":{\"gridcolor\":\"white\",\"linecolor\":\"white\",\"ticks\":\"\"},\"baxis\":{\"gridcolor\":\"white\",\"linecolor\":\"white\",\"ticks\":\"\"},\"caxis\":{\"gridcolor\":\"white\",\"linecolor\":\"white\",\"ticks\":\"\"}},\"coloraxis\":{\"colorbar\":{\"outlinewidth\":0,\"ticks\":\"\"}},\"colorscale\":{\"sequential\":[[0.0,\"#0d0887\"],[0.1111111111111111,\"#46039f\"],[0.2222222222222222,\"#7201a8\"],[0.3333333333333333,\"#9c179e\"],[0.4444444444444444,\"#bd3786\"],[0.5555555555555556,\"#d8576b\"],[0.6666666666666666,\"#ed7953\"],[0.7777777777777778,\"#fb9f3a\"],[0.8888888888888888,\"#fdca26\"],[1.0,\"#f0f921\"]],\"sequentialminus\":[[0.0,\"#0d0887\"],[0.1111111111111111,\"#46039f\"],[0.2222222222222222,\"#7201a8\"],[0.3333333333333333,\"#9c179e\"],[0.4444444444444444,\"#bd3786\"],[0.5555555555555556,\"#d8576b\"],[0.6666666666666666,\"#ed7953\"],[0.7777777777777778,\"#fb9f3a\"],[0.8888888888888888,\"#fdca26\"],[1.0,\"#f0f921\"]],\"diverging\":[[0,\"#8e0152\"],[0.1,\"#c51b7d\"],[0.2,\"#de77ae\"],[0.3,\"#f1b6da\"],[0.4,\"#fde0ef\"],[0.5,\"#f7f7f7\"],[0.6,\"#e6f5d0\"],[0.7,\"#b8e186\"],[0.8,\"#7fbc41\"],[0.9,\"#4d9221\"],[1,\"#276419\"]]},\"xaxis\":{\"gridcolor\":\"white\",\"linecolor\":\"white\",\"ticks\":\"\",\"title\":{\"standoff\":15},\"zerolinecolor\":\"white\",\"automargin\":true,\"zerolinewidth\":2},\"yaxis\":{\"gridcolor\":\"white\",\"linecolor\":\"white\",\"ticks\":\"\",\"title\":{\"standoff\":15},\"zerolinecolor\":\"white\",\"automargin\":true,\"zerolinewidth\":2},\"scene\":{\"xaxis\":{\"backgroundcolor\":\"#E5ECF6\",\"gridcolor\":\"white\",\"linecolor\":\"white\",\"showbackground\":true,\"ticks\":\"\",\"zerolinecolor\":\"white\",\"gridwidth\":2},\"yaxis\":{\"backgroundcolor\":\"#E5ECF6\",\"gridcolor\":\"white\",\"linecolor\":\"white\",\"showbackground\":true,\"ticks\":\"\",\"zerolinecolor\":\"white\",\"gridwidth\":2},\"zaxis\":{\"backgroundcolor\":\"#E5ECF6\",\"gridcolor\":\"white\",\"linecolor\":\"white\",\"showbackground\":true,\"ticks\":\"\",\"zerolinecolor\":\"white\",\"gridwidth\":2}},\"shapedefaults\":{\"line\":{\"color\":\"#2a3f5f\"}},\"annotationdefaults\":{\"arrowcolor\":\"#2a3f5f\",\"arrowhead\":0,\"arrowwidth\":1},\"geo\":{\"bgcolor\":\"white\",\"landcolor\":\"#E5ECF6\",\"subunitcolor\":\"white\",\"showland\":true,\"showlakes\":true,\"lakecolor\":\"white\"},\"title\":{\"x\":0.05},\"mapbox\":{\"style\":\"light\"}}},\"xaxis\":{\"anchor\":\"y\",\"domain\":[0.0,1.0],\"title\":{\"text\":\"Competition\"}},\"yaxis\":{\"anchor\":\"x\",\"domain\":[0.0,1.0],\"title\":{\"text\":\"count\"}},\"legend\":{\"title\":{\"text\":\"Club\"},\"tracegroupgap\":0},\"title\":{\"text\":\"Goals per competition\"},\"barmode\":\"relative\",\"height\":500},                        {\"responsive\": true}                    ).then(function(){\n",
       "                            \n",
       "var gd = document.getElementById('c827e6bd-5e6a-4951-9fb6-223ba2678aa7');\n",
       "var x = new MutationObserver(function (mutations, observer) {{\n",
       "        var display = window.getComputedStyle(gd).display;\n",
       "        if (!display || display === 'none') {{\n",
       "            console.log([gd, 'removed!']);\n",
       "            Plotly.purge(gd);\n",
       "            observer.disconnect();\n",
       "        }}\n",
       "}});\n",
       "\n",
       "// Listen for the removal of the full notebook cells\n",
       "var notebookContainer = gd.closest('#notebook-container');\n",
       "if (notebookContainer) {{\n",
       "    x.observe(notebookContainer, {childList: true});\n",
       "}}\n",
       "\n",
       "// Listen for the clearing of the current output cell\n",
       "var outputEl = gd.closest('.output');\n",
       "if (outputEl) {{\n",
       "    x.observe(outputEl, {childList: true});\n",
       "}}\n",
       "\n",
       "                        })                };                });            </script>        </div>"
      ]
     },
     "metadata": {},
     "output_type": "display_data"
    }
   ],
   "source": [
    "\n",
    "px.histogram(\n",
    "    df,\n",
    "    x='Competition',\n",
    "    title=\"Goals per competition\",\n",
    "    log_x=False,\n",
    "    log_y=False,\n",
    "    #symbol='title',\n",
    "    #markers=True,\n",
    "    #width=800, \n",
    "    height=500,\n",
    "    color='Club',\n",
    "    hover_name='Club',\n",
    "    hover_data=['Competition','Club'])"
   ]
  },
  {
   "cell_type": "code",
   "execution_count": 15,
   "id": "a4b803c3",
   "metadata": {},
   "outputs": [
    {
     "data": {
      "text/html": [
       "<div>\n",
       "<style scoped>\n",
       "    .dataframe tbody tr th:only-of-type {\n",
       "        vertical-align: middle;\n",
       "    }\n",
       "\n",
       "    .dataframe tbody tr th {\n",
       "        vertical-align: top;\n",
       "    }\n",
       "\n",
       "    .dataframe thead th {\n",
       "        text-align: right;\n",
       "    }\n",
       "</style>\n",
       "<table border=\"1\" class=\"dataframe\">\n",
       "  <thead>\n",
       "    <tr style=\"text-align: right;\">\n",
       "      <th></th>\n",
       "      <th>Competition</th>\n",
       "    </tr>\n",
       "  </thead>\n",
       "  <tbody>\n",
       "    <tr>\n",
       "      <th>LaLiga</th>\n",
       "      <td>200</td>\n",
       "    </tr>\n",
       "    <tr>\n",
       "      <th>UEFA Champions League</th>\n",
       "      <td>102</td>\n",
       "    </tr>\n",
       "    <tr>\n",
       "      <th>Serie A</th>\n",
       "      <td>48</td>\n",
       "    </tr>\n",
       "    <tr>\n",
       "      <th>Premier League</th>\n",
       "      <td>37</td>\n",
       "    </tr>\n",
       "    <tr>\n",
       "      <th>Copa del Rey</th>\n",
       "      <td>15</td>\n",
       "    </tr>\n",
       "    <tr>\n",
       "      <th>FIFA Club World Cup</th>\n",
       "      <td>5</td>\n",
       "    </tr>\n",
       "    <tr>\n",
       "      <th>FA Cup</th>\n",
       "      <td>4</td>\n",
       "    </tr>\n",
       "    <tr>\n",
       "      <th>Supercopa</th>\n",
       "      <td>4</td>\n",
       "    </tr>\n",
       "    <tr>\n",
       "      <th>UEFA Super Cup</th>\n",
       "      <td>2</td>\n",
       "    </tr>\n",
       "    <tr>\n",
       "      <th>Liga Portugal</th>\n",
       "      <td>1</td>\n",
       "    </tr>\n",
       "    <tr>\n",
       "      <th>Supercoppa Italiana</th>\n",
       "      <td>1</td>\n",
       "    </tr>\n",
       "    <tr>\n",
       "      <th>Italy Cup</th>\n",
       "      <td>1</td>\n",
       "    </tr>\n",
       "  </tbody>\n",
       "</table>\n",
       "</div>"
      ],
      "text/plain": [
       "                       Competition\n",
       "LaLiga                         200\n",
       "UEFA Champions League          102\n",
       "Serie A                         48\n",
       "Premier League                  37\n",
       "Copa del Rey                    15\n",
       "FIFA Club World Cup              5\n",
       "FA Cup                           4\n",
       "Supercopa                        4\n",
       "UEFA Super Cup                   2\n",
       "Liga Portugal                    1\n",
       "Supercoppa Italiana              1\n",
       "Italy Cup                        1"
      ]
     },
     "execution_count": 15,
     "metadata": {},
     "output_type": "execute_result"
    }
   ],
   "source": [
    "pd.DataFrame(df.Competition.value_counts())"
   ]
  },
  {
   "cell_type": "code",
   "execution_count": 16,
   "id": "d2c11a1a",
   "metadata": {},
   "outputs": [
    {
     "data": {
      "application/vnd.plotly.v1+json": {
       "config": {
        "plotlyServerURL": "https://plot.ly"
       },
       "data": [
        {
         "alignmentgroup": "True",
         "bingroup": "x",
         "hovertemplate": "Club=Sporting CP<br>Season=%{x}<br>count=%{y}<extra></extra>",
         "legendgroup": "Sporting CP",
         "marker": {
          "color": "#636efa",
          "pattern": {
           "shape": ""
          }
         },
         "name": "Sporting CP",
         "offsetgroup": "Sporting CP",
         "orientation": "v",
         "showlegend": true,
         "type": "histogram",
         "x": [
          "02/03"
         ],
         "xaxis": "x",
         "yaxis": "y"
        },
        {
         "alignmentgroup": "True",
         "bingroup": "x",
         "hovertemplate": "Club=Manchester United<br>Season=%{x}<br>count=%{y}<extra></extra>",
         "legendgroup": "Manchester United",
         "marker": {
          "color": "#EF553B",
          "pattern": {
           "shape": ""
          }
         },
         "name": "Manchester United",
         "offsetgroup": "Manchester United",
         "orientation": "v",
         "showlegend": true,
         "type": "histogram",
         "x": [
          "03/04",
          "04/05",
          "04/05",
          "04/05",
          "05/06",
          "05/06",
          "06/07",
          "06/07",
          "06/07",
          "07/08",
          "07/08",
          "07/08",
          "07/08",
          "07/08",
          "07/08",
          "07/08",
          "07/08",
          "07/08",
          "07/08",
          "07/08",
          "07/08",
          "07/08",
          "07/08",
          "07/08",
          "07/08",
          "07/08",
          "07/08",
          "07/08",
          "08/09",
          "08/09",
          "08/09",
          "08/09",
          "08/09",
          "08/09",
          "08/09",
          "08/09",
          "08/09",
          "08/09",
          "08/09",
          "08/09",
          "08/09",
          "08/09",
          "21/22",
          "21/22",
          "21/22",
          "21/22",
          "21/22",
          "21/22",
          "21/22",
          "21/22",
          "21/22",
          "21/22",
          "21/22",
          "21/22",
          "21/22",
          "21/22",
          "21/22",
          "21/22"
         ],
         "xaxis": "x",
         "yaxis": "y"
        },
        {
         "alignmentgroup": "True",
         "bingroup": "x",
         "hovertemplate": "Club=Real Madrid<br>Season=%{x}<br>count=%{y}<extra></extra>",
         "legendgroup": "Real Madrid",
         "marker": {
          "color": "#00cc96",
          "pattern": {
           "shape": ""
          }
         },
         "name": "Real Madrid",
         "offsetgroup": "Real Madrid",
         "orientation": "v",
         "showlegend": true,
         "type": "histogram",
         "x": [
          "09/10",
          "09/10",
          "09/10",
          "09/10",
          "09/10",
          "09/10",
          "09/10",
          "09/10",
          "09/10",
          "09/10",
          "10/11",
          "10/11",
          "10/11",
          "10/11",
          "10/11",
          "10/11",
          "10/11",
          "10/11",
          "10/11",
          "10/11",
          "10/11",
          "10/11",
          "10/11",
          "10/11",
          "10/11",
          "10/11",
          "10/11",
          "10/11",
          "10/11",
          "10/11",
          "10/11",
          "10/11",
          "10/11",
          "10/11",
          "10/11",
          "10/11",
          "10/11",
          "10/11",
          "10/11",
          "10/11",
          "10/11",
          "10/11",
          "10/11",
          "10/11",
          "10/11",
          "10/11",
          "11/12",
          "11/12",
          "11/12",
          "11/12",
          "11/12",
          "11/12",
          "11/12",
          "11/12",
          "11/12",
          "11/12",
          "11/12",
          "11/12",
          "11/12",
          "11/12",
          "11/12",
          "11/12",
          "11/12",
          "11/12",
          "11/12",
          "11/12",
          "11/12",
          "11/12",
          "11/12",
          "11/12",
          "11/12",
          "11/12",
          "11/12",
          "11/12",
          "11/12",
          "11/12",
          "11/12",
          "11/12",
          "11/12",
          "11/12",
          "11/12",
          "11/12",
          "11/12",
          "11/12",
          "Dec-13",
          "Dec-13",
          "Dec-13",
          "Dec-13",
          "Dec-13",
          "Dec-13",
          "Dec-13",
          "Dec-13",
          "Dec-13",
          "Dec-13",
          "Dec-13",
          "Dec-13",
          "Dec-13",
          "Dec-13",
          "Dec-13",
          "Dec-13",
          "Dec-13",
          "Dec-13",
          "Dec-13",
          "Dec-13",
          "Dec-13",
          "Dec-13",
          "Dec-13",
          "Dec-13",
          "Dec-13",
          "Dec-13",
          "Dec-13",
          "Dec-13",
          "Dec-13",
          "Dec-13",
          "Dec-13",
          "Dec-13",
          "Dec-13",
          "Dec-13",
          "Dec-13",
          "Dec-13",
          "Dec-13",
          "Dec-13",
          "Dec-13",
          "Dec-13",
          "Dec-13",
          "13/14",
          "13/14",
          "13/14",
          "13/14",
          "13/14",
          "13/14",
          "13/14",
          "13/14",
          "13/14",
          "13/14",
          "13/14",
          "13/14",
          "13/14",
          "13/14",
          "13/14",
          "13/14",
          "13/14",
          "13/14",
          "13/14",
          "13/14",
          "13/14",
          "13/14",
          "13/14",
          "13/14",
          "13/14",
          "13/14",
          "13/14",
          "13/14",
          "13/14",
          "13/14",
          "13/14",
          "13/14",
          "13/14",
          "13/14",
          "14/15",
          "14/15",
          "14/15",
          "14/15",
          "14/15",
          "14/15",
          "14/15",
          "14/15",
          "14/15",
          "14/15",
          "14/15",
          "14/15",
          "14/15",
          "14/15",
          "14/15",
          "14/15",
          "14/15",
          "14/15",
          "14/15",
          "14/15",
          "14/15",
          "14/15",
          "14/15",
          "14/15",
          "14/15",
          "14/15",
          "14/15",
          "14/15",
          "14/15",
          "14/15",
          "14/15",
          "14/15",
          "14/15",
          "14/15",
          "14/15",
          "14/15",
          "14/15",
          "14/15",
          "14/15",
          "14/15",
          "14/15",
          "14/15",
          "14/15",
          "14/15",
          "15/16",
          "15/16",
          "15/16",
          "15/16",
          "15/16",
          "15/16",
          "15/16",
          "15/16",
          "15/16",
          "15/16",
          "15/16",
          "15/16",
          "15/16",
          "15/16",
          "15/16",
          "15/16",
          "15/16",
          "15/16",
          "15/16",
          "15/16",
          "15/16",
          "15/16",
          "15/16",
          "15/16",
          "15/16",
          "15/16",
          "15/16",
          "15/16",
          "15/16",
          "15/16",
          "15/16",
          "15/16",
          "15/16",
          "15/16",
          "15/16",
          "15/16",
          "15/16",
          "16/17",
          "16/17",
          "16/17",
          "16/17",
          "16/17",
          "16/17",
          "16/17",
          "16/17",
          "16/17",
          "16/17",
          "16/17",
          "16/17",
          "16/17",
          "16/17",
          "16/17",
          "16/17",
          "16/17",
          "16/17",
          "16/17",
          "16/17",
          "16/17",
          "16/17",
          "16/17",
          "16/17",
          "16/17",
          "16/17",
          "16/17",
          "16/17",
          "16/17",
          "16/17",
          "17/18",
          "17/18",
          "17/18",
          "17/18",
          "17/18",
          "17/18",
          "17/18",
          "17/18",
          "17/18",
          "17/18",
          "17/18",
          "17/18",
          "17/18",
          "17/18",
          "17/18",
          "17/18",
          "17/18",
          "17/18",
          "17/18",
          "17/18",
          "17/18",
          "17/18",
          "17/18",
          "17/18",
          "17/18",
          "17/18",
          "17/18",
          "17/18",
          "17/18",
          "17/18",
          "17/18"
         ],
         "xaxis": "x",
         "yaxis": "y"
        },
        {
         "alignmentgroup": "True",
         "bingroup": "x",
         "hovertemplate": "Club=Juventus FC<br>Season=%{x}<br>count=%{y}<extra></extra>",
         "legendgroup": "Juventus FC",
         "marker": {
          "color": "#ab63fa",
          "pattern": {
           "shape": ""
          }
         },
         "name": "Juventus FC",
         "offsetgroup": "Juventus FC",
         "orientation": "v",
         "showlegend": true,
         "type": "histogram",
         "x": [
          "18/19",
          "18/19",
          "18/19",
          "18/19",
          "18/19",
          "18/19",
          "18/19",
          "18/19",
          "18/19",
          "18/19",
          "18/19",
          "18/19",
          "18/19",
          "18/19",
          "18/19",
          "18/19",
          "18/19",
          "18/19",
          "19/20",
          "19/20",
          "19/20",
          "19/20",
          "19/20",
          "19/20",
          "19/20",
          "19/20",
          "19/20",
          "19/20",
          "19/20",
          "19/20",
          "19/20",
          "19/20",
          "19/20",
          "19/20",
          "19/20",
          "19/20",
          "19/20",
          "20/21",
          "20/21",
          "20/21",
          "20/21",
          "20/21",
          "20/21",
          "20/21",
          "20/21",
          "20/21",
          "20/21",
          "20/21",
          "20/21",
          "20/21",
          "20/21",
          "20/21",
          "20/21",
          "20/21",
          "20/21",
          "20/21",
          "20/21",
          "20/21",
          "20/21",
          "20/21"
         ],
         "xaxis": "x",
         "yaxis": "y"
        }
       ],
       "layout": {
        "barmode": "relative",
        "height": 500,
        "legend": {
         "title": {
          "text": "Club"
         },
         "tracegroupgap": 0
        },
        "template": {
         "data": {
          "bar": [
           {
            "error_x": {
             "color": "#2a3f5f"
            },
            "error_y": {
             "color": "#2a3f5f"
            },
            "marker": {
             "line": {
              "color": "#E5ECF6",
              "width": 0.5
             },
             "pattern": {
              "fillmode": "overlay",
              "size": 10,
              "solidity": 0.2
             }
            },
            "type": "bar"
           }
          ],
          "barpolar": [
           {
            "marker": {
             "line": {
              "color": "#E5ECF6",
              "width": 0.5
             },
             "pattern": {
              "fillmode": "overlay",
              "size": 10,
              "solidity": 0.2
             }
            },
            "type": "barpolar"
           }
          ],
          "carpet": [
           {
            "aaxis": {
             "endlinecolor": "#2a3f5f",
             "gridcolor": "white",
             "linecolor": "white",
             "minorgridcolor": "white",
             "startlinecolor": "#2a3f5f"
            },
            "baxis": {
             "endlinecolor": "#2a3f5f",
             "gridcolor": "white",
             "linecolor": "white",
             "minorgridcolor": "white",
             "startlinecolor": "#2a3f5f"
            },
            "type": "carpet"
           }
          ],
          "choropleth": [
           {
            "colorbar": {
             "outlinewidth": 0,
             "ticks": ""
            },
            "type": "choropleth"
           }
          ],
          "contour": [
           {
            "colorbar": {
             "outlinewidth": 0,
             "ticks": ""
            },
            "colorscale": [
             [
              0,
              "#0d0887"
             ],
             [
              0.1111111111111111,
              "#46039f"
             ],
             [
              0.2222222222222222,
              "#7201a8"
             ],
             [
              0.3333333333333333,
              "#9c179e"
             ],
             [
              0.4444444444444444,
              "#bd3786"
             ],
             [
              0.5555555555555556,
              "#d8576b"
             ],
             [
              0.6666666666666666,
              "#ed7953"
             ],
             [
              0.7777777777777778,
              "#fb9f3a"
             ],
             [
              0.8888888888888888,
              "#fdca26"
             ],
             [
              1,
              "#f0f921"
             ]
            ],
            "type": "contour"
           }
          ],
          "contourcarpet": [
           {
            "colorbar": {
             "outlinewidth": 0,
             "ticks": ""
            },
            "type": "contourcarpet"
           }
          ],
          "heatmap": [
           {
            "colorbar": {
             "outlinewidth": 0,
             "ticks": ""
            },
            "colorscale": [
             [
              0,
              "#0d0887"
             ],
             [
              0.1111111111111111,
              "#46039f"
             ],
             [
              0.2222222222222222,
              "#7201a8"
             ],
             [
              0.3333333333333333,
              "#9c179e"
             ],
             [
              0.4444444444444444,
              "#bd3786"
             ],
             [
              0.5555555555555556,
              "#d8576b"
             ],
             [
              0.6666666666666666,
              "#ed7953"
             ],
             [
              0.7777777777777778,
              "#fb9f3a"
             ],
             [
              0.8888888888888888,
              "#fdca26"
             ],
             [
              1,
              "#f0f921"
             ]
            ],
            "type": "heatmap"
           }
          ],
          "heatmapgl": [
           {
            "colorbar": {
             "outlinewidth": 0,
             "ticks": ""
            },
            "colorscale": [
             [
              0,
              "#0d0887"
             ],
             [
              0.1111111111111111,
              "#46039f"
             ],
             [
              0.2222222222222222,
              "#7201a8"
             ],
             [
              0.3333333333333333,
              "#9c179e"
             ],
             [
              0.4444444444444444,
              "#bd3786"
             ],
             [
              0.5555555555555556,
              "#d8576b"
             ],
             [
              0.6666666666666666,
              "#ed7953"
             ],
             [
              0.7777777777777778,
              "#fb9f3a"
             ],
             [
              0.8888888888888888,
              "#fdca26"
             ],
             [
              1,
              "#f0f921"
             ]
            ],
            "type": "heatmapgl"
           }
          ],
          "histogram": [
           {
            "marker": {
             "pattern": {
              "fillmode": "overlay",
              "size": 10,
              "solidity": 0.2
             }
            },
            "type": "histogram"
           }
          ],
          "histogram2d": [
           {
            "colorbar": {
             "outlinewidth": 0,
             "ticks": ""
            },
            "colorscale": [
             [
              0,
              "#0d0887"
             ],
             [
              0.1111111111111111,
              "#46039f"
             ],
             [
              0.2222222222222222,
              "#7201a8"
             ],
             [
              0.3333333333333333,
              "#9c179e"
             ],
             [
              0.4444444444444444,
              "#bd3786"
             ],
             [
              0.5555555555555556,
              "#d8576b"
             ],
             [
              0.6666666666666666,
              "#ed7953"
             ],
             [
              0.7777777777777778,
              "#fb9f3a"
             ],
             [
              0.8888888888888888,
              "#fdca26"
             ],
             [
              1,
              "#f0f921"
             ]
            ],
            "type": "histogram2d"
           }
          ],
          "histogram2dcontour": [
           {
            "colorbar": {
             "outlinewidth": 0,
             "ticks": ""
            },
            "colorscale": [
             [
              0,
              "#0d0887"
             ],
             [
              0.1111111111111111,
              "#46039f"
             ],
             [
              0.2222222222222222,
              "#7201a8"
             ],
             [
              0.3333333333333333,
              "#9c179e"
             ],
             [
              0.4444444444444444,
              "#bd3786"
             ],
             [
              0.5555555555555556,
              "#d8576b"
             ],
             [
              0.6666666666666666,
              "#ed7953"
             ],
             [
              0.7777777777777778,
              "#fb9f3a"
             ],
             [
              0.8888888888888888,
              "#fdca26"
             ],
             [
              1,
              "#f0f921"
             ]
            ],
            "type": "histogram2dcontour"
           }
          ],
          "mesh3d": [
           {
            "colorbar": {
             "outlinewidth": 0,
             "ticks": ""
            },
            "type": "mesh3d"
           }
          ],
          "parcoords": [
           {
            "line": {
             "colorbar": {
              "outlinewidth": 0,
              "ticks": ""
             }
            },
            "type": "parcoords"
           }
          ],
          "pie": [
           {
            "automargin": true,
            "type": "pie"
           }
          ],
          "scatter": [
           {
            "fillpattern": {
             "fillmode": "overlay",
             "size": 10,
             "solidity": 0.2
            },
            "type": "scatter"
           }
          ],
          "scatter3d": [
           {
            "line": {
             "colorbar": {
              "outlinewidth": 0,
              "ticks": ""
             }
            },
            "marker": {
             "colorbar": {
              "outlinewidth": 0,
              "ticks": ""
             }
            },
            "type": "scatter3d"
           }
          ],
          "scattercarpet": [
           {
            "marker": {
             "colorbar": {
              "outlinewidth": 0,
              "ticks": ""
             }
            },
            "type": "scattercarpet"
           }
          ],
          "scattergeo": [
           {
            "marker": {
             "colorbar": {
              "outlinewidth": 0,
              "ticks": ""
             }
            },
            "type": "scattergeo"
           }
          ],
          "scattergl": [
           {
            "marker": {
             "colorbar": {
              "outlinewidth": 0,
              "ticks": ""
             }
            },
            "type": "scattergl"
           }
          ],
          "scattermapbox": [
           {
            "marker": {
             "colorbar": {
              "outlinewidth": 0,
              "ticks": ""
             }
            },
            "type": "scattermapbox"
           }
          ],
          "scatterpolar": [
           {
            "marker": {
             "colorbar": {
              "outlinewidth": 0,
              "ticks": ""
             }
            },
            "type": "scatterpolar"
           }
          ],
          "scatterpolargl": [
           {
            "marker": {
             "colorbar": {
              "outlinewidth": 0,
              "ticks": ""
             }
            },
            "type": "scatterpolargl"
           }
          ],
          "scatterternary": [
           {
            "marker": {
             "colorbar": {
              "outlinewidth": 0,
              "ticks": ""
             }
            },
            "type": "scatterternary"
           }
          ],
          "surface": [
           {
            "colorbar": {
             "outlinewidth": 0,
             "ticks": ""
            },
            "colorscale": [
             [
              0,
              "#0d0887"
             ],
             [
              0.1111111111111111,
              "#46039f"
             ],
             [
              0.2222222222222222,
              "#7201a8"
             ],
             [
              0.3333333333333333,
              "#9c179e"
             ],
             [
              0.4444444444444444,
              "#bd3786"
             ],
             [
              0.5555555555555556,
              "#d8576b"
             ],
             [
              0.6666666666666666,
              "#ed7953"
             ],
             [
              0.7777777777777778,
              "#fb9f3a"
             ],
             [
              0.8888888888888888,
              "#fdca26"
             ],
             [
              1,
              "#f0f921"
             ]
            ],
            "type": "surface"
           }
          ],
          "table": [
           {
            "cells": {
             "fill": {
              "color": "#EBF0F8"
             },
             "line": {
              "color": "white"
             }
            },
            "header": {
             "fill": {
              "color": "#C8D4E3"
             },
             "line": {
              "color": "white"
             }
            },
            "type": "table"
           }
          ]
         },
         "layout": {
          "annotationdefaults": {
           "arrowcolor": "#2a3f5f",
           "arrowhead": 0,
           "arrowwidth": 1
          },
          "autotypenumbers": "strict",
          "coloraxis": {
           "colorbar": {
            "outlinewidth": 0,
            "ticks": ""
           }
          },
          "colorscale": {
           "diverging": [
            [
             0,
             "#8e0152"
            ],
            [
             0.1,
             "#c51b7d"
            ],
            [
             0.2,
             "#de77ae"
            ],
            [
             0.3,
             "#f1b6da"
            ],
            [
             0.4,
             "#fde0ef"
            ],
            [
             0.5,
             "#f7f7f7"
            ],
            [
             0.6,
             "#e6f5d0"
            ],
            [
             0.7,
             "#b8e186"
            ],
            [
             0.8,
             "#7fbc41"
            ],
            [
             0.9,
             "#4d9221"
            ],
            [
             1,
             "#276419"
            ]
           ],
           "sequential": [
            [
             0,
             "#0d0887"
            ],
            [
             0.1111111111111111,
             "#46039f"
            ],
            [
             0.2222222222222222,
             "#7201a8"
            ],
            [
             0.3333333333333333,
             "#9c179e"
            ],
            [
             0.4444444444444444,
             "#bd3786"
            ],
            [
             0.5555555555555556,
             "#d8576b"
            ],
            [
             0.6666666666666666,
             "#ed7953"
            ],
            [
             0.7777777777777778,
             "#fb9f3a"
            ],
            [
             0.8888888888888888,
             "#fdca26"
            ],
            [
             1,
             "#f0f921"
            ]
           ],
           "sequentialminus": [
            [
             0,
             "#0d0887"
            ],
            [
             0.1111111111111111,
             "#46039f"
            ],
            [
             0.2222222222222222,
             "#7201a8"
            ],
            [
             0.3333333333333333,
             "#9c179e"
            ],
            [
             0.4444444444444444,
             "#bd3786"
            ],
            [
             0.5555555555555556,
             "#d8576b"
            ],
            [
             0.6666666666666666,
             "#ed7953"
            ],
            [
             0.7777777777777778,
             "#fb9f3a"
            ],
            [
             0.8888888888888888,
             "#fdca26"
            ],
            [
             1,
             "#f0f921"
            ]
           ]
          },
          "colorway": [
           "#636efa",
           "#EF553B",
           "#00cc96",
           "#ab63fa",
           "#FFA15A",
           "#19d3f3",
           "#FF6692",
           "#B6E880",
           "#FF97FF",
           "#FECB52"
          ],
          "font": {
           "color": "#2a3f5f"
          },
          "geo": {
           "bgcolor": "white",
           "lakecolor": "white",
           "landcolor": "#E5ECF6",
           "showlakes": true,
           "showland": true,
           "subunitcolor": "white"
          },
          "hoverlabel": {
           "align": "left"
          },
          "hovermode": "closest",
          "mapbox": {
           "style": "light"
          },
          "paper_bgcolor": "white",
          "plot_bgcolor": "#E5ECF6",
          "polar": {
           "angularaxis": {
            "gridcolor": "white",
            "linecolor": "white",
            "ticks": ""
           },
           "bgcolor": "#E5ECF6",
           "radialaxis": {
            "gridcolor": "white",
            "linecolor": "white",
            "ticks": ""
           }
          },
          "scene": {
           "xaxis": {
            "backgroundcolor": "#E5ECF6",
            "gridcolor": "white",
            "gridwidth": 2,
            "linecolor": "white",
            "showbackground": true,
            "ticks": "",
            "zerolinecolor": "white"
           },
           "yaxis": {
            "backgroundcolor": "#E5ECF6",
            "gridcolor": "white",
            "gridwidth": 2,
            "linecolor": "white",
            "showbackground": true,
            "ticks": "",
            "zerolinecolor": "white"
           },
           "zaxis": {
            "backgroundcolor": "#E5ECF6",
            "gridcolor": "white",
            "gridwidth": 2,
            "linecolor": "white",
            "showbackground": true,
            "ticks": "",
            "zerolinecolor": "white"
           }
          },
          "shapedefaults": {
           "line": {
            "color": "#2a3f5f"
           }
          },
          "ternary": {
           "aaxis": {
            "gridcolor": "white",
            "linecolor": "white",
            "ticks": ""
           },
           "baxis": {
            "gridcolor": "white",
            "linecolor": "white",
            "ticks": ""
           },
           "bgcolor": "#E5ECF6",
           "caxis": {
            "gridcolor": "white",
            "linecolor": "white",
            "ticks": ""
           }
          },
          "title": {
           "x": 0.05
          },
          "xaxis": {
           "automargin": true,
           "gridcolor": "white",
           "linecolor": "white",
           "ticks": "",
           "title": {
            "standoff": 15
           },
           "zerolinecolor": "white",
           "zerolinewidth": 2
          },
          "yaxis": {
           "automargin": true,
           "gridcolor": "white",
           "linecolor": "white",
           "ticks": "",
           "title": {
            "standoff": 15
           },
           "zerolinecolor": "white",
           "zerolinewidth": 2
          }
         }
        },
        "title": {
         "text": "Goals per season"
        },
        "xaxis": {
         "anchor": "y",
         "domain": [
          0,
          1
         ],
         "title": {
          "text": "Season"
         }
        },
        "yaxis": {
         "anchor": "x",
         "domain": [
          0,
          1
         ],
         "title": {
          "text": "count"
         }
        }
       }
      },
      "text/html": [
       "<div>                            <div id=\"a20f9d81-1ec3-4cf4-9205-3449368bf020\" class=\"plotly-graph-div\" style=\"height:500px; width:100%;\"></div>            <script type=\"text/javascript\">                require([\"plotly\"], function(Plotly) {                    window.PLOTLYENV=window.PLOTLYENV || {};                                    if (document.getElementById(\"a20f9d81-1ec3-4cf4-9205-3449368bf020\")) {                    Plotly.newPlot(                        \"a20f9d81-1ec3-4cf4-9205-3449368bf020\",                        [{\"alignmentgroup\":\"True\",\"bingroup\":\"x\",\"hovertemplate\":\"Club=Sporting CP<br>Season=%{x}<br>count=%{y}<extra></extra>\",\"legendgroup\":\"Sporting CP\",\"marker\":{\"color\":\"#636efa\",\"pattern\":{\"shape\":\"\"}},\"name\":\"Sporting CP\",\"offsetgroup\":\"Sporting CP\",\"orientation\":\"v\",\"showlegend\":true,\"x\":[\"02/03\"],\"xaxis\":\"x\",\"yaxis\":\"y\",\"type\":\"histogram\"},{\"alignmentgroup\":\"True\",\"bingroup\":\"x\",\"hovertemplate\":\"Club=Manchester United<br>Season=%{x}<br>count=%{y}<extra></extra>\",\"legendgroup\":\"Manchester United\",\"marker\":{\"color\":\"#EF553B\",\"pattern\":{\"shape\":\"\"}},\"name\":\"Manchester United\",\"offsetgroup\":\"Manchester United\",\"orientation\":\"v\",\"showlegend\":true,\"x\":[\"03/04\",\"04/05\",\"04/05\",\"04/05\",\"05/06\",\"05/06\",\"06/07\",\"06/07\",\"06/07\",\"07/08\",\"07/08\",\"07/08\",\"07/08\",\"07/08\",\"07/08\",\"07/08\",\"07/08\",\"07/08\",\"07/08\",\"07/08\",\"07/08\",\"07/08\",\"07/08\",\"07/08\",\"07/08\",\"07/08\",\"07/08\",\"07/08\",\"08/09\",\"08/09\",\"08/09\",\"08/09\",\"08/09\",\"08/09\",\"08/09\",\"08/09\",\"08/09\",\"08/09\",\"08/09\",\"08/09\",\"08/09\",\"08/09\",\"21/22\",\"21/22\",\"21/22\",\"21/22\",\"21/22\",\"21/22\",\"21/22\",\"21/22\",\"21/22\",\"21/22\",\"21/22\",\"21/22\",\"21/22\",\"21/22\",\"21/22\",\"21/22\"],\"xaxis\":\"x\",\"yaxis\":\"y\",\"type\":\"histogram\"},{\"alignmentgroup\":\"True\",\"bingroup\":\"x\",\"hovertemplate\":\"Club=Real Madrid<br>Season=%{x}<br>count=%{y}<extra></extra>\",\"legendgroup\":\"Real Madrid\",\"marker\":{\"color\":\"#00cc96\",\"pattern\":{\"shape\":\"\"}},\"name\":\"Real Madrid\",\"offsetgroup\":\"Real Madrid\",\"orientation\":\"v\",\"showlegend\":true,\"x\":[\"09/10\",\"09/10\",\"09/10\",\"09/10\",\"09/10\",\"09/10\",\"09/10\",\"09/10\",\"09/10\",\"09/10\",\"10/11\",\"10/11\",\"10/11\",\"10/11\",\"10/11\",\"10/11\",\"10/11\",\"10/11\",\"10/11\",\"10/11\",\"10/11\",\"10/11\",\"10/11\",\"10/11\",\"10/11\",\"10/11\",\"10/11\",\"10/11\",\"10/11\",\"10/11\",\"10/11\",\"10/11\",\"10/11\",\"10/11\",\"10/11\",\"10/11\",\"10/11\",\"10/11\",\"10/11\",\"10/11\",\"10/11\",\"10/11\",\"10/11\",\"10/11\",\"10/11\",\"10/11\",\"11/12\",\"11/12\",\"11/12\",\"11/12\",\"11/12\",\"11/12\",\"11/12\",\"11/12\",\"11/12\",\"11/12\",\"11/12\",\"11/12\",\"11/12\",\"11/12\",\"11/12\",\"11/12\",\"11/12\",\"11/12\",\"11/12\",\"11/12\",\"11/12\",\"11/12\",\"11/12\",\"11/12\",\"11/12\",\"11/12\",\"11/12\",\"11/12\",\"11/12\",\"11/12\",\"11/12\",\"11/12\",\"11/12\",\"11/12\",\"11/12\",\"11/12\",\"11/12\",\"11/12\",\"Dec-13\",\"Dec-13\",\"Dec-13\",\"Dec-13\",\"Dec-13\",\"Dec-13\",\"Dec-13\",\"Dec-13\",\"Dec-13\",\"Dec-13\",\"Dec-13\",\"Dec-13\",\"Dec-13\",\"Dec-13\",\"Dec-13\",\"Dec-13\",\"Dec-13\",\"Dec-13\",\"Dec-13\",\"Dec-13\",\"Dec-13\",\"Dec-13\",\"Dec-13\",\"Dec-13\",\"Dec-13\",\"Dec-13\",\"Dec-13\",\"Dec-13\",\"Dec-13\",\"Dec-13\",\"Dec-13\",\"Dec-13\",\"Dec-13\",\"Dec-13\",\"Dec-13\",\"Dec-13\",\"Dec-13\",\"Dec-13\",\"Dec-13\",\"Dec-13\",\"Dec-13\",\"13/14\",\"13/14\",\"13/14\",\"13/14\",\"13/14\",\"13/14\",\"13/14\",\"13/14\",\"13/14\",\"13/14\",\"13/14\",\"13/14\",\"13/14\",\"13/14\",\"13/14\",\"13/14\",\"13/14\",\"13/14\",\"13/14\",\"13/14\",\"13/14\",\"13/14\",\"13/14\",\"13/14\",\"13/14\",\"13/14\",\"13/14\",\"13/14\",\"13/14\",\"13/14\",\"13/14\",\"13/14\",\"13/14\",\"13/14\",\"14/15\",\"14/15\",\"14/15\",\"14/15\",\"14/15\",\"14/15\",\"14/15\",\"14/15\",\"14/15\",\"14/15\",\"14/15\",\"14/15\",\"14/15\",\"14/15\",\"14/15\",\"14/15\",\"14/15\",\"14/15\",\"14/15\",\"14/15\",\"14/15\",\"14/15\",\"14/15\",\"14/15\",\"14/15\",\"14/15\",\"14/15\",\"14/15\",\"14/15\",\"14/15\",\"14/15\",\"14/15\",\"14/15\",\"14/15\",\"14/15\",\"14/15\",\"14/15\",\"14/15\",\"14/15\",\"14/15\",\"14/15\",\"14/15\",\"14/15\",\"14/15\",\"15/16\",\"15/16\",\"15/16\",\"15/16\",\"15/16\",\"15/16\",\"15/16\",\"15/16\",\"15/16\",\"15/16\",\"15/16\",\"15/16\",\"15/16\",\"15/16\",\"15/16\",\"15/16\",\"15/16\",\"15/16\",\"15/16\",\"15/16\",\"15/16\",\"15/16\",\"15/16\",\"15/16\",\"15/16\",\"15/16\",\"15/16\",\"15/16\",\"15/16\",\"15/16\",\"15/16\",\"15/16\",\"15/16\",\"15/16\",\"15/16\",\"15/16\",\"15/16\",\"16/17\",\"16/17\",\"16/17\",\"16/17\",\"16/17\",\"16/17\",\"16/17\",\"16/17\",\"16/17\",\"16/17\",\"16/17\",\"16/17\",\"16/17\",\"16/17\",\"16/17\",\"16/17\",\"16/17\",\"16/17\",\"16/17\",\"16/17\",\"16/17\",\"16/17\",\"16/17\",\"16/17\",\"16/17\",\"16/17\",\"16/17\",\"16/17\",\"16/17\",\"16/17\",\"17/18\",\"17/18\",\"17/18\",\"17/18\",\"17/18\",\"17/18\",\"17/18\",\"17/18\",\"17/18\",\"17/18\",\"17/18\",\"17/18\",\"17/18\",\"17/18\",\"17/18\",\"17/18\",\"17/18\",\"17/18\",\"17/18\",\"17/18\",\"17/18\",\"17/18\",\"17/18\",\"17/18\",\"17/18\",\"17/18\",\"17/18\",\"17/18\",\"17/18\",\"17/18\",\"17/18\"],\"xaxis\":\"x\",\"yaxis\":\"y\",\"type\":\"histogram\"},{\"alignmentgroup\":\"True\",\"bingroup\":\"x\",\"hovertemplate\":\"Club=Juventus FC<br>Season=%{x}<br>count=%{y}<extra></extra>\",\"legendgroup\":\"Juventus FC\",\"marker\":{\"color\":\"#ab63fa\",\"pattern\":{\"shape\":\"\"}},\"name\":\"Juventus FC\",\"offsetgroup\":\"Juventus FC\",\"orientation\":\"v\",\"showlegend\":true,\"x\":[\"18/19\",\"18/19\",\"18/19\",\"18/19\",\"18/19\",\"18/19\",\"18/19\",\"18/19\",\"18/19\",\"18/19\",\"18/19\",\"18/19\",\"18/19\",\"18/19\",\"18/19\",\"18/19\",\"18/19\",\"18/19\",\"19/20\",\"19/20\",\"19/20\",\"19/20\",\"19/20\",\"19/20\",\"19/20\",\"19/20\",\"19/20\",\"19/20\",\"19/20\",\"19/20\",\"19/20\",\"19/20\",\"19/20\",\"19/20\",\"19/20\",\"19/20\",\"19/20\",\"20/21\",\"20/21\",\"20/21\",\"20/21\",\"20/21\",\"20/21\",\"20/21\",\"20/21\",\"20/21\",\"20/21\",\"20/21\",\"20/21\",\"20/21\",\"20/21\",\"20/21\",\"20/21\",\"20/21\",\"20/21\",\"20/21\",\"20/21\",\"20/21\",\"20/21\",\"20/21\"],\"xaxis\":\"x\",\"yaxis\":\"y\",\"type\":\"histogram\"}],                        {\"template\":{\"data\":{\"histogram2dcontour\":[{\"type\":\"histogram2dcontour\",\"colorbar\":{\"outlinewidth\":0,\"ticks\":\"\"},\"colorscale\":[[0.0,\"#0d0887\"],[0.1111111111111111,\"#46039f\"],[0.2222222222222222,\"#7201a8\"],[0.3333333333333333,\"#9c179e\"],[0.4444444444444444,\"#bd3786\"],[0.5555555555555556,\"#d8576b\"],[0.6666666666666666,\"#ed7953\"],[0.7777777777777778,\"#fb9f3a\"],[0.8888888888888888,\"#fdca26\"],[1.0,\"#f0f921\"]]}],\"choropleth\":[{\"type\":\"choropleth\",\"colorbar\":{\"outlinewidth\":0,\"ticks\":\"\"}}],\"histogram2d\":[{\"type\":\"histogram2d\",\"colorbar\":{\"outlinewidth\":0,\"ticks\":\"\"},\"colorscale\":[[0.0,\"#0d0887\"],[0.1111111111111111,\"#46039f\"],[0.2222222222222222,\"#7201a8\"],[0.3333333333333333,\"#9c179e\"],[0.4444444444444444,\"#bd3786\"],[0.5555555555555556,\"#d8576b\"],[0.6666666666666666,\"#ed7953\"],[0.7777777777777778,\"#fb9f3a\"],[0.8888888888888888,\"#fdca26\"],[1.0,\"#f0f921\"]]}],\"heatmap\":[{\"type\":\"heatmap\",\"colorbar\":{\"outlinewidth\":0,\"ticks\":\"\"},\"colorscale\":[[0.0,\"#0d0887\"],[0.1111111111111111,\"#46039f\"],[0.2222222222222222,\"#7201a8\"],[0.3333333333333333,\"#9c179e\"],[0.4444444444444444,\"#bd3786\"],[0.5555555555555556,\"#d8576b\"],[0.6666666666666666,\"#ed7953\"],[0.7777777777777778,\"#fb9f3a\"],[0.8888888888888888,\"#fdca26\"],[1.0,\"#f0f921\"]]}],\"heatmapgl\":[{\"type\":\"heatmapgl\",\"colorbar\":{\"outlinewidth\":0,\"ticks\":\"\"},\"colorscale\":[[0.0,\"#0d0887\"],[0.1111111111111111,\"#46039f\"],[0.2222222222222222,\"#7201a8\"],[0.3333333333333333,\"#9c179e\"],[0.4444444444444444,\"#bd3786\"],[0.5555555555555556,\"#d8576b\"],[0.6666666666666666,\"#ed7953\"],[0.7777777777777778,\"#fb9f3a\"],[0.8888888888888888,\"#fdca26\"],[1.0,\"#f0f921\"]]}],\"contourcarpet\":[{\"type\":\"contourcarpet\",\"colorbar\":{\"outlinewidth\":0,\"ticks\":\"\"}}],\"contour\":[{\"type\":\"contour\",\"colorbar\":{\"outlinewidth\":0,\"ticks\":\"\"},\"colorscale\":[[0.0,\"#0d0887\"],[0.1111111111111111,\"#46039f\"],[0.2222222222222222,\"#7201a8\"],[0.3333333333333333,\"#9c179e\"],[0.4444444444444444,\"#bd3786\"],[0.5555555555555556,\"#d8576b\"],[0.6666666666666666,\"#ed7953\"],[0.7777777777777778,\"#fb9f3a\"],[0.8888888888888888,\"#fdca26\"],[1.0,\"#f0f921\"]]}],\"surface\":[{\"type\":\"surface\",\"colorbar\":{\"outlinewidth\":0,\"ticks\":\"\"},\"colorscale\":[[0.0,\"#0d0887\"],[0.1111111111111111,\"#46039f\"],[0.2222222222222222,\"#7201a8\"],[0.3333333333333333,\"#9c179e\"],[0.4444444444444444,\"#bd3786\"],[0.5555555555555556,\"#d8576b\"],[0.6666666666666666,\"#ed7953\"],[0.7777777777777778,\"#fb9f3a\"],[0.8888888888888888,\"#fdca26\"],[1.0,\"#f0f921\"]]}],\"mesh3d\":[{\"type\":\"mesh3d\",\"colorbar\":{\"outlinewidth\":0,\"ticks\":\"\"}}],\"scatter\":[{\"fillpattern\":{\"fillmode\":\"overlay\",\"size\":10,\"solidity\":0.2},\"type\":\"scatter\"}],\"parcoords\":[{\"type\":\"parcoords\",\"line\":{\"colorbar\":{\"outlinewidth\":0,\"ticks\":\"\"}}}],\"scatterpolargl\":[{\"type\":\"scatterpolargl\",\"marker\":{\"colorbar\":{\"outlinewidth\":0,\"ticks\":\"\"}}}],\"bar\":[{\"error_x\":{\"color\":\"#2a3f5f\"},\"error_y\":{\"color\":\"#2a3f5f\"},\"marker\":{\"line\":{\"color\":\"#E5ECF6\",\"width\":0.5},\"pattern\":{\"fillmode\":\"overlay\",\"size\":10,\"solidity\":0.2}},\"type\":\"bar\"}],\"scattergeo\":[{\"type\":\"scattergeo\",\"marker\":{\"colorbar\":{\"outlinewidth\":0,\"ticks\":\"\"}}}],\"scatterpolar\":[{\"type\":\"scatterpolar\",\"marker\":{\"colorbar\":{\"outlinewidth\":0,\"ticks\":\"\"}}}],\"histogram\":[{\"marker\":{\"pattern\":{\"fillmode\":\"overlay\",\"size\":10,\"solidity\":0.2}},\"type\":\"histogram\"}],\"scattergl\":[{\"type\":\"scattergl\",\"marker\":{\"colorbar\":{\"outlinewidth\":0,\"ticks\":\"\"}}}],\"scatter3d\":[{\"type\":\"scatter3d\",\"line\":{\"colorbar\":{\"outlinewidth\":0,\"ticks\":\"\"}},\"marker\":{\"colorbar\":{\"outlinewidth\":0,\"ticks\":\"\"}}}],\"scattermapbox\":[{\"type\":\"scattermapbox\",\"marker\":{\"colorbar\":{\"outlinewidth\":0,\"ticks\":\"\"}}}],\"scatterternary\":[{\"type\":\"scatterternary\",\"marker\":{\"colorbar\":{\"outlinewidth\":0,\"ticks\":\"\"}}}],\"scattercarpet\":[{\"type\":\"scattercarpet\",\"marker\":{\"colorbar\":{\"outlinewidth\":0,\"ticks\":\"\"}}}],\"carpet\":[{\"aaxis\":{\"endlinecolor\":\"#2a3f5f\",\"gridcolor\":\"white\",\"linecolor\":\"white\",\"minorgridcolor\":\"white\",\"startlinecolor\":\"#2a3f5f\"},\"baxis\":{\"endlinecolor\":\"#2a3f5f\",\"gridcolor\":\"white\",\"linecolor\":\"white\",\"minorgridcolor\":\"white\",\"startlinecolor\":\"#2a3f5f\"},\"type\":\"carpet\"}],\"table\":[{\"cells\":{\"fill\":{\"color\":\"#EBF0F8\"},\"line\":{\"color\":\"white\"}},\"header\":{\"fill\":{\"color\":\"#C8D4E3\"},\"line\":{\"color\":\"white\"}},\"type\":\"table\"}],\"barpolar\":[{\"marker\":{\"line\":{\"color\":\"#E5ECF6\",\"width\":0.5},\"pattern\":{\"fillmode\":\"overlay\",\"size\":10,\"solidity\":0.2}},\"type\":\"barpolar\"}],\"pie\":[{\"automargin\":true,\"type\":\"pie\"}]},\"layout\":{\"autotypenumbers\":\"strict\",\"colorway\":[\"#636efa\",\"#EF553B\",\"#00cc96\",\"#ab63fa\",\"#FFA15A\",\"#19d3f3\",\"#FF6692\",\"#B6E880\",\"#FF97FF\",\"#FECB52\"],\"font\":{\"color\":\"#2a3f5f\"},\"hovermode\":\"closest\",\"hoverlabel\":{\"align\":\"left\"},\"paper_bgcolor\":\"white\",\"plot_bgcolor\":\"#E5ECF6\",\"polar\":{\"bgcolor\":\"#E5ECF6\",\"angularaxis\":{\"gridcolor\":\"white\",\"linecolor\":\"white\",\"ticks\":\"\"},\"radialaxis\":{\"gridcolor\":\"white\",\"linecolor\":\"white\",\"ticks\":\"\"}},\"ternary\":{\"bgcolor\":\"#E5ECF6\",\"aaxis\":{\"gridcolor\":\"white\",\"linecolor\":\"white\",\"ticks\":\"\"},\"baxis\":{\"gridcolor\":\"white\",\"linecolor\":\"white\",\"ticks\":\"\"},\"caxis\":{\"gridcolor\":\"white\",\"linecolor\":\"white\",\"ticks\":\"\"}},\"coloraxis\":{\"colorbar\":{\"outlinewidth\":0,\"ticks\":\"\"}},\"colorscale\":{\"sequential\":[[0.0,\"#0d0887\"],[0.1111111111111111,\"#46039f\"],[0.2222222222222222,\"#7201a8\"],[0.3333333333333333,\"#9c179e\"],[0.4444444444444444,\"#bd3786\"],[0.5555555555555556,\"#d8576b\"],[0.6666666666666666,\"#ed7953\"],[0.7777777777777778,\"#fb9f3a\"],[0.8888888888888888,\"#fdca26\"],[1.0,\"#f0f921\"]],\"sequentialminus\":[[0.0,\"#0d0887\"],[0.1111111111111111,\"#46039f\"],[0.2222222222222222,\"#7201a8\"],[0.3333333333333333,\"#9c179e\"],[0.4444444444444444,\"#bd3786\"],[0.5555555555555556,\"#d8576b\"],[0.6666666666666666,\"#ed7953\"],[0.7777777777777778,\"#fb9f3a\"],[0.8888888888888888,\"#fdca26\"],[1.0,\"#f0f921\"]],\"diverging\":[[0,\"#8e0152\"],[0.1,\"#c51b7d\"],[0.2,\"#de77ae\"],[0.3,\"#f1b6da\"],[0.4,\"#fde0ef\"],[0.5,\"#f7f7f7\"],[0.6,\"#e6f5d0\"],[0.7,\"#b8e186\"],[0.8,\"#7fbc41\"],[0.9,\"#4d9221\"],[1,\"#276419\"]]},\"xaxis\":{\"gridcolor\":\"white\",\"linecolor\":\"white\",\"ticks\":\"\",\"title\":{\"standoff\":15},\"zerolinecolor\":\"white\",\"automargin\":true,\"zerolinewidth\":2},\"yaxis\":{\"gridcolor\":\"white\",\"linecolor\":\"white\",\"ticks\":\"\",\"title\":{\"standoff\":15},\"zerolinecolor\":\"white\",\"automargin\":true,\"zerolinewidth\":2},\"scene\":{\"xaxis\":{\"backgroundcolor\":\"#E5ECF6\",\"gridcolor\":\"white\",\"linecolor\":\"white\",\"showbackground\":true,\"ticks\":\"\",\"zerolinecolor\":\"white\",\"gridwidth\":2},\"yaxis\":{\"backgroundcolor\":\"#E5ECF6\",\"gridcolor\":\"white\",\"linecolor\":\"white\",\"showbackground\":true,\"ticks\":\"\",\"zerolinecolor\":\"white\",\"gridwidth\":2},\"zaxis\":{\"backgroundcolor\":\"#E5ECF6\",\"gridcolor\":\"white\",\"linecolor\":\"white\",\"showbackground\":true,\"ticks\":\"\",\"zerolinecolor\":\"white\",\"gridwidth\":2}},\"shapedefaults\":{\"line\":{\"color\":\"#2a3f5f\"}},\"annotationdefaults\":{\"arrowcolor\":\"#2a3f5f\",\"arrowhead\":0,\"arrowwidth\":1},\"geo\":{\"bgcolor\":\"white\",\"landcolor\":\"#E5ECF6\",\"subunitcolor\":\"white\",\"showland\":true,\"showlakes\":true,\"lakecolor\":\"white\"},\"title\":{\"x\":0.05},\"mapbox\":{\"style\":\"light\"}}},\"xaxis\":{\"anchor\":\"y\",\"domain\":[0.0,1.0],\"title\":{\"text\":\"Season\"}},\"yaxis\":{\"anchor\":\"x\",\"domain\":[0.0,1.0],\"title\":{\"text\":\"count\"}},\"legend\":{\"title\":{\"text\":\"Club\"},\"tracegroupgap\":0},\"title\":{\"text\":\"Goals per season\"},\"barmode\":\"relative\",\"height\":500},                        {\"responsive\": true}                    ).then(function(){\n",
       "                            \n",
       "var gd = document.getElementById('a20f9d81-1ec3-4cf4-9205-3449368bf020');\n",
       "var x = new MutationObserver(function (mutations, observer) {{\n",
       "        var display = window.getComputedStyle(gd).display;\n",
       "        if (!display || display === 'none') {{\n",
       "            console.log([gd, 'removed!']);\n",
       "            Plotly.purge(gd);\n",
       "            observer.disconnect();\n",
       "        }}\n",
       "}});\n",
       "\n",
       "// Listen for the removal of the full notebook cells\n",
       "var notebookContainer = gd.closest('#notebook-container');\n",
       "if (notebookContainer) {{\n",
       "    x.observe(notebookContainer, {childList: true});\n",
       "}}\n",
       "\n",
       "// Listen for the clearing of the current output cell\n",
       "var outputEl = gd.closest('.output');\n",
       "if (outputEl) {{\n",
       "    x.observe(outputEl, {childList: true});\n",
       "}}\n",
       "\n",
       "                        })                };                });            </script>        </div>"
      ]
     },
     "metadata": {},
     "output_type": "display_data"
    }
   ],
   "source": [
    "\n",
    "px.histogram(\n",
    "    df,\n",
    "    x='Season',\n",
    "    title=\"Goals per season\",\n",
    "    log_x=False,\n",
    "    log_y=False,\n",
    "    #symbol='title',\n",
    "    #markers=True,\n",
    "    #width=800, \n",
    "    height=500,\n",
    "    color='Club',\n",
    "    hover_name='Club',\n",
    "    hover_data=['Competition','Season','Club'])"
   ]
  },
  {
   "cell_type": "code",
   "execution_count": 17,
   "id": "2e95ad9d",
   "metadata": {},
   "outputs": [
    {
     "data": {
      "application/vnd.plotly.v1+json": {
       "config": {
        "plotlyServerURL": "https://plot.ly"
       },
       "data": [
        {
         "alignmentgroup": "True",
         "bingroup": "x",
         "hovertemplate": "Season=02/03<br>Club=%{x}<br>count=%{y}<extra></extra>",
         "legendgroup": "02/03",
         "marker": {
          "color": "#636efa",
          "pattern": {
           "shape": ""
          }
         },
         "name": "02/03",
         "offsetgroup": "02/03",
         "orientation": "v",
         "showlegend": true,
         "type": "histogram",
         "x": [
          "Sporting CP"
         ],
         "xaxis": "x",
         "yaxis": "y"
        },
        {
         "alignmentgroup": "True",
         "bingroup": "x",
         "hovertemplate": "Season=03/04<br>Club=%{x}<br>count=%{y}<extra></extra>",
         "legendgroup": "03/04",
         "marker": {
          "color": "#EF553B",
          "pattern": {
           "shape": ""
          }
         },
         "name": "03/04",
         "offsetgroup": "03/04",
         "orientation": "v",
         "showlegend": true,
         "type": "histogram",
         "x": [
          "Manchester United"
         ],
         "xaxis": "x",
         "yaxis": "y"
        },
        {
         "alignmentgroup": "True",
         "bingroup": "x",
         "hovertemplate": "Season=04/05<br>Club=%{x}<br>count=%{y}<extra></extra>",
         "legendgroup": "04/05",
         "marker": {
          "color": "#00cc96",
          "pattern": {
           "shape": ""
          }
         },
         "name": "04/05",
         "offsetgroup": "04/05",
         "orientation": "v",
         "showlegend": true,
         "type": "histogram",
         "x": [
          "Manchester United",
          "Manchester United",
          "Manchester United"
         ],
         "xaxis": "x",
         "yaxis": "y"
        },
        {
         "alignmentgroup": "True",
         "bingroup": "x",
         "hovertemplate": "Season=05/06<br>Club=%{x}<br>count=%{y}<extra></extra>",
         "legendgroup": "05/06",
         "marker": {
          "color": "#ab63fa",
          "pattern": {
           "shape": ""
          }
         },
         "name": "05/06",
         "offsetgroup": "05/06",
         "orientation": "v",
         "showlegend": true,
         "type": "histogram",
         "x": [
          "Manchester United",
          "Manchester United"
         ],
         "xaxis": "x",
         "yaxis": "y"
        },
        {
         "alignmentgroup": "True",
         "bingroup": "x",
         "hovertemplate": "Season=06/07<br>Club=%{x}<br>count=%{y}<extra></extra>",
         "legendgroup": "06/07",
         "marker": {
          "color": "#FFA15A",
          "pattern": {
           "shape": ""
          }
         },
         "name": "06/07",
         "offsetgroup": "06/07",
         "orientation": "v",
         "showlegend": true,
         "type": "histogram",
         "x": [
          "Manchester United",
          "Manchester United",
          "Manchester United"
         ],
         "xaxis": "x",
         "yaxis": "y"
        },
        {
         "alignmentgroup": "True",
         "bingroup": "x",
         "hovertemplate": "Season=07/08<br>Club=%{x}<br>count=%{y}<extra></extra>",
         "legendgroup": "07/08",
         "marker": {
          "color": "#19d3f3",
          "pattern": {
           "shape": ""
          }
         },
         "name": "07/08",
         "offsetgroup": "07/08",
         "orientation": "v",
         "showlegend": true,
         "type": "histogram",
         "x": [
          "Manchester United",
          "Manchester United",
          "Manchester United",
          "Manchester United",
          "Manchester United",
          "Manchester United",
          "Manchester United",
          "Manchester United",
          "Manchester United",
          "Manchester United",
          "Manchester United",
          "Manchester United",
          "Manchester United",
          "Manchester United",
          "Manchester United",
          "Manchester United",
          "Manchester United",
          "Manchester United",
          "Manchester United"
         ],
         "xaxis": "x",
         "yaxis": "y"
        },
        {
         "alignmentgroup": "True",
         "bingroup": "x",
         "hovertemplate": "Season=08/09<br>Club=%{x}<br>count=%{y}<extra></extra>",
         "legendgroup": "08/09",
         "marker": {
          "color": "#FF6692",
          "pattern": {
           "shape": ""
          }
         },
         "name": "08/09",
         "offsetgroup": "08/09",
         "orientation": "v",
         "showlegend": true,
         "type": "histogram",
         "x": [
          "Manchester United",
          "Manchester United",
          "Manchester United",
          "Manchester United",
          "Manchester United",
          "Manchester United",
          "Manchester United",
          "Manchester United",
          "Manchester United",
          "Manchester United",
          "Manchester United",
          "Manchester United",
          "Manchester United",
          "Manchester United"
         ],
         "xaxis": "x",
         "yaxis": "y"
        },
        {
         "alignmentgroup": "True",
         "bingroup": "x",
         "hovertemplate": "Season=09/10<br>Club=%{x}<br>count=%{y}<extra></extra>",
         "legendgroup": "09/10",
         "marker": {
          "color": "#B6E880",
          "pattern": {
           "shape": ""
          }
         },
         "name": "09/10",
         "offsetgroup": "09/10",
         "orientation": "v",
         "showlegend": true,
         "type": "histogram",
         "x": [
          "Real Madrid",
          "Real Madrid",
          "Real Madrid",
          "Real Madrid",
          "Real Madrid",
          "Real Madrid",
          "Real Madrid",
          "Real Madrid",
          "Real Madrid",
          "Real Madrid"
         ],
         "xaxis": "x",
         "yaxis": "y"
        },
        {
         "alignmentgroup": "True",
         "bingroup": "x",
         "hovertemplate": "Season=10/11<br>Club=%{x}<br>count=%{y}<extra></extra>",
         "legendgroup": "10/11",
         "marker": {
          "color": "#FF97FF",
          "pattern": {
           "shape": ""
          }
         },
         "name": "10/11",
         "offsetgroup": "10/11",
         "orientation": "v",
         "showlegend": true,
         "type": "histogram",
         "x": [
          "Real Madrid",
          "Real Madrid",
          "Real Madrid",
          "Real Madrid",
          "Real Madrid",
          "Real Madrid",
          "Real Madrid",
          "Real Madrid",
          "Real Madrid",
          "Real Madrid",
          "Real Madrid",
          "Real Madrid",
          "Real Madrid",
          "Real Madrid",
          "Real Madrid",
          "Real Madrid",
          "Real Madrid",
          "Real Madrid",
          "Real Madrid",
          "Real Madrid",
          "Real Madrid",
          "Real Madrid",
          "Real Madrid",
          "Real Madrid",
          "Real Madrid",
          "Real Madrid",
          "Real Madrid",
          "Real Madrid",
          "Real Madrid",
          "Real Madrid",
          "Real Madrid",
          "Real Madrid",
          "Real Madrid",
          "Real Madrid",
          "Real Madrid",
          "Real Madrid"
         ],
         "xaxis": "x",
         "yaxis": "y"
        },
        {
         "alignmentgroup": "True",
         "bingroup": "x",
         "hovertemplate": "Season=11/12<br>Club=%{x}<br>count=%{y}<extra></extra>",
         "legendgroup": "11/12",
         "marker": {
          "color": "#FECB52",
          "pattern": {
           "shape": ""
          }
         },
         "name": "11/12",
         "offsetgroup": "11/12",
         "orientation": "v",
         "showlegend": true,
         "type": "histogram",
         "x": [
          "Real Madrid",
          "Real Madrid",
          "Real Madrid",
          "Real Madrid",
          "Real Madrid",
          "Real Madrid",
          "Real Madrid",
          "Real Madrid",
          "Real Madrid",
          "Real Madrid",
          "Real Madrid",
          "Real Madrid",
          "Real Madrid",
          "Real Madrid",
          "Real Madrid",
          "Real Madrid",
          "Real Madrid",
          "Real Madrid",
          "Real Madrid",
          "Real Madrid",
          "Real Madrid",
          "Real Madrid",
          "Real Madrid",
          "Real Madrid",
          "Real Madrid",
          "Real Madrid",
          "Real Madrid",
          "Real Madrid",
          "Real Madrid",
          "Real Madrid",
          "Real Madrid",
          "Real Madrid",
          "Real Madrid",
          "Real Madrid",
          "Real Madrid",
          "Real Madrid",
          "Real Madrid",
          "Real Madrid"
         ],
         "xaxis": "x",
         "yaxis": "y"
        },
        {
         "alignmentgroup": "True",
         "bingroup": "x",
         "hovertemplate": "Season=Dec-13<br>Club=%{x}<br>count=%{y}<extra></extra>",
         "legendgroup": "Dec-13",
         "marker": {
          "color": "#636efa",
          "pattern": {
           "shape": ""
          }
         },
         "name": "Dec-13",
         "offsetgroup": "Dec-13",
         "orientation": "v",
         "showlegend": true,
         "type": "histogram",
         "x": [
          "Real Madrid",
          "Real Madrid",
          "Real Madrid",
          "Real Madrid",
          "Real Madrid",
          "Real Madrid",
          "Real Madrid",
          "Real Madrid",
          "Real Madrid",
          "Real Madrid",
          "Real Madrid",
          "Real Madrid",
          "Real Madrid",
          "Real Madrid",
          "Real Madrid",
          "Real Madrid",
          "Real Madrid",
          "Real Madrid",
          "Real Madrid",
          "Real Madrid",
          "Real Madrid",
          "Real Madrid",
          "Real Madrid",
          "Real Madrid",
          "Real Madrid",
          "Real Madrid",
          "Real Madrid",
          "Real Madrid",
          "Real Madrid",
          "Real Madrid",
          "Real Madrid",
          "Real Madrid",
          "Real Madrid",
          "Real Madrid",
          "Real Madrid",
          "Real Madrid",
          "Real Madrid",
          "Real Madrid",
          "Real Madrid",
          "Real Madrid",
          "Real Madrid"
         ],
         "xaxis": "x",
         "yaxis": "y"
        },
        {
         "alignmentgroup": "True",
         "bingroup": "x",
         "hovertemplate": "Season=13/14<br>Club=%{x}<br>count=%{y}<extra></extra>",
         "legendgroup": "13/14",
         "marker": {
          "color": "#EF553B",
          "pattern": {
           "shape": ""
          }
         },
         "name": "13/14",
         "offsetgroup": "13/14",
         "orientation": "v",
         "showlegend": true,
         "type": "histogram",
         "x": [
          "Real Madrid",
          "Real Madrid",
          "Real Madrid",
          "Real Madrid",
          "Real Madrid",
          "Real Madrid",
          "Real Madrid",
          "Real Madrid",
          "Real Madrid",
          "Real Madrid",
          "Real Madrid",
          "Real Madrid",
          "Real Madrid",
          "Real Madrid",
          "Real Madrid",
          "Real Madrid",
          "Real Madrid",
          "Real Madrid",
          "Real Madrid",
          "Real Madrid",
          "Real Madrid",
          "Real Madrid",
          "Real Madrid",
          "Real Madrid",
          "Real Madrid",
          "Real Madrid",
          "Real Madrid",
          "Real Madrid",
          "Real Madrid",
          "Real Madrid",
          "Real Madrid",
          "Real Madrid",
          "Real Madrid",
          "Real Madrid"
         ],
         "xaxis": "x",
         "yaxis": "y"
        },
        {
         "alignmentgroup": "True",
         "bingroup": "x",
         "hovertemplate": "Season=14/15<br>Club=%{x}<br>count=%{y}<extra></extra>",
         "legendgroup": "14/15",
         "marker": {
          "color": "#00cc96",
          "pattern": {
           "shape": ""
          }
         },
         "name": "14/15",
         "offsetgroup": "14/15",
         "orientation": "v",
         "showlegend": true,
         "type": "histogram",
         "x": [
          "Real Madrid",
          "Real Madrid",
          "Real Madrid",
          "Real Madrid",
          "Real Madrid",
          "Real Madrid",
          "Real Madrid",
          "Real Madrid",
          "Real Madrid",
          "Real Madrid",
          "Real Madrid",
          "Real Madrid",
          "Real Madrid",
          "Real Madrid",
          "Real Madrid",
          "Real Madrid",
          "Real Madrid",
          "Real Madrid",
          "Real Madrid",
          "Real Madrid",
          "Real Madrid",
          "Real Madrid",
          "Real Madrid",
          "Real Madrid",
          "Real Madrid",
          "Real Madrid",
          "Real Madrid",
          "Real Madrid",
          "Real Madrid",
          "Real Madrid",
          "Real Madrid",
          "Real Madrid",
          "Real Madrid",
          "Real Madrid",
          "Real Madrid",
          "Real Madrid",
          "Real Madrid",
          "Real Madrid",
          "Real Madrid",
          "Real Madrid",
          "Real Madrid",
          "Real Madrid",
          "Real Madrid",
          "Real Madrid"
         ],
         "xaxis": "x",
         "yaxis": "y"
        },
        {
         "alignmentgroup": "True",
         "bingroup": "x",
         "hovertemplate": "Season=15/16<br>Club=%{x}<br>count=%{y}<extra></extra>",
         "legendgroup": "15/16",
         "marker": {
          "color": "#ab63fa",
          "pattern": {
           "shape": ""
          }
         },
         "name": "15/16",
         "offsetgroup": "15/16",
         "orientation": "v",
         "showlegend": true,
         "type": "histogram",
         "x": [
          "Real Madrid",
          "Real Madrid",
          "Real Madrid",
          "Real Madrid",
          "Real Madrid",
          "Real Madrid",
          "Real Madrid",
          "Real Madrid",
          "Real Madrid",
          "Real Madrid",
          "Real Madrid",
          "Real Madrid",
          "Real Madrid",
          "Real Madrid",
          "Real Madrid",
          "Real Madrid",
          "Real Madrid",
          "Real Madrid",
          "Real Madrid",
          "Real Madrid",
          "Real Madrid",
          "Real Madrid",
          "Real Madrid",
          "Real Madrid",
          "Real Madrid",
          "Real Madrid",
          "Real Madrid",
          "Real Madrid",
          "Real Madrid",
          "Real Madrid",
          "Real Madrid",
          "Real Madrid",
          "Real Madrid",
          "Real Madrid",
          "Real Madrid",
          "Real Madrid",
          "Real Madrid"
         ],
         "xaxis": "x",
         "yaxis": "y"
        },
        {
         "alignmentgroup": "True",
         "bingroup": "x",
         "hovertemplate": "Season=16/17<br>Club=%{x}<br>count=%{y}<extra></extra>",
         "legendgroup": "16/17",
         "marker": {
          "color": "#FFA15A",
          "pattern": {
           "shape": ""
          }
         },
         "name": "16/17",
         "offsetgroup": "16/17",
         "orientation": "v",
         "showlegend": true,
         "type": "histogram",
         "x": [
          "Real Madrid",
          "Real Madrid",
          "Real Madrid",
          "Real Madrid",
          "Real Madrid",
          "Real Madrid",
          "Real Madrid",
          "Real Madrid",
          "Real Madrid",
          "Real Madrid",
          "Real Madrid",
          "Real Madrid",
          "Real Madrid",
          "Real Madrid",
          "Real Madrid",
          "Real Madrid",
          "Real Madrid",
          "Real Madrid",
          "Real Madrid",
          "Real Madrid",
          "Real Madrid",
          "Real Madrid",
          "Real Madrid",
          "Real Madrid",
          "Real Madrid",
          "Real Madrid",
          "Real Madrid",
          "Real Madrid",
          "Real Madrid",
          "Real Madrid"
         ],
         "xaxis": "x",
         "yaxis": "y"
        },
        {
         "alignmentgroup": "True",
         "bingroup": "x",
         "hovertemplate": "Season=17/18<br>Club=%{x}<br>count=%{y}<extra></extra>",
         "legendgroup": "17/18",
         "marker": {
          "color": "#19d3f3",
          "pattern": {
           "shape": ""
          }
         },
         "name": "17/18",
         "offsetgroup": "17/18",
         "orientation": "v",
         "showlegend": true,
         "type": "histogram",
         "x": [
          "Real Madrid",
          "Real Madrid",
          "Real Madrid",
          "Real Madrid",
          "Real Madrid",
          "Real Madrid",
          "Real Madrid",
          "Real Madrid",
          "Real Madrid",
          "Real Madrid",
          "Real Madrid",
          "Real Madrid",
          "Real Madrid",
          "Real Madrid",
          "Real Madrid",
          "Real Madrid",
          "Real Madrid",
          "Real Madrid",
          "Real Madrid",
          "Real Madrid",
          "Real Madrid",
          "Real Madrid",
          "Real Madrid",
          "Real Madrid",
          "Real Madrid",
          "Real Madrid",
          "Real Madrid",
          "Real Madrid",
          "Real Madrid",
          "Real Madrid",
          "Real Madrid"
         ],
         "xaxis": "x",
         "yaxis": "y"
        },
        {
         "alignmentgroup": "True",
         "bingroup": "x",
         "hovertemplate": "Season=18/19<br>Club=%{x}<br>count=%{y}<extra></extra>",
         "legendgroup": "18/19",
         "marker": {
          "color": "#FF6692",
          "pattern": {
           "shape": ""
          }
         },
         "name": "18/19",
         "offsetgroup": "18/19",
         "orientation": "v",
         "showlegend": true,
         "type": "histogram",
         "x": [
          "Juventus FC",
          "Juventus FC",
          "Juventus FC",
          "Juventus FC",
          "Juventus FC",
          "Juventus FC",
          "Juventus FC",
          "Juventus FC",
          "Juventus FC",
          "Juventus FC",
          "Juventus FC",
          "Juventus FC",
          "Juventus FC",
          "Juventus FC",
          "Juventus FC",
          "Juventus FC",
          "Juventus FC",
          "Juventus FC"
         ],
         "xaxis": "x",
         "yaxis": "y"
        },
        {
         "alignmentgroup": "True",
         "bingroup": "x",
         "hovertemplate": "Season=19/20<br>Club=%{x}<br>count=%{y}<extra></extra>",
         "legendgroup": "19/20",
         "marker": {
          "color": "#B6E880",
          "pattern": {
           "shape": ""
          }
         },
         "name": "19/20",
         "offsetgroup": "19/20",
         "orientation": "v",
         "showlegend": true,
         "type": "histogram",
         "x": [
          "Juventus FC",
          "Juventus FC",
          "Juventus FC",
          "Juventus FC",
          "Juventus FC",
          "Juventus FC",
          "Juventus FC",
          "Juventus FC",
          "Juventus FC",
          "Juventus FC",
          "Juventus FC",
          "Juventus FC",
          "Juventus FC",
          "Juventus FC",
          "Juventus FC",
          "Juventus FC",
          "Juventus FC",
          "Juventus FC",
          "Juventus FC"
         ],
         "xaxis": "x",
         "yaxis": "y"
        },
        {
         "alignmentgroup": "True",
         "bingroup": "x",
         "hovertemplate": "Season=20/21<br>Club=%{x}<br>count=%{y}<extra></extra>",
         "legendgroup": "20/21",
         "marker": {
          "color": "#FF97FF",
          "pattern": {
           "shape": ""
          }
         },
         "name": "20/21",
         "offsetgroup": "20/21",
         "orientation": "v",
         "showlegend": true,
         "type": "histogram",
         "x": [
          "Juventus FC",
          "Juventus FC",
          "Juventus FC",
          "Juventus FC",
          "Juventus FC",
          "Juventus FC",
          "Juventus FC",
          "Juventus FC",
          "Juventus FC",
          "Juventus FC",
          "Juventus FC",
          "Juventus FC",
          "Juventus FC",
          "Juventus FC",
          "Juventus FC",
          "Juventus FC",
          "Juventus FC",
          "Juventus FC",
          "Juventus FC",
          "Juventus FC",
          "Juventus FC",
          "Juventus FC",
          "Juventus FC"
         ],
         "xaxis": "x",
         "yaxis": "y"
        },
        {
         "alignmentgroup": "True",
         "bingroup": "x",
         "hovertemplate": "Season=21/22<br>Club=%{x}<br>count=%{y}<extra></extra>",
         "legendgroup": "21/22",
         "marker": {
          "color": "#FECB52",
          "pattern": {
           "shape": ""
          }
         },
         "name": "21/22",
         "offsetgroup": "21/22",
         "orientation": "v",
         "showlegend": true,
         "type": "histogram",
         "x": [
          "Manchester United",
          "Manchester United",
          "Manchester United",
          "Manchester United",
          "Manchester United",
          "Manchester United",
          "Manchester United",
          "Manchester United",
          "Manchester United",
          "Manchester United",
          "Manchester United",
          "Manchester United",
          "Manchester United",
          "Manchester United",
          "Manchester United",
          "Manchester United"
         ],
         "xaxis": "x",
         "yaxis": "y"
        }
       ],
       "layout": {
        "barmode": "relative",
        "height": 500,
        "legend": {
         "title": {
          "text": "Season"
         },
         "tracegroupgap": 0
        },
        "template": {
         "data": {
          "bar": [
           {
            "error_x": {
             "color": "#2a3f5f"
            },
            "error_y": {
             "color": "#2a3f5f"
            },
            "marker": {
             "line": {
              "color": "#E5ECF6",
              "width": 0.5
             },
             "pattern": {
              "fillmode": "overlay",
              "size": 10,
              "solidity": 0.2
             }
            },
            "type": "bar"
           }
          ],
          "barpolar": [
           {
            "marker": {
             "line": {
              "color": "#E5ECF6",
              "width": 0.5
             },
             "pattern": {
              "fillmode": "overlay",
              "size": 10,
              "solidity": 0.2
             }
            },
            "type": "barpolar"
           }
          ],
          "carpet": [
           {
            "aaxis": {
             "endlinecolor": "#2a3f5f",
             "gridcolor": "white",
             "linecolor": "white",
             "minorgridcolor": "white",
             "startlinecolor": "#2a3f5f"
            },
            "baxis": {
             "endlinecolor": "#2a3f5f",
             "gridcolor": "white",
             "linecolor": "white",
             "minorgridcolor": "white",
             "startlinecolor": "#2a3f5f"
            },
            "type": "carpet"
           }
          ],
          "choropleth": [
           {
            "colorbar": {
             "outlinewidth": 0,
             "ticks": ""
            },
            "type": "choropleth"
           }
          ],
          "contour": [
           {
            "colorbar": {
             "outlinewidth": 0,
             "ticks": ""
            },
            "colorscale": [
             [
              0,
              "#0d0887"
             ],
             [
              0.1111111111111111,
              "#46039f"
             ],
             [
              0.2222222222222222,
              "#7201a8"
             ],
             [
              0.3333333333333333,
              "#9c179e"
             ],
             [
              0.4444444444444444,
              "#bd3786"
             ],
             [
              0.5555555555555556,
              "#d8576b"
             ],
             [
              0.6666666666666666,
              "#ed7953"
             ],
             [
              0.7777777777777778,
              "#fb9f3a"
             ],
             [
              0.8888888888888888,
              "#fdca26"
             ],
             [
              1,
              "#f0f921"
             ]
            ],
            "type": "contour"
           }
          ],
          "contourcarpet": [
           {
            "colorbar": {
             "outlinewidth": 0,
             "ticks": ""
            },
            "type": "contourcarpet"
           }
          ],
          "heatmap": [
           {
            "colorbar": {
             "outlinewidth": 0,
             "ticks": ""
            },
            "colorscale": [
             [
              0,
              "#0d0887"
             ],
             [
              0.1111111111111111,
              "#46039f"
             ],
             [
              0.2222222222222222,
              "#7201a8"
             ],
             [
              0.3333333333333333,
              "#9c179e"
             ],
             [
              0.4444444444444444,
              "#bd3786"
             ],
             [
              0.5555555555555556,
              "#d8576b"
             ],
             [
              0.6666666666666666,
              "#ed7953"
             ],
             [
              0.7777777777777778,
              "#fb9f3a"
             ],
             [
              0.8888888888888888,
              "#fdca26"
             ],
             [
              1,
              "#f0f921"
             ]
            ],
            "type": "heatmap"
           }
          ],
          "heatmapgl": [
           {
            "colorbar": {
             "outlinewidth": 0,
             "ticks": ""
            },
            "colorscale": [
             [
              0,
              "#0d0887"
             ],
             [
              0.1111111111111111,
              "#46039f"
             ],
             [
              0.2222222222222222,
              "#7201a8"
             ],
             [
              0.3333333333333333,
              "#9c179e"
             ],
             [
              0.4444444444444444,
              "#bd3786"
             ],
             [
              0.5555555555555556,
              "#d8576b"
             ],
             [
              0.6666666666666666,
              "#ed7953"
             ],
             [
              0.7777777777777778,
              "#fb9f3a"
             ],
             [
              0.8888888888888888,
              "#fdca26"
             ],
             [
              1,
              "#f0f921"
             ]
            ],
            "type": "heatmapgl"
           }
          ],
          "histogram": [
           {
            "marker": {
             "pattern": {
              "fillmode": "overlay",
              "size": 10,
              "solidity": 0.2
             }
            },
            "type": "histogram"
           }
          ],
          "histogram2d": [
           {
            "colorbar": {
             "outlinewidth": 0,
             "ticks": ""
            },
            "colorscale": [
             [
              0,
              "#0d0887"
             ],
             [
              0.1111111111111111,
              "#46039f"
             ],
             [
              0.2222222222222222,
              "#7201a8"
             ],
             [
              0.3333333333333333,
              "#9c179e"
             ],
             [
              0.4444444444444444,
              "#bd3786"
             ],
             [
              0.5555555555555556,
              "#d8576b"
             ],
             [
              0.6666666666666666,
              "#ed7953"
             ],
             [
              0.7777777777777778,
              "#fb9f3a"
             ],
             [
              0.8888888888888888,
              "#fdca26"
             ],
             [
              1,
              "#f0f921"
             ]
            ],
            "type": "histogram2d"
           }
          ],
          "histogram2dcontour": [
           {
            "colorbar": {
             "outlinewidth": 0,
             "ticks": ""
            },
            "colorscale": [
             [
              0,
              "#0d0887"
             ],
             [
              0.1111111111111111,
              "#46039f"
             ],
             [
              0.2222222222222222,
              "#7201a8"
             ],
             [
              0.3333333333333333,
              "#9c179e"
             ],
             [
              0.4444444444444444,
              "#bd3786"
             ],
             [
              0.5555555555555556,
              "#d8576b"
             ],
             [
              0.6666666666666666,
              "#ed7953"
             ],
             [
              0.7777777777777778,
              "#fb9f3a"
             ],
             [
              0.8888888888888888,
              "#fdca26"
             ],
             [
              1,
              "#f0f921"
             ]
            ],
            "type": "histogram2dcontour"
           }
          ],
          "mesh3d": [
           {
            "colorbar": {
             "outlinewidth": 0,
             "ticks": ""
            },
            "type": "mesh3d"
           }
          ],
          "parcoords": [
           {
            "line": {
             "colorbar": {
              "outlinewidth": 0,
              "ticks": ""
             }
            },
            "type": "parcoords"
           }
          ],
          "pie": [
           {
            "automargin": true,
            "type": "pie"
           }
          ],
          "scatter": [
           {
            "fillpattern": {
             "fillmode": "overlay",
             "size": 10,
             "solidity": 0.2
            },
            "type": "scatter"
           }
          ],
          "scatter3d": [
           {
            "line": {
             "colorbar": {
              "outlinewidth": 0,
              "ticks": ""
             }
            },
            "marker": {
             "colorbar": {
              "outlinewidth": 0,
              "ticks": ""
             }
            },
            "type": "scatter3d"
           }
          ],
          "scattercarpet": [
           {
            "marker": {
             "colorbar": {
              "outlinewidth": 0,
              "ticks": ""
             }
            },
            "type": "scattercarpet"
           }
          ],
          "scattergeo": [
           {
            "marker": {
             "colorbar": {
              "outlinewidth": 0,
              "ticks": ""
             }
            },
            "type": "scattergeo"
           }
          ],
          "scattergl": [
           {
            "marker": {
             "colorbar": {
              "outlinewidth": 0,
              "ticks": ""
             }
            },
            "type": "scattergl"
           }
          ],
          "scattermapbox": [
           {
            "marker": {
             "colorbar": {
              "outlinewidth": 0,
              "ticks": ""
             }
            },
            "type": "scattermapbox"
           }
          ],
          "scatterpolar": [
           {
            "marker": {
             "colorbar": {
              "outlinewidth": 0,
              "ticks": ""
             }
            },
            "type": "scatterpolar"
           }
          ],
          "scatterpolargl": [
           {
            "marker": {
             "colorbar": {
              "outlinewidth": 0,
              "ticks": ""
             }
            },
            "type": "scatterpolargl"
           }
          ],
          "scatterternary": [
           {
            "marker": {
             "colorbar": {
              "outlinewidth": 0,
              "ticks": ""
             }
            },
            "type": "scatterternary"
           }
          ],
          "surface": [
           {
            "colorbar": {
             "outlinewidth": 0,
             "ticks": ""
            },
            "colorscale": [
             [
              0,
              "#0d0887"
             ],
             [
              0.1111111111111111,
              "#46039f"
             ],
             [
              0.2222222222222222,
              "#7201a8"
             ],
             [
              0.3333333333333333,
              "#9c179e"
             ],
             [
              0.4444444444444444,
              "#bd3786"
             ],
             [
              0.5555555555555556,
              "#d8576b"
             ],
             [
              0.6666666666666666,
              "#ed7953"
             ],
             [
              0.7777777777777778,
              "#fb9f3a"
             ],
             [
              0.8888888888888888,
              "#fdca26"
             ],
             [
              1,
              "#f0f921"
             ]
            ],
            "type": "surface"
           }
          ],
          "table": [
           {
            "cells": {
             "fill": {
              "color": "#EBF0F8"
             },
             "line": {
              "color": "white"
             }
            },
            "header": {
             "fill": {
              "color": "#C8D4E3"
             },
             "line": {
              "color": "white"
             }
            },
            "type": "table"
           }
          ]
         },
         "layout": {
          "annotationdefaults": {
           "arrowcolor": "#2a3f5f",
           "arrowhead": 0,
           "arrowwidth": 1
          },
          "autotypenumbers": "strict",
          "coloraxis": {
           "colorbar": {
            "outlinewidth": 0,
            "ticks": ""
           }
          },
          "colorscale": {
           "diverging": [
            [
             0,
             "#8e0152"
            ],
            [
             0.1,
             "#c51b7d"
            ],
            [
             0.2,
             "#de77ae"
            ],
            [
             0.3,
             "#f1b6da"
            ],
            [
             0.4,
             "#fde0ef"
            ],
            [
             0.5,
             "#f7f7f7"
            ],
            [
             0.6,
             "#e6f5d0"
            ],
            [
             0.7,
             "#b8e186"
            ],
            [
             0.8,
             "#7fbc41"
            ],
            [
             0.9,
             "#4d9221"
            ],
            [
             1,
             "#276419"
            ]
           ],
           "sequential": [
            [
             0,
             "#0d0887"
            ],
            [
             0.1111111111111111,
             "#46039f"
            ],
            [
             0.2222222222222222,
             "#7201a8"
            ],
            [
             0.3333333333333333,
             "#9c179e"
            ],
            [
             0.4444444444444444,
             "#bd3786"
            ],
            [
             0.5555555555555556,
             "#d8576b"
            ],
            [
             0.6666666666666666,
             "#ed7953"
            ],
            [
             0.7777777777777778,
             "#fb9f3a"
            ],
            [
             0.8888888888888888,
             "#fdca26"
            ],
            [
             1,
             "#f0f921"
            ]
           ],
           "sequentialminus": [
            [
             0,
             "#0d0887"
            ],
            [
             0.1111111111111111,
             "#46039f"
            ],
            [
             0.2222222222222222,
             "#7201a8"
            ],
            [
             0.3333333333333333,
             "#9c179e"
            ],
            [
             0.4444444444444444,
             "#bd3786"
            ],
            [
             0.5555555555555556,
             "#d8576b"
            ],
            [
             0.6666666666666666,
             "#ed7953"
            ],
            [
             0.7777777777777778,
             "#fb9f3a"
            ],
            [
             0.8888888888888888,
             "#fdca26"
            ],
            [
             1,
             "#f0f921"
            ]
           ]
          },
          "colorway": [
           "#636efa",
           "#EF553B",
           "#00cc96",
           "#ab63fa",
           "#FFA15A",
           "#19d3f3",
           "#FF6692",
           "#B6E880",
           "#FF97FF",
           "#FECB52"
          ],
          "font": {
           "color": "#2a3f5f"
          },
          "geo": {
           "bgcolor": "white",
           "lakecolor": "white",
           "landcolor": "#E5ECF6",
           "showlakes": true,
           "showland": true,
           "subunitcolor": "white"
          },
          "hoverlabel": {
           "align": "left"
          },
          "hovermode": "closest",
          "mapbox": {
           "style": "light"
          },
          "paper_bgcolor": "white",
          "plot_bgcolor": "#E5ECF6",
          "polar": {
           "angularaxis": {
            "gridcolor": "white",
            "linecolor": "white",
            "ticks": ""
           },
           "bgcolor": "#E5ECF6",
           "radialaxis": {
            "gridcolor": "white",
            "linecolor": "white",
            "ticks": ""
           }
          },
          "scene": {
           "xaxis": {
            "backgroundcolor": "#E5ECF6",
            "gridcolor": "white",
            "gridwidth": 2,
            "linecolor": "white",
            "showbackground": true,
            "ticks": "",
            "zerolinecolor": "white"
           },
           "yaxis": {
            "backgroundcolor": "#E5ECF6",
            "gridcolor": "white",
            "gridwidth": 2,
            "linecolor": "white",
            "showbackground": true,
            "ticks": "",
            "zerolinecolor": "white"
           },
           "zaxis": {
            "backgroundcolor": "#E5ECF6",
            "gridcolor": "white",
            "gridwidth": 2,
            "linecolor": "white",
            "showbackground": true,
            "ticks": "",
            "zerolinecolor": "white"
           }
          },
          "shapedefaults": {
           "line": {
            "color": "#2a3f5f"
           }
          },
          "ternary": {
           "aaxis": {
            "gridcolor": "white",
            "linecolor": "white",
            "ticks": ""
           },
           "baxis": {
            "gridcolor": "white",
            "linecolor": "white",
            "ticks": ""
           },
           "bgcolor": "#E5ECF6",
           "caxis": {
            "gridcolor": "white",
            "linecolor": "white",
            "ticks": ""
           }
          },
          "title": {
           "x": 0.05
          },
          "xaxis": {
           "automargin": true,
           "gridcolor": "white",
           "linecolor": "white",
           "ticks": "",
           "title": {
            "standoff": 15
           },
           "zerolinecolor": "white",
           "zerolinewidth": 2
          },
          "yaxis": {
           "automargin": true,
           "gridcolor": "white",
           "linecolor": "white",
           "ticks": "",
           "title": {
            "standoff": 15
           },
           "zerolinecolor": "white",
           "zerolinewidth": 2
          }
         }
        },
        "title": {
         "text": "Goals per Clubs - Seasons"
        },
        "xaxis": {
         "anchor": "y",
         "domain": [
          0,
          1
         ],
         "title": {
          "text": "Club"
         }
        },
        "yaxis": {
         "anchor": "x",
         "domain": [
          0,
          1
         ],
         "title": {
          "text": "count"
         }
        }
       }
      },
      "text/html": [
       "<div>                            <div id=\"27b1b991-5f33-4ed4-ad98-f666af7e5816\" class=\"plotly-graph-div\" style=\"height:500px; width:100%;\"></div>            <script type=\"text/javascript\">                require([\"plotly\"], function(Plotly) {                    window.PLOTLYENV=window.PLOTLYENV || {};                                    if (document.getElementById(\"27b1b991-5f33-4ed4-ad98-f666af7e5816\")) {                    Plotly.newPlot(                        \"27b1b991-5f33-4ed4-ad98-f666af7e5816\",                        [{\"alignmentgroup\":\"True\",\"bingroup\":\"x\",\"hovertemplate\":\"Season=02/03<br>Club=%{x}<br>count=%{y}<extra></extra>\",\"legendgroup\":\"02/03\",\"marker\":{\"color\":\"#636efa\",\"pattern\":{\"shape\":\"\"}},\"name\":\"02/03\",\"offsetgroup\":\"02/03\",\"orientation\":\"v\",\"showlegend\":true,\"x\":[\"Sporting CP\"],\"xaxis\":\"x\",\"yaxis\":\"y\",\"type\":\"histogram\"},{\"alignmentgroup\":\"True\",\"bingroup\":\"x\",\"hovertemplate\":\"Season=03/04<br>Club=%{x}<br>count=%{y}<extra></extra>\",\"legendgroup\":\"03/04\",\"marker\":{\"color\":\"#EF553B\",\"pattern\":{\"shape\":\"\"}},\"name\":\"03/04\",\"offsetgroup\":\"03/04\",\"orientation\":\"v\",\"showlegend\":true,\"x\":[\"Manchester United\"],\"xaxis\":\"x\",\"yaxis\":\"y\",\"type\":\"histogram\"},{\"alignmentgroup\":\"True\",\"bingroup\":\"x\",\"hovertemplate\":\"Season=04/05<br>Club=%{x}<br>count=%{y}<extra></extra>\",\"legendgroup\":\"04/05\",\"marker\":{\"color\":\"#00cc96\",\"pattern\":{\"shape\":\"\"}},\"name\":\"04/05\",\"offsetgroup\":\"04/05\",\"orientation\":\"v\",\"showlegend\":true,\"x\":[\"Manchester United\",\"Manchester United\",\"Manchester United\"],\"xaxis\":\"x\",\"yaxis\":\"y\",\"type\":\"histogram\"},{\"alignmentgroup\":\"True\",\"bingroup\":\"x\",\"hovertemplate\":\"Season=05/06<br>Club=%{x}<br>count=%{y}<extra></extra>\",\"legendgroup\":\"05/06\",\"marker\":{\"color\":\"#ab63fa\",\"pattern\":{\"shape\":\"\"}},\"name\":\"05/06\",\"offsetgroup\":\"05/06\",\"orientation\":\"v\",\"showlegend\":true,\"x\":[\"Manchester United\",\"Manchester United\"],\"xaxis\":\"x\",\"yaxis\":\"y\",\"type\":\"histogram\"},{\"alignmentgroup\":\"True\",\"bingroup\":\"x\",\"hovertemplate\":\"Season=06/07<br>Club=%{x}<br>count=%{y}<extra></extra>\",\"legendgroup\":\"06/07\",\"marker\":{\"color\":\"#FFA15A\",\"pattern\":{\"shape\":\"\"}},\"name\":\"06/07\",\"offsetgroup\":\"06/07\",\"orientation\":\"v\",\"showlegend\":true,\"x\":[\"Manchester United\",\"Manchester United\",\"Manchester United\"],\"xaxis\":\"x\",\"yaxis\":\"y\",\"type\":\"histogram\"},{\"alignmentgroup\":\"True\",\"bingroup\":\"x\",\"hovertemplate\":\"Season=07/08<br>Club=%{x}<br>count=%{y}<extra></extra>\",\"legendgroup\":\"07/08\",\"marker\":{\"color\":\"#19d3f3\",\"pattern\":{\"shape\":\"\"}},\"name\":\"07/08\",\"offsetgroup\":\"07/08\",\"orientation\":\"v\",\"showlegend\":true,\"x\":[\"Manchester United\",\"Manchester United\",\"Manchester United\",\"Manchester United\",\"Manchester United\",\"Manchester United\",\"Manchester United\",\"Manchester United\",\"Manchester United\",\"Manchester United\",\"Manchester United\",\"Manchester United\",\"Manchester United\",\"Manchester United\",\"Manchester United\",\"Manchester United\",\"Manchester United\",\"Manchester United\",\"Manchester United\"],\"xaxis\":\"x\",\"yaxis\":\"y\",\"type\":\"histogram\"},{\"alignmentgroup\":\"True\",\"bingroup\":\"x\",\"hovertemplate\":\"Season=08/09<br>Club=%{x}<br>count=%{y}<extra></extra>\",\"legendgroup\":\"08/09\",\"marker\":{\"color\":\"#FF6692\",\"pattern\":{\"shape\":\"\"}},\"name\":\"08/09\",\"offsetgroup\":\"08/09\",\"orientation\":\"v\",\"showlegend\":true,\"x\":[\"Manchester United\",\"Manchester United\",\"Manchester United\",\"Manchester United\",\"Manchester United\",\"Manchester United\",\"Manchester United\",\"Manchester United\",\"Manchester United\",\"Manchester United\",\"Manchester United\",\"Manchester United\",\"Manchester United\",\"Manchester United\"],\"xaxis\":\"x\",\"yaxis\":\"y\",\"type\":\"histogram\"},{\"alignmentgroup\":\"True\",\"bingroup\":\"x\",\"hovertemplate\":\"Season=09/10<br>Club=%{x}<br>count=%{y}<extra></extra>\",\"legendgroup\":\"09/10\",\"marker\":{\"color\":\"#B6E880\",\"pattern\":{\"shape\":\"\"}},\"name\":\"09/10\",\"offsetgroup\":\"09/10\",\"orientation\":\"v\",\"showlegend\":true,\"x\":[\"Real Madrid\",\"Real Madrid\",\"Real Madrid\",\"Real Madrid\",\"Real Madrid\",\"Real Madrid\",\"Real Madrid\",\"Real Madrid\",\"Real Madrid\",\"Real Madrid\"],\"xaxis\":\"x\",\"yaxis\":\"y\",\"type\":\"histogram\"},{\"alignmentgroup\":\"True\",\"bingroup\":\"x\",\"hovertemplate\":\"Season=10/11<br>Club=%{x}<br>count=%{y}<extra></extra>\",\"legendgroup\":\"10/11\",\"marker\":{\"color\":\"#FF97FF\",\"pattern\":{\"shape\":\"\"}},\"name\":\"10/11\",\"offsetgroup\":\"10/11\",\"orientation\":\"v\",\"showlegend\":true,\"x\":[\"Real Madrid\",\"Real Madrid\",\"Real Madrid\",\"Real Madrid\",\"Real Madrid\",\"Real Madrid\",\"Real Madrid\",\"Real Madrid\",\"Real Madrid\",\"Real Madrid\",\"Real Madrid\",\"Real Madrid\",\"Real Madrid\",\"Real Madrid\",\"Real Madrid\",\"Real Madrid\",\"Real Madrid\",\"Real Madrid\",\"Real Madrid\",\"Real Madrid\",\"Real Madrid\",\"Real Madrid\",\"Real Madrid\",\"Real Madrid\",\"Real Madrid\",\"Real Madrid\",\"Real Madrid\",\"Real Madrid\",\"Real Madrid\",\"Real Madrid\",\"Real Madrid\",\"Real Madrid\",\"Real Madrid\",\"Real Madrid\",\"Real Madrid\",\"Real Madrid\"],\"xaxis\":\"x\",\"yaxis\":\"y\",\"type\":\"histogram\"},{\"alignmentgroup\":\"True\",\"bingroup\":\"x\",\"hovertemplate\":\"Season=11/12<br>Club=%{x}<br>count=%{y}<extra></extra>\",\"legendgroup\":\"11/12\",\"marker\":{\"color\":\"#FECB52\",\"pattern\":{\"shape\":\"\"}},\"name\":\"11/12\",\"offsetgroup\":\"11/12\",\"orientation\":\"v\",\"showlegend\":true,\"x\":[\"Real Madrid\",\"Real Madrid\",\"Real Madrid\",\"Real Madrid\",\"Real Madrid\",\"Real Madrid\",\"Real Madrid\",\"Real Madrid\",\"Real Madrid\",\"Real Madrid\",\"Real Madrid\",\"Real Madrid\",\"Real Madrid\",\"Real Madrid\",\"Real Madrid\",\"Real Madrid\",\"Real Madrid\",\"Real Madrid\",\"Real Madrid\",\"Real Madrid\",\"Real Madrid\",\"Real Madrid\",\"Real Madrid\",\"Real Madrid\",\"Real Madrid\",\"Real Madrid\",\"Real Madrid\",\"Real Madrid\",\"Real Madrid\",\"Real Madrid\",\"Real Madrid\",\"Real Madrid\",\"Real Madrid\",\"Real Madrid\",\"Real Madrid\",\"Real Madrid\",\"Real Madrid\",\"Real Madrid\"],\"xaxis\":\"x\",\"yaxis\":\"y\",\"type\":\"histogram\"},{\"alignmentgroup\":\"True\",\"bingroup\":\"x\",\"hovertemplate\":\"Season=Dec-13<br>Club=%{x}<br>count=%{y}<extra></extra>\",\"legendgroup\":\"Dec-13\",\"marker\":{\"color\":\"#636efa\",\"pattern\":{\"shape\":\"\"}},\"name\":\"Dec-13\",\"offsetgroup\":\"Dec-13\",\"orientation\":\"v\",\"showlegend\":true,\"x\":[\"Real Madrid\",\"Real Madrid\",\"Real Madrid\",\"Real Madrid\",\"Real Madrid\",\"Real Madrid\",\"Real Madrid\",\"Real Madrid\",\"Real Madrid\",\"Real Madrid\",\"Real Madrid\",\"Real Madrid\",\"Real Madrid\",\"Real Madrid\",\"Real Madrid\",\"Real Madrid\",\"Real Madrid\",\"Real Madrid\",\"Real Madrid\",\"Real Madrid\",\"Real Madrid\",\"Real Madrid\",\"Real Madrid\",\"Real Madrid\",\"Real Madrid\",\"Real Madrid\",\"Real Madrid\",\"Real Madrid\",\"Real Madrid\",\"Real Madrid\",\"Real Madrid\",\"Real Madrid\",\"Real Madrid\",\"Real Madrid\",\"Real Madrid\",\"Real Madrid\",\"Real Madrid\",\"Real Madrid\",\"Real Madrid\",\"Real Madrid\",\"Real Madrid\"],\"xaxis\":\"x\",\"yaxis\":\"y\",\"type\":\"histogram\"},{\"alignmentgroup\":\"True\",\"bingroup\":\"x\",\"hovertemplate\":\"Season=13/14<br>Club=%{x}<br>count=%{y}<extra></extra>\",\"legendgroup\":\"13/14\",\"marker\":{\"color\":\"#EF553B\",\"pattern\":{\"shape\":\"\"}},\"name\":\"13/14\",\"offsetgroup\":\"13/14\",\"orientation\":\"v\",\"showlegend\":true,\"x\":[\"Real Madrid\",\"Real Madrid\",\"Real Madrid\",\"Real Madrid\",\"Real Madrid\",\"Real Madrid\",\"Real Madrid\",\"Real Madrid\",\"Real Madrid\",\"Real Madrid\",\"Real Madrid\",\"Real Madrid\",\"Real Madrid\",\"Real Madrid\",\"Real Madrid\",\"Real Madrid\",\"Real Madrid\",\"Real Madrid\",\"Real Madrid\",\"Real Madrid\",\"Real Madrid\",\"Real Madrid\",\"Real Madrid\",\"Real Madrid\",\"Real Madrid\",\"Real Madrid\",\"Real Madrid\",\"Real Madrid\",\"Real Madrid\",\"Real Madrid\",\"Real Madrid\",\"Real Madrid\",\"Real Madrid\",\"Real Madrid\"],\"xaxis\":\"x\",\"yaxis\":\"y\",\"type\":\"histogram\"},{\"alignmentgroup\":\"True\",\"bingroup\":\"x\",\"hovertemplate\":\"Season=14/15<br>Club=%{x}<br>count=%{y}<extra></extra>\",\"legendgroup\":\"14/15\",\"marker\":{\"color\":\"#00cc96\",\"pattern\":{\"shape\":\"\"}},\"name\":\"14/15\",\"offsetgroup\":\"14/15\",\"orientation\":\"v\",\"showlegend\":true,\"x\":[\"Real Madrid\",\"Real Madrid\",\"Real Madrid\",\"Real Madrid\",\"Real Madrid\",\"Real Madrid\",\"Real Madrid\",\"Real Madrid\",\"Real Madrid\",\"Real Madrid\",\"Real Madrid\",\"Real Madrid\",\"Real Madrid\",\"Real Madrid\",\"Real Madrid\",\"Real Madrid\",\"Real Madrid\",\"Real Madrid\",\"Real Madrid\",\"Real Madrid\",\"Real Madrid\",\"Real Madrid\",\"Real Madrid\",\"Real Madrid\",\"Real Madrid\",\"Real Madrid\",\"Real Madrid\",\"Real Madrid\",\"Real Madrid\",\"Real Madrid\",\"Real Madrid\",\"Real Madrid\",\"Real Madrid\",\"Real Madrid\",\"Real Madrid\",\"Real Madrid\",\"Real Madrid\",\"Real Madrid\",\"Real Madrid\",\"Real Madrid\",\"Real Madrid\",\"Real Madrid\",\"Real Madrid\",\"Real Madrid\"],\"xaxis\":\"x\",\"yaxis\":\"y\",\"type\":\"histogram\"},{\"alignmentgroup\":\"True\",\"bingroup\":\"x\",\"hovertemplate\":\"Season=15/16<br>Club=%{x}<br>count=%{y}<extra></extra>\",\"legendgroup\":\"15/16\",\"marker\":{\"color\":\"#ab63fa\",\"pattern\":{\"shape\":\"\"}},\"name\":\"15/16\",\"offsetgroup\":\"15/16\",\"orientation\":\"v\",\"showlegend\":true,\"x\":[\"Real Madrid\",\"Real Madrid\",\"Real Madrid\",\"Real Madrid\",\"Real Madrid\",\"Real Madrid\",\"Real Madrid\",\"Real Madrid\",\"Real Madrid\",\"Real Madrid\",\"Real Madrid\",\"Real Madrid\",\"Real Madrid\",\"Real Madrid\",\"Real Madrid\",\"Real Madrid\",\"Real Madrid\",\"Real Madrid\",\"Real Madrid\",\"Real Madrid\",\"Real Madrid\",\"Real Madrid\",\"Real Madrid\",\"Real Madrid\",\"Real Madrid\",\"Real Madrid\",\"Real Madrid\",\"Real Madrid\",\"Real Madrid\",\"Real Madrid\",\"Real Madrid\",\"Real Madrid\",\"Real Madrid\",\"Real Madrid\",\"Real Madrid\",\"Real Madrid\",\"Real Madrid\"],\"xaxis\":\"x\",\"yaxis\":\"y\",\"type\":\"histogram\"},{\"alignmentgroup\":\"True\",\"bingroup\":\"x\",\"hovertemplate\":\"Season=16/17<br>Club=%{x}<br>count=%{y}<extra></extra>\",\"legendgroup\":\"16/17\",\"marker\":{\"color\":\"#FFA15A\",\"pattern\":{\"shape\":\"\"}},\"name\":\"16/17\",\"offsetgroup\":\"16/17\",\"orientation\":\"v\",\"showlegend\":true,\"x\":[\"Real Madrid\",\"Real Madrid\",\"Real Madrid\",\"Real Madrid\",\"Real Madrid\",\"Real Madrid\",\"Real Madrid\",\"Real Madrid\",\"Real Madrid\",\"Real Madrid\",\"Real Madrid\",\"Real Madrid\",\"Real Madrid\",\"Real Madrid\",\"Real Madrid\",\"Real Madrid\",\"Real Madrid\",\"Real Madrid\",\"Real Madrid\",\"Real Madrid\",\"Real Madrid\",\"Real Madrid\",\"Real Madrid\",\"Real Madrid\",\"Real Madrid\",\"Real Madrid\",\"Real Madrid\",\"Real Madrid\",\"Real Madrid\",\"Real Madrid\"],\"xaxis\":\"x\",\"yaxis\":\"y\",\"type\":\"histogram\"},{\"alignmentgroup\":\"True\",\"bingroup\":\"x\",\"hovertemplate\":\"Season=17/18<br>Club=%{x}<br>count=%{y}<extra></extra>\",\"legendgroup\":\"17/18\",\"marker\":{\"color\":\"#19d3f3\",\"pattern\":{\"shape\":\"\"}},\"name\":\"17/18\",\"offsetgroup\":\"17/18\",\"orientation\":\"v\",\"showlegend\":true,\"x\":[\"Real Madrid\",\"Real Madrid\",\"Real Madrid\",\"Real Madrid\",\"Real Madrid\",\"Real Madrid\",\"Real Madrid\",\"Real Madrid\",\"Real Madrid\",\"Real Madrid\",\"Real Madrid\",\"Real Madrid\",\"Real Madrid\",\"Real Madrid\",\"Real Madrid\",\"Real Madrid\",\"Real Madrid\",\"Real Madrid\",\"Real Madrid\",\"Real Madrid\",\"Real Madrid\",\"Real Madrid\",\"Real Madrid\",\"Real Madrid\",\"Real Madrid\",\"Real Madrid\",\"Real Madrid\",\"Real Madrid\",\"Real Madrid\",\"Real Madrid\",\"Real Madrid\"],\"xaxis\":\"x\",\"yaxis\":\"y\",\"type\":\"histogram\"},{\"alignmentgroup\":\"True\",\"bingroup\":\"x\",\"hovertemplate\":\"Season=18/19<br>Club=%{x}<br>count=%{y}<extra></extra>\",\"legendgroup\":\"18/19\",\"marker\":{\"color\":\"#FF6692\",\"pattern\":{\"shape\":\"\"}},\"name\":\"18/19\",\"offsetgroup\":\"18/19\",\"orientation\":\"v\",\"showlegend\":true,\"x\":[\"Juventus FC\",\"Juventus FC\",\"Juventus FC\",\"Juventus FC\",\"Juventus FC\",\"Juventus FC\",\"Juventus FC\",\"Juventus FC\",\"Juventus FC\",\"Juventus FC\",\"Juventus FC\",\"Juventus FC\",\"Juventus FC\",\"Juventus FC\",\"Juventus FC\",\"Juventus FC\",\"Juventus FC\",\"Juventus FC\"],\"xaxis\":\"x\",\"yaxis\":\"y\",\"type\":\"histogram\"},{\"alignmentgroup\":\"True\",\"bingroup\":\"x\",\"hovertemplate\":\"Season=19/20<br>Club=%{x}<br>count=%{y}<extra></extra>\",\"legendgroup\":\"19/20\",\"marker\":{\"color\":\"#B6E880\",\"pattern\":{\"shape\":\"\"}},\"name\":\"19/20\",\"offsetgroup\":\"19/20\",\"orientation\":\"v\",\"showlegend\":true,\"x\":[\"Juventus FC\",\"Juventus FC\",\"Juventus FC\",\"Juventus FC\",\"Juventus FC\",\"Juventus FC\",\"Juventus FC\",\"Juventus FC\",\"Juventus FC\",\"Juventus FC\",\"Juventus FC\",\"Juventus FC\",\"Juventus FC\",\"Juventus FC\",\"Juventus FC\",\"Juventus FC\",\"Juventus FC\",\"Juventus FC\",\"Juventus FC\"],\"xaxis\":\"x\",\"yaxis\":\"y\",\"type\":\"histogram\"},{\"alignmentgroup\":\"True\",\"bingroup\":\"x\",\"hovertemplate\":\"Season=20/21<br>Club=%{x}<br>count=%{y}<extra></extra>\",\"legendgroup\":\"20/21\",\"marker\":{\"color\":\"#FF97FF\",\"pattern\":{\"shape\":\"\"}},\"name\":\"20/21\",\"offsetgroup\":\"20/21\",\"orientation\":\"v\",\"showlegend\":true,\"x\":[\"Juventus FC\",\"Juventus FC\",\"Juventus FC\",\"Juventus FC\",\"Juventus FC\",\"Juventus FC\",\"Juventus FC\",\"Juventus FC\",\"Juventus FC\",\"Juventus FC\",\"Juventus FC\",\"Juventus FC\",\"Juventus FC\",\"Juventus FC\",\"Juventus FC\",\"Juventus FC\",\"Juventus FC\",\"Juventus FC\",\"Juventus FC\",\"Juventus FC\",\"Juventus FC\",\"Juventus FC\",\"Juventus FC\"],\"xaxis\":\"x\",\"yaxis\":\"y\",\"type\":\"histogram\"},{\"alignmentgroup\":\"True\",\"bingroup\":\"x\",\"hovertemplate\":\"Season=21/22<br>Club=%{x}<br>count=%{y}<extra></extra>\",\"legendgroup\":\"21/22\",\"marker\":{\"color\":\"#FECB52\",\"pattern\":{\"shape\":\"\"}},\"name\":\"21/22\",\"offsetgroup\":\"21/22\",\"orientation\":\"v\",\"showlegend\":true,\"x\":[\"Manchester United\",\"Manchester United\",\"Manchester United\",\"Manchester United\",\"Manchester United\",\"Manchester United\",\"Manchester United\",\"Manchester United\",\"Manchester United\",\"Manchester United\",\"Manchester United\",\"Manchester United\",\"Manchester United\",\"Manchester United\",\"Manchester United\",\"Manchester United\"],\"xaxis\":\"x\",\"yaxis\":\"y\",\"type\":\"histogram\"}],                        {\"template\":{\"data\":{\"histogram2dcontour\":[{\"type\":\"histogram2dcontour\",\"colorbar\":{\"outlinewidth\":0,\"ticks\":\"\"},\"colorscale\":[[0.0,\"#0d0887\"],[0.1111111111111111,\"#46039f\"],[0.2222222222222222,\"#7201a8\"],[0.3333333333333333,\"#9c179e\"],[0.4444444444444444,\"#bd3786\"],[0.5555555555555556,\"#d8576b\"],[0.6666666666666666,\"#ed7953\"],[0.7777777777777778,\"#fb9f3a\"],[0.8888888888888888,\"#fdca26\"],[1.0,\"#f0f921\"]]}],\"choropleth\":[{\"type\":\"choropleth\",\"colorbar\":{\"outlinewidth\":0,\"ticks\":\"\"}}],\"histogram2d\":[{\"type\":\"histogram2d\",\"colorbar\":{\"outlinewidth\":0,\"ticks\":\"\"},\"colorscale\":[[0.0,\"#0d0887\"],[0.1111111111111111,\"#46039f\"],[0.2222222222222222,\"#7201a8\"],[0.3333333333333333,\"#9c179e\"],[0.4444444444444444,\"#bd3786\"],[0.5555555555555556,\"#d8576b\"],[0.6666666666666666,\"#ed7953\"],[0.7777777777777778,\"#fb9f3a\"],[0.8888888888888888,\"#fdca26\"],[1.0,\"#f0f921\"]]}],\"heatmap\":[{\"type\":\"heatmap\",\"colorbar\":{\"outlinewidth\":0,\"ticks\":\"\"},\"colorscale\":[[0.0,\"#0d0887\"],[0.1111111111111111,\"#46039f\"],[0.2222222222222222,\"#7201a8\"],[0.3333333333333333,\"#9c179e\"],[0.4444444444444444,\"#bd3786\"],[0.5555555555555556,\"#d8576b\"],[0.6666666666666666,\"#ed7953\"],[0.7777777777777778,\"#fb9f3a\"],[0.8888888888888888,\"#fdca26\"],[1.0,\"#f0f921\"]]}],\"heatmapgl\":[{\"type\":\"heatmapgl\",\"colorbar\":{\"outlinewidth\":0,\"ticks\":\"\"},\"colorscale\":[[0.0,\"#0d0887\"],[0.1111111111111111,\"#46039f\"],[0.2222222222222222,\"#7201a8\"],[0.3333333333333333,\"#9c179e\"],[0.4444444444444444,\"#bd3786\"],[0.5555555555555556,\"#d8576b\"],[0.6666666666666666,\"#ed7953\"],[0.7777777777777778,\"#fb9f3a\"],[0.8888888888888888,\"#fdca26\"],[1.0,\"#f0f921\"]]}],\"contourcarpet\":[{\"type\":\"contourcarpet\",\"colorbar\":{\"outlinewidth\":0,\"ticks\":\"\"}}],\"contour\":[{\"type\":\"contour\",\"colorbar\":{\"outlinewidth\":0,\"ticks\":\"\"},\"colorscale\":[[0.0,\"#0d0887\"],[0.1111111111111111,\"#46039f\"],[0.2222222222222222,\"#7201a8\"],[0.3333333333333333,\"#9c179e\"],[0.4444444444444444,\"#bd3786\"],[0.5555555555555556,\"#d8576b\"],[0.6666666666666666,\"#ed7953\"],[0.7777777777777778,\"#fb9f3a\"],[0.8888888888888888,\"#fdca26\"],[1.0,\"#f0f921\"]]}],\"surface\":[{\"type\":\"surface\",\"colorbar\":{\"outlinewidth\":0,\"ticks\":\"\"},\"colorscale\":[[0.0,\"#0d0887\"],[0.1111111111111111,\"#46039f\"],[0.2222222222222222,\"#7201a8\"],[0.3333333333333333,\"#9c179e\"],[0.4444444444444444,\"#bd3786\"],[0.5555555555555556,\"#d8576b\"],[0.6666666666666666,\"#ed7953\"],[0.7777777777777778,\"#fb9f3a\"],[0.8888888888888888,\"#fdca26\"],[1.0,\"#f0f921\"]]}],\"mesh3d\":[{\"type\":\"mesh3d\",\"colorbar\":{\"outlinewidth\":0,\"ticks\":\"\"}}],\"scatter\":[{\"fillpattern\":{\"fillmode\":\"overlay\",\"size\":10,\"solidity\":0.2},\"type\":\"scatter\"}],\"parcoords\":[{\"type\":\"parcoords\",\"line\":{\"colorbar\":{\"outlinewidth\":0,\"ticks\":\"\"}}}],\"scatterpolargl\":[{\"type\":\"scatterpolargl\",\"marker\":{\"colorbar\":{\"outlinewidth\":0,\"ticks\":\"\"}}}],\"bar\":[{\"error_x\":{\"color\":\"#2a3f5f\"},\"error_y\":{\"color\":\"#2a3f5f\"},\"marker\":{\"line\":{\"color\":\"#E5ECF6\",\"width\":0.5},\"pattern\":{\"fillmode\":\"overlay\",\"size\":10,\"solidity\":0.2}},\"type\":\"bar\"}],\"scattergeo\":[{\"type\":\"scattergeo\",\"marker\":{\"colorbar\":{\"outlinewidth\":0,\"ticks\":\"\"}}}],\"scatterpolar\":[{\"type\":\"scatterpolar\",\"marker\":{\"colorbar\":{\"outlinewidth\":0,\"ticks\":\"\"}}}],\"histogram\":[{\"marker\":{\"pattern\":{\"fillmode\":\"overlay\",\"size\":10,\"solidity\":0.2}},\"type\":\"histogram\"}],\"scattergl\":[{\"type\":\"scattergl\",\"marker\":{\"colorbar\":{\"outlinewidth\":0,\"ticks\":\"\"}}}],\"scatter3d\":[{\"type\":\"scatter3d\",\"line\":{\"colorbar\":{\"outlinewidth\":0,\"ticks\":\"\"}},\"marker\":{\"colorbar\":{\"outlinewidth\":0,\"ticks\":\"\"}}}],\"scattermapbox\":[{\"type\":\"scattermapbox\",\"marker\":{\"colorbar\":{\"outlinewidth\":0,\"ticks\":\"\"}}}],\"scatterternary\":[{\"type\":\"scatterternary\",\"marker\":{\"colorbar\":{\"outlinewidth\":0,\"ticks\":\"\"}}}],\"scattercarpet\":[{\"type\":\"scattercarpet\",\"marker\":{\"colorbar\":{\"outlinewidth\":0,\"ticks\":\"\"}}}],\"carpet\":[{\"aaxis\":{\"endlinecolor\":\"#2a3f5f\",\"gridcolor\":\"white\",\"linecolor\":\"white\",\"minorgridcolor\":\"white\",\"startlinecolor\":\"#2a3f5f\"},\"baxis\":{\"endlinecolor\":\"#2a3f5f\",\"gridcolor\":\"white\",\"linecolor\":\"white\",\"minorgridcolor\":\"white\",\"startlinecolor\":\"#2a3f5f\"},\"type\":\"carpet\"}],\"table\":[{\"cells\":{\"fill\":{\"color\":\"#EBF0F8\"},\"line\":{\"color\":\"white\"}},\"header\":{\"fill\":{\"color\":\"#C8D4E3\"},\"line\":{\"color\":\"white\"}},\"type\":\"table\"}],\"barpolar\":[{\"marker\":{\"line\":{\"color\":\"#E5ECF6\",\"width\":0.5},\"pattern\":{\"fillmode\":\"overlay\",\"size\":10,\"solidity\":0.2}},\"type\":\"barpolar\"}],\"pie\":[{\"automargin\":true,\"type\":\"pie\"}]},\"layout\":{\"autotypenumbers\":\"strict\",\"colorway\":[\"#636efa\",\"#EF553B\",\"#00cc96\",\"#ab63fa\",\"#FFA15A\",\"#19d3f3\",\"#FF6692\",\"#B6E880\",\"#FF97FF\",\"#FECB52\"],\"font\":{\"color\":\"#2a3f5f\"},\"hovermode\":\"closest\",\"hoverlabel\":{\"align\":\"left\"},\"paper_bgcolor\":\"white\",\"plot_bgcolor\":\"#E5ECF6\",\"polar\":{\"bgcolor\":\"#E5ECF6\",\"angularaxis\":{\"gridcolor\":\"white\",\"linecolor\":\"white\",\"ticks\":\"\"},\"radialaxis\":{\"gridcolor\":\"white\",\"linecolor\":\"white\",\"ticks\":\"\"}},\"ternary\":{\"bgcolor\":\"#E5ECF6\",\"aaxis\":{\"gridcolor\":\"white\",\"linecolor\":\"white\",\"ticks\":\"\"},\"baxis\":{\"gridcolor\":\"white\",\"linecolor\":\"white\",\"ticks\":\"\"},\"caxis\":{\"gridcolor\":\"white\",\"linecolor\":\"white\",\"ticks\":\"\"}},\"coloraxis\":{\"colorbar\":{\"outlinewidth\":0,\"ticks\":\"\"}},\"colorscale\":{\"sequential\":[[0.0,\"#0d0887\"],[0.1111111111111111,\"#46039f\"],[0.2222222222222222,\"#7201a8\"],[0.3333333333333333,\"#9c179e\"],[0.4444444444444444,\"#bd3786\"],[0.5555555555555556,\"#d8576b\"],[0.6666666666666666,\"#ed7953\"],[0.7777777777777778,\"#fb9f3a\"],[0.8888888888888888,\"#fdca26\"],[1.0,\"#f0f921\"]],\"sequentialminus\":[[0.0,\"#0d0887\"],[0.1111111111111111,\"#46039f\"],[0.2222222222222222,\"#7201a8\"],[0.3333333333333333,\"#9c179e\"],[0.4444444444444444,\"#bd3786\"],[0.5555555555555556,\"#d8576b\"],[0.6666666666666666,\"#ed7953\"],[0.7777777777777778,\"#fb9f3a\"],[0.8888888888888888,\"#fdca26\"],[1.0,\"#f0f921\"]],\"diverging\":[[0,\"#8e0152\"],[0.1,\"#c51b7d\"],[0.2,\"#de77ae\"],[0.3,\"#f1b6da\"],[0.4,\"#fde0ef\"],[0.5,\"#f7f7f7\"],[0.6,\"#e6f5d0\"],[0.7,\"#b8e186\"],[0.8,\"#7fbc41\"],[0.9,\"#4d9221\"],[1,\"#276419\"]]},\"xaxis\":{\"gridcolor\":\"white\",\"linecolor\":\"white\",\"ticks\":\"\",\"title\":{\"standoff\":15},\"zerolinecolor\":\"white\",\"automargin\":true,\"zerolinewidth\":2},\"yaxis\":{\"gridcolor\":\"white\",\"linecolor\":\"white\",\"ticks\":\"\",\"title\":{\"standoff\":15},\"zerolinecolor\":\"white\",\"automargin\":true,\"zerolinewidth\":2},\"scene\":{\"xaxis\":{\"backgroundcolor\":\"#E5ECF6\",\"gridcolor\":\"white\",\"linecolor\":\"white\",\"showbackground\":true,\"ticks\":\"\",\"zerolinecolor\":\"white\",\"gridwidth\":2},\"yaxis\":{\"backgroundcolor\":\"#E5ECF6\",\"gridcolor\":\"white\",\"linecolor\":\"white\",\"showbackground\":true,\"ticks\":\"\",\"zerolinecolor\":\"white\",\"gridwidth\":2},\"zaxis\":{\"backgroundcolor\":\"#E5ECF6\",\"gridcolor\":\"white\",\"linecolor\":\"white\",\"showbackground\":true,\"ticks\":\"\",\"zerolinecolor\":\"white\",\"gridwidth\":2}},\"shapedefaults\":{\"line\":{\"color\":\"#2a3f5f\"}},\"annotationdefaults\":{\"arrowcolor\":\"#2a3f5f\",\"arrowhead\":0,\"arrowwidth\":1},\"geo\":{\"bgcolor\":\"white\",\"landcolor\":\"#E5ECF6\",\"subunitcolor\":\"white\",\"showland\":true,\"showlakes\":true,\"lakecolor\":\"white\"},\"title\":{\"x\":0.05},\"mapbox\":{\"style\":\"light\"}}},\"xaxis\":{\"anchor\":\"y\",\"domain\":[0.0,1.0],\"title\":{\"text\":\"Club\"}},\"yaxis\":{\"anchor\":\"x\",\"domain\":[0.0,1.0],\"title\":{\"text\":\"count\"}},\"legend\":{\"title\":{\"text\":\"Season\"},\"tracegroupgap\":0},\"title\":{\"text\":\"Goals per Clubs - Seasons\"},\"barmode\":\"relative\",\"height\":500},                        {\"responsive\": true}                    ).then(function(){\n",
       "                            \n",
       "var gd = document.getElementById('27b1b991-5f33-4ed4-ad98-f666af7e5816');\n",
       "var x = new MutationObserver(function (mutations, observer) {{\n",
       "        var display = window.getComputedStyle(gd).display;\n",
       "        if (!display || display === 'none') {{\n",
       "            console.log([gd, 'removed!']);\n",
       "            Plotly.purge(gd);\n",
       "            observer.disconnect();\n",
       "        }}\n",
       "}});\n",
       "\n",
       "// Listen for the removal of the full notebook cells\n",
       "var notebookContainer = gd.closest('#notebook-container');\n",
       "if (notebookContainer) {{\n",
       "    x.observe(notebookContainer, {childList: true});\n",
       "}}\n",
       "\n",
       "// Listen for the clearing of the current output cell\n",
       "var outputEl = gd.closest('.output');\n",
       "if (outputEl) {{\n",
       "    x.observe(outputEl, {childList: true});\n",
       "}}\n",
       "\n",
       "                        })                };                });            </script>        </div>"
      ]
     },
     "metadata": {},
     "output_type": "display_data"
    }
   ],
   "source": [
    "px.histogram(\n",
    "    df,\n",
    "    x='Club',\n",
    "    title=\"Goals per Clubs - Seasons\",\n",
    "    log_x=False,\n",
    "    log_y=False,\n",
    "    #symbol='title',\n",
    "    #markers=True,\n",
    "    #width=800, \n",
    "    height=500,\n",
    "    color='Season',\n",
    "    hover_name='Season',\n",
    "    hover_data=['Competition','Season','Club'])"
   ]
  },
  {
   "cell_type": "code",
   "execution_count": 18,
   "id": "ce9e48fa",
   "metadata": {},
   "outputs": [
    {
     "data": {
      "text/plain": [
       "<AxesSubplot:title={'center':'Goals per venue'}, ylabel='Venue'>"
      ]
     },
     "execution_count": 18,
     "metadata": {},
     "output_type": "execute_result"
    },
    {
     "data": {
      "image/png": "[encoded data removed]",
      "text/plain": [
       "<Figure size 3000x1000 with 1 Axes>"
      ]
     },
     "metadata": {},
     "output_type": "display_data"
    }
   ],
   "source": [
    "plt.figure(figsize=(30,10))\n",
    "plt.title('Goals per venue', fontsize=20)\n",
    "df.Venue.value_counts().plot(kind='pie', labels=['Home', 'Away'], wedgeprops=dict(width=.7), autopct='%1.0f%%', startangle= -20,  textprops={'fontsize': 15})"
   ]
  },
  {
   "cell_type": "code",
   "execution_count": 19,
   "id": "6a94157b",
   "metadata": {},
   "outputs": [
    {
     "data": {
      "application/vnd.plotly.v1+json": {
       "config": {
        "plotlyServerURL": "https://plot.ly"
       },
       "data": [
        {
         "alignmentgroup": "True",
         "bingroup": "x",
         "hovertemplate": "Club=Sporting CP<br>Playing_Position=%{x}<br>count=%{y}<extra></extra>",
         "legendgroup": "Sporting CP",
         "marker": {
          "color": "#636efa",
          "pattern": {
           "shape": ""
          }
         },
         "name": "Sporting CP",
         "offsetgroup": "Sporting CP",
         "orientation": "v",
         "showlegend": true,
         "type": "histogram",
         "x": [
          "LW"
         ],
         "xaxis": "x",
         "yaxis": "y"
        },
        {
         "alignmentgroup": "True",
         "bingroup": "x",
         "hovertemplate": "Club=Manchester United<br>Playing_Position=%{x}<br>count=%{y}<extra></extra>",
         "legendgroup": "Manchester United",
         "marker": {
          "color": "#EF553B",
          "pattern": {
           "shape": ""
          }
         },
         "name": "Manchester United",
         "offsetgroup": "Manchester United",
         "orientation": "v",
         "showlegend": true,
         "type": "histogram",
         "x": [
          "RW",
          "RW",
          "RW",
          "RW",
          "RW",
          "RW",
          "RW",
          "RW",
          "RW",
          "RW",
          "RW",
          "RW",
          "RW",
          "RW",
          "RW",
          "RW",
          "RW",
          "RW",
          "RW",
          "RW",
          "RW",
          "RW",
          "RW",
          "RW",
          "RW",
          "RW",
          "RW",
          "LW",
          "RW",
          "RW",
          "RW",
          "RW",
          "RW",
          "LW",
          "LW",
          "LW",
          "CF",
          "RW",
          "RW",
          "RW",
          "RW",
          "CF",
          "CF",
          "CF",
          "CF",
          "CF",
          "CF",
          "CF",
          "CF",
          "CF",
          "CF",
          "CF",
          "CF",
          "CF",
          "CF",
          "CF",
          "CF",
          "CF"
         ],
         "xaxis": "x",
         "yaxis": "y"
        },
        {
         "alignmentgroup": "True",
         "bingroup": "x",
         "hovertemplate": "Club=Real Madrid<br>Playing_Position=%{x}<br>count=%{y}<extra></extra>",
         "legendgroup": "Real Madrid",
         "marker": {
          "color": "#00cc96",
          "pattern": {
           "shape": ""
          }
         },
         "name": "Real Madrid",
         "offsetgroup": "Real Madrid",
         "orientation": "v",
         "showlegend": true,
         "type": "histogram",
         "x": [
          "RW",
          "CF",
          "CF",
          "CF",
          "CF",
          "CF",
          "RW",
          "RW",
          "LW",
          "CF",
          "LW",
          "LW",
          "LW",
          "LW",
          "LW",
          "LW",
          "LW",
          "LW",
          "LW",
          "LW",
          "LW",
          "LW",
          "LW",
          "LW",
          "LW",
          "LW",
          "LW",
          "LW",
          "LW",
          "LW",
          "CF",
          "LW",
          "LW",
          "LW",
          "LW",
          "LW",
          "CF",
          "RW",
          "CF",
          "LW",
          "LW",
          "LW",
          "LW",
          "LW",
          "LW",
          "LW",
          "LW",
          "LW",
          "LW",
          "LW",
          "LW",
          "LW",
          "LW",
          "LW",
          "LW",
          "LW",
          "LW",
          "LW",
          "LW",
          "LW",
          "LW",
          "LW",
          "LW",
          "LW",
          "LW",
          "LW",
          "LW",
          "LW",
          "LW",
          "LW",
          "LW",
          "LW",
          "LW",
          "LW",
          "LW",
          "LW",
          "LW",
          "LW",
          "LW",
          "LW",
          "LW",
          "LW",
          "LW",
          "LW",
          "LW",
          "LW",
          "LW",
          "LW",
          "LW",
          "LW",
          "LW",
          "LW",
          "LW",
          "LW",
          "LW",
          "LW",
          "LW",
          "LW",
          "LW",
          "CF",
          "LW ",
          "LW",
          "LW",
          "LW",
          "LW",
          "LW",
          "LW",
          "LW",
          "LW",
          "LW",
          "LW",
          "LW",
          "LW",
          "LW",
          "LW",
          "LW",
          "CF",
          "LW",
          "LW",
          "LW",
          "LW",
          "LW",
          "LW",
          "LW ",
          "LW",
          "LW",
          "LW",
          "LW",
          "LW",
          "LW",
          "LW",
          "LW",
          "LW",
          "LW",
          "LW",
          "LW",
          "LW",
          "LW",
          "LW",
          "LW",
          "LW",
          "LW",
          "LW",
          "LW",
          "LW",
          "LW",
          "LW",
          "LW",
          "LW",
          "LW",
          "LW",
          "LW",
          "LW",
          "LW",
          "LW",
          "LW",
          "LW",
          "LW",
          "LW",
          "LW",
          "LW",
          "LW",
          "LW",
          "RW",
          "RW",
          "RW",
          "CF",
          "CF",
          "CF",
          "LW",
          "LW",
          "LW",
          "CF",
          "CF",
          "CF",
          "CF",
          "CF",
          "LW",
          "CF",
          "CF",
          "CF",
          "CF",
          "LW",
          "LW",
          "LW",
          "CF",
          "CF",
          "CF",
          "LW",
          "CF",
          "CF",
          "CF",
          "CF",
          "LW",
          "CF",
          "CF",
          "CF",
          "CF",
          "CF",
          "LW",
          "LW",
          "LW",
          "LW",
          "LW",
          "LW",
          "LW",
          "LW",
          "LW ",
          "LW ",
          "CF",
          "CF",
          "CF",
          "CF",
          "CF",
          "LW",
          "LW",
          "LW",
          "LW",
          "LW",
          "LW",
          "LW",
          "LW",
          "LW",
          "LW",
          "LW",
          "LW",
          "LW",
          "LW",
          "LW",
          "CF",
          "LW",
          "LW",
          "CF",
          "LW",
          "LW",
          "LW",
          "LW",
          "LW",
          "LW",
          "LW",
          "LW",
          "LW",
          "LW",
          "LW",
          "LW",
          "CF",
          "LW",
          "LW",
          "LW",
          "LW",
          "LW",
          "LW",
          "CF",
          "LW",
          "LW",
          "LW",
          "LW",
          "LW",
          "CF",
          "CF",
          "CF",
          "LW",
          "CF",
          "CF",
          "CF",
          "LW",
          "CF",
          "CF",
          "CF",
          "CF",
          "CF",
          "CF",
          "CF",
          "CF",
          "CF",
          "LW",
          "LW",
          "LW",
          "CF",
          "LW",
          "LW",
          "LW",
          "CF",
          "CF",
          "CF",
          "CF ",
          "CF ",
          "CF",
          "CF",
          "CF",
          "CF",
          "CF",
          "CF",
          "CF",
          "CF",
          "CF",
          "CF",
          "CF",
          "CF",
          "LW",
          "CF"
         ],
         "xaxis": "x",
         "yaxis": "y"
        },
        {
         "alignmentgroup": "True",
         "bingroup": "x",
         "hovertemplate": "Club=Juventus FC<br>Playing_Position=%{x}<br>count=%{y}<extra></extra>",
         "legendgroup": "Juventus FC",
         "marker": {
          "color": "#ab63fa",
          "pattern": {
           "shape": ""
          }
         },
         "name": "Juventus FC",
         "offsetgroup": "Juventus FC",
         "orientation": "v",
         "showlegend": true,
         "type": "histogram",
         "x": [
          "CF",
          "LW",
          "CF",
          "CF",
          "CF",
          "CF",
          "LW",
          "LW",
          "LW",
          "LW",
          "LW",
          "LW",
          "CF",
          "CF",
          "LW",
          "LW",
          "CF",
          "CF",
          "LW",
          "CF",
          "CF",
          "CF",
          "CF",
          "CF",
          "LW",
          "CF",
          "CF",
          "CF",
          "LW",
          "LW",
          "LW",
          "LW",
          "LW",
          "LW",
          "LW",
          "LW",
          "LW",
          "CF",
          "CF",
          "CF",
          "LW",
          "CF",
          "CF",
          "CF",
          "CF",
          "CF",
          "CF",
          "CF",
          "CF",
          "CF",
          "CF",
          "CF",
          "CF",
          "CF",
          "CF",
          "CF",
          "CF",
          "CF",
          "CF",
          "CF"
         ],
         "xaxis": "x",
         "yaxis": "y"
        }
       ],
       "layout": {
        "barmode": "relative",
        "height": 500,
        "legend": {
         "title": {
          "text": "Club"
         },
         "tracegroupgap": 0
        },
        "template": {
         "data": {
          "bar": [
           {
            "error_x": {
             "color": "#2a3f5f"
            },
            "error_y": {
             "color": "#2a3f5f"
            },
            "marker": {
             "line": {
              "color": "#E5ECF6",
              "width": 0.5
             },
             "pattern": {
              "fillmode": "overlay",
              "size": 10,
              "solidity": 0.2
             }
            },
            "type": "bar"
           }
          ],
          "barpolar": [
           {
            "marker": {
             "line": {
              "color": "#E5ECF6",
              "width": 0.5
             },
             "pattern": {
              "fillmode": "overlay",
              "size": 10,
              "solidity": 0.2
             }
            },
            "type": "barpolar"
           }
          ],
          "carpet": [
           {
            "aaxis": {
             "endlinecolor": "#2a3f5f",
             "gridcolor": "white",
             "linecolor": "white",
             "minorgridcolor": "white",
             "startlinecolor": "#2a3f5f"
            },
            "baxis": {
             "endlinecolor": "#2a3f5f",
             "gridcolor": "white",
             "linecolor": "white",
             "minorgridcolor": "white",
             "startlinecolor": "#2a3f5f"
            },
            "type": "carpet"
           }
          ],
          "choropleth": [
           {
            "colorbar": {
             "outlinewidth": 0,
             "ticks": ""
            },
            "type": "choropleth"
           }
          ],
          "contour": [
           {
            "colorbar": {
             "outlinewidth": 0,
             "ticks": ""
            },
            "colorscale": [
             [
              0,
              "#0d0887"
             ],
             [
              0.1111111111111111,
              "#46039f"
             ],
             [
              0.2222222222222222,
              "#7201a8"
             ],
             [
              0.3333333333333333,
              "#9c179e"
             ],
             [
              0.4444444444444444,
              "#bd3786"
             ],
             [
              0.5555555555555556,
              "#d8576b"
             ],
             [
              0.6666666666666666,
              "#ed7953"
             ],
             [
              0.7777777777777778,
              "#fb9f3a"
             ],
             [
              0.8888888888888888,
              "#fdca26"
             ],
             [
              1,
              "#f0f921"
             ]
            ],
            "type": "contour"
           }
          ],
          "contourcarpet": [
           {
            "colorbar": {
             "outlinewidth": 0,
             "ticks": ""
            },
            "type": "contourcarpet"
           }
          ],
          "heatmap": [
           {
            "colorbar": {
             "outlinewidth": 0,
             "ticks": ""
            },
            "colorscale": [
             [
              0,
              "#0d0887"
             ],
             [
              0.1111111111111111,
              "#46039f"
             ],
             [
              0.2222222222222222,
              "#7201a8"
             ],
             [
              0.3333333333333333,
              "#9c179e"
             ],
             [
              0.4444444444444444,
              "#bd3786"
             ],
             [
              0.5555555555555556,
              "#d8576b"
             ],
             [
              0.6666666666666666,
              "#ed7953"
             ],
             [
              0.7777777777777778,
              "#fb9f3a"
             ],
             [
              0.8888888888888888,
              "#fdca26"
             ],
             [
              1,
              "#f0f921"
             ]
            ],
            "type": "heatmap"
           }
          ],
          "heatmapgl": [
           {
            "colorbar": {
             "outlinewidth": 0,
             "ticks": ""
            },
            "colorscale": [
             [
              0,
              "#0d0887"
             ],
             [
              0.1111111111111111,
              "#46039f"
             ],
             [
              0.2222222222222222,
              "#7201a8"
             ],
             [
              0.3333333333333333,
              "#9c179e"
             ],
             [
              0.4444444444444444,
              "#bd3786"
             ],
             [
              0.5555555555555556,
              "#d8576b"
             ],
             [
              0.6666666666666666,
              "#ed7953"
             ],
             [
              0.7777777777777778,
              "#fb9f3a"
             ],
             [
              0.8888888888888888,
              "#fdca26"
             ],
             [
              1,
              "#f0f921"
             ]
            ],
            "type": "heatmapgl"
           }
          ],
          "histogram": [
           {
            "marker": {
             "pattern": {
              "fillmode": "overlay",
              "size": 10,
              "solidity": 0.2
             }
            },
            "type": "histogram"
           }
          ],
          "histogram2d": [
           {
            "colorbar": {
             "outlinewidth": 0,
             "ticks": ""
            },
            "colorscale": [
             [
              0,
              "#0d0887"
             ],
             [
              0.1111111111111111,
              "#46039f"
             ],
             [
              0.2222222222222222,
              "#7201a8"
             ],
             [
              0.3333333333333333,
              "#9c179e"
             ],
             [
              0.4444444444444444,
              "#bd3786"
             ],
             [
              0.5555555555555556,
              "#d8576b"
             ],
             [
              0.6666666666666666,
              "#ed7953"
             ],
             [
              0.7777777777777778,
              "#fb9f3a"
             ],
             [
              0.8888888888888888,
              "#fdca26"
             ],
             [
              1,
              "#f0f921"
             ]
            ],
            "type": "histogram2d"
           }
          ],
          "histogram2dcontour": [
           {
            "colorbar": {
             "outlinewidth": 0,
             "ticks": ""
            },
            "colorscale": [
             [
              0,
              "#0d0887"
             ],
             [
              0.1111111111111111,
              "#46039f"
             ],
             [
              0.2222222222222222,
              "#7201a8"
             ],
             [
              0.3333333333333333,
              "#9c179e"
             ],
             [
              0.4444444444444444,
              "#bd3786"
             ],
             [
              0.5555555555555556,
              "#d8576b"
             ],
             [
              0.6666666666666666,
              "#ed7953"
             ],
             [
              0.7777777777777778,
              "#fb9f3a"
             ],
             [
              0.8888888888888888,
              "#fdca26"
             ],
             [
              1,
              "#f0f921"
             ]
            ],
            "type": "histogram2dcontour"
           }
          ],
          "mesh3d": [
           {
            "colorbar": {
             "outlinewidth": 0,
             "ticks": ""
            },
            "type": "mesh3d"
           }
          ],
          "parcoords": [
           {
            "line": {
             "colorbar": {
              "outlinewidth": 0,
              "ticks": ""
             }
            },
            "type": "parcoords"
           }
          ],
          "pie": [
           {
            "automargin": true,
            "type": "pie"
           }
          ],
          "scatter": [
           {
            "fillpattern": {
             "fillmode": "overlay",
             "size": 10,
             "solidity": 0.2
            },
            "type": "scatter"
           }
          ],
          "scatter3d": [
           {
            "line": {
             "colorbar": {
              "outlinewidth": 0,
              "ticks": ""
             }
            },
            "marker": {
             "colorbar": {
              "outlinewidth": 0,
              "ticks": ""
             }
            },
            "type": "scatter3d"
           }
          ],
          "scattercarpet": [
           {
            "marker": {
             "colorbar": {
              "outlinewidth": 0,
              "ticks": ""
             }
            },
            "type": "scattercarpet"
           }
          ],
          "scattergeo": [
           {
            "marker": {
             "colorbar": {
              "outlinewidth": 0,
              "ticks": ""
             }
            },
            "type": "scattergeo"
           }
          ],
          "scattergl": [
           {
            "marker": {
             "colorbar": {
              "outlinewidth": 0,
              "ticks": ""
             }
            },
            "type": "scattergl"
           }
          ],
          "scattermapbox": [
           {
            "marker": {
             "colorbar": {
              "outlinewidth": 0,
              "ticks": ""
             }
            },
            "type": "scattermapbox"
           }
          ],
          "scatterpolar": [
           {
            "marker": {
             "colorbar": {
              "outlinewidth": 0,
              "ticks": ""
             }
            },
            "type": "scatterpolar"
           }
          ],
          "scatterpolargl": [
           {
            "marker": {
             "colorbar": {
              "outlinewidth": 0,
              "ticks": ""
             }
            },
            "type": "scatterpolargl"
           }
          ],
          "scatterternary": [
           {
            "marker": {
             "colorbar": {
              "outlinewidth": 0,
              "ticks": ""
             }
            },
            "type": "scatterternary"
           }
          ],
          "surface": [
           {
            "colorbar": {
             "outlinewidth": 0,
             "ticks": ""
            },
            "colorscale": [
             [
              0,
              "#0d0887"
             ],
             [
              0.1111111111111111,
              "#46039f"
             ],
             [
              0.2222222222222222,
              "#7201a8"
             ],
             [
              0.3333333333333333,
              "#9c179e"
             ],
             [
              0.4444444444444444,
              "#bd3786"
             ],
             [
              0.5555555555555556,
              "#d8576b"
             ],
             [
              0.6666666666666666,
              "#ed7953"
             ],
             [
              0.7777777777777778,
              "#fb9f3a"
             ],
             [
              0.8888888888888888,
              "#fdca26"
             ],
             [
              1,
              "#f0f921"
             ]
            ],
            "type": "surface"
           }
          ],
          "table": [
           {
            "cells": {
             "fill": {
              "color": "#EBF0F8"
             },
             "line": {
              "color": "white"
             }
            },
            "header": {
             "fill": {
              "color": "#C8D4E3"
             },
             "line": {
              "color": "white"
             }
            },
            "type": "table"
           }
          ]
         },
         "layout": {
          "annotationdefaults": {
           "arrowcolor": "#2a3f5f",
           "arrowhead": 0,
           "arrowwidth": 1
          },
          "autotypenumbers": "strict",
          "coloraxis": {
           "colorbar": {
            "outlinewidth": 0,
            "ticks": ""
           }
          },
          "colorscale": {
           "diverging": [
            [
             0,
             "#8e0152"
            ],
            [
             0.1,
             "#c51b7d"
            ],
            [
             0.2,
             "#de77ae"
            ],
            [
             0.3,
             "#f1b6da"
            ],
            [
             0.4,
             "#fde0ef"
            ],
            [
             0.5,
             "#f7f7f7"
            ],
            [
             0.6,
             "#e6f5d0"
            ],
            [
             0.7,
             "#b8e186"
            ],
            [
             0.8,
             "#7fbc41"
            ],
            [
             0.9,
             "#4d9221"
            ],
            [
             1,
             "#276419"
            ]
           ],
           "sequential": [
            [
             0,
             "#0d0887"
            ],
            [
             0.1111111111111111,
             "#46039f"
            ],
            [
             0.2222222222222222,
             "#7201a8"
            ],
            [
             0.3333333333333333,
             "#9c179e"
            ],
            [
             0.4444444444444444,
             "#bd3786"
            ],
            [
             0.5555555555555556,
             "#d8576b"
            ],
            [
             0.6666666666666666,
             "#ed7953"
            ],
            [
             0.7777777777777778,
             "#fb9f3a"
            ],
            [
             0.8888888888888888,
             "#fdca26"
            ],
            [
             1,
             "#f0f921"
            ]
           ],
           "sequentialminus": [
            [
             0,
             "#0d0887"
            ],
            [
             0.1111111111111111,
             "#46039f"
            ],
            [
             0.2222222222222222,
             "#7201a8"
            ],
            [
             0.3333333333333333,
             "#9c179e"
            ],
            [
             0.4444444444444444,
             "#bd3786"
            ],
            [
             0.5555555555555556,
             "#d8576b"
            ],
            [
             0.6666666666666666,
             "#ed7953"
            ],
            [
             0.7777777777777778,
             "#fb9f3a"
            ],
            [
             0.8888888888888888,
             "#fdca26"
            ],
            [
             1,
             "#f0f921"
            ]
           ]
          },
          "colorway": [
           "#636efa",
           "#EF553B",
           "#00cc96",
           "#ab63fa",
           "#FFA15A",
           "#19d3f3",
           "#FF6692",
           "#B6E880",
           "#FF97FF",
           "#FECB52"
          ],
          "font": {
           "color": "#2a3f5f"
          },
          "geo": {
           "bgcolor": "white",
           "lakecolor": "white",
           "landcolor": "#E5ECF6",
           "showlakes": true,
           "showland": true,
           "subunitcolor": "white"
          },
          "hoverlabel": {
           "align": "left"
          },
          "hovermode": "closest",
          "mapbox": {
           "style": "light"
          },
          "paper_bgcolor": "white",
          "plot_bgcolor": "#E5ECF6",
          "polar": {
           "angularaxis": {
            "gridcolor": "white",
            "linecolor": "white",
            "ticks": ""
           },
           "bgcolor": "#E5ECF6",
           "radialaxis": {
            "gridcolor": "white",
            "linecolor": "white",
            "ticks": ""
           }
          },
          "scene": {
           "xaxis": {
            "backgroundcolor": "#E5ECF6",
            "gridcolor": "white",
            "gridwidth": 2,
            "linecolor": "white",
            "showbackground": true,
            "ticks": "",
            "zerolinecolor": "white"
           },
           "yaxis": {
            "backgroundcolor": "#E5ECF6",
            "gridcolor": "white",
            "gridwidth": 2,
            "linecolor": "white",
            "showbackground": true,
            "ticks": "",
            "zerolinecolor": "white"
           },
           "zaxis": {
            "backgroundcolor": "#E5ECF6",
            "gridcolor": "white",
            "gridwidth": 2,
            "linecolor": "white",
            "showbackground": true,
            "ticks": "",
            "zerolinecolor": "white"
           }
          },
          "shapedefaults": {
           "line": {
            "color": "#2a3f5f"
           }
          },
          "ternary": {
           "aaxis": {
            "gridcolor": "white",
            "linecolor": "white",
            "ticks": ""
           },
           "baxis": {
            "gridcolor": "white",
            "linecolor": "white",
            "ticks": ""
           },
           "bgcolor": "#E5ECF6",
           "caxis": {
            "gridcolor": "white",
            "linecolor": "white",
            "ticks": ""
           }
          },
          "title": {
           "x": 0.05
          },
          "xaxis": {
           "automargin": true,
           "gridcolor": "white",
           "linecolor": "white",
           "ticks": "",
           "title": {
            "standoff": 15
           },
           "zerolinecolor": "white",
           "zerolinewidth": 2
          },
          "yaxis": {
           "automargin": true,
           "gridcolor": "white",
           "linecolor": "white",
           "ticks": "",
           "title": {
            "standoff": 15
           },
           "zerolinecolor": "white",
           "zerolinewidth": 2
          }
         }
        },
        "title": {
         "text": "Goals per playing Position"
        },
        "xaxis": {
         "anchor": "y",
         "domain": [
          0,
          1
         ],
         "title": {
          "text": "Playing_Position"
         }
        },
        "yaxis": {
         "anchor": "x",
         "domain": [
          0,
          1
         ],
         "title": {
          "text": "count"
         }
        }
       }
      },
      "text/html": [
       "<div>                            <div id=\"3b8da0bd-0f19-48bd-9d53-1047c4308f1c\" class=\"plotly-graph-div\" style=\"height:500px; width:100%;\"></div>            <script type=\"text/javascript\">                require([\"plotly\"], function(Plotly) {                    window.PLOTLYENV=window.PLOTLYENV || {};                                    if (document.getElementById(\"3b8da0bd-0f19-48bd-9d53-1047c4308f1c\")) {                    Plotly.newPlot(                        \"3b8da0bd-0f19-48bd-9d53-1047c4308f1c\",                        [{\"alignmentgroup\":\"True\",\"bingroup\":\"x\",\"hovertemplate\":\"Club=Sporting CP<br>Playing_Position=%{x}<br>count=%{y}<extra></extra>\",\"legendgroup\":\"Sporting CP\",\"marker\":{\"color\":\"#636efa\",\"pattern\":{\"shape\":\"\"}},\"name\":\"Sporting CP\",\"offsetgroup\":\"Sporting CP\",\"orientation\":\"v\",\"showlegend\":true,\"x\":[\"LW\"],\"xaxis\":\"x\",\"yaxis\":\"y\",\"type\":\"histogram\"},{\"alignmentgroup\":\"True\",\"bingroup\":\"x\",\"hovertemplate\":\"Club=Manchester United<br>Playing_Position=%{x}<br>count=%{y}<extra></extra>\",\"legendgroup\":\"Manchester United\",\"marker\":{\"color\":\"#EF553B\",\"pattern\":{\"shape\":\"\"}},\"name\":\"Manchester United\",\"offsetgroup\":\"Manchester United\",\"orientation\":\"v\",\"showlegend\":true,\"x\":[\"RW\",\"RW\",\"RW\",\"RW\",\"RW\",\"RW\",\"RW\",\"RW\",\"RW\",\"RW\",\"RW\",\"RW\",\"RW\",\"RW\",\"RW\",\"RW\",\"RW\",\"RW\",\"RW\",\"RW\",\"RW\",\"RW\",\"RW\",\"RW\",\"RW\",\"RW\",\"RW\",\"LW\",\"RW\",\"RW\",\"RW\",\"RW\",\"RW\",\"LW\",\"LW\",\"LW\",\"CF\",\"RW\",\"RW\",\"RW\",\"RW\",\"CF\",\"CF\",\"CF\",\"CF\",\"CF\",\"CF\",\"CF\",\"CF\",\"CF\",\"CF\",\"CF\",\"CF\",\"CF\",\"CF\",\"CF\",\"CF\",\"CF\"],\"xaxis\":\"x\",\"yaxis\":\"y\",\"type\":\"histogram\"},{\"alignmentgroup\":\"True\",\"bingroup\":\"x\",\"hovertemplate\":\"Club=Real Madrid<br>Playing_Position=%{x}<br>count=%{y}<extra></extra>\",\"legendgroup\":\"Real Madrid\",\"marker\":{\"color\":\"#00cc96\",\"pattern\":{\"shape\":\"\"}},\"name\":\"Real Madrid\",\"offsetgroup\":\"Real Madrid\",\"orientation\":\"v\",\"showlegend\":true,\"x\":[\"RW\",\"CF\",\"CF\",\"CF\",\"CF\",\"CF\",\"RW\",\"RW\",\"LW\",\"CF\",\"LW\",\"LW\",\"LW\",\"LW\",\"LW\",\"LW\",\"LW\",\"LW\",\"LW\",\"LW\",\"LW\",\"LW\",\"LW\",\"LW\",\"LW\",\"LW\",\"LW\",\"LW\",\"LW\",\"LW\",\"CF\",\"LW\",\"LW\",\"LW\",\"LW\",\"LW\",\"CF\",\"RW\",\"CF\",\"LW\",\"LW\",\"LW\",\"LW\",\"LW\",\"LW\",\"LW\",\"LW\",\"LW\",\"LW\",\"LW\",\"LW\",\"LW\",\"LW\",\"LW\",\"LW\",\"LW\",\"LW\",\"LW\",\"LW\",\"LW\",\"LW\",\"LW\",\"LW\",\"LW\",\"LW\",\"LW\",\"LW\",\"LW\",\"LW\",\"LW\",\"LW\",\"LW\",\"LW\",\"LW\",\"LW\",\"LW\",\"LW\",\"LW\",\"LW\",\"LW\",\"LW\",\"LW\",\"LW\",\"LW\",\"LW\",\"LW\",\"LW\",\"LW\",\"LW\",\"LW\",\"LW\",\"LW\",\"LW\",\"LW\",\"LW\",\"LW\",\"LW\",\"LW\",\"LW\",\"CF\",\"LW \",\"LW\",\"LW\",\"LW\",\"LW\",\"LW\",\"LW\",\"LW\",\"LW\",\"LW\",\"LW\",\"LW\",\"LW\",\"LW\",\"LW\",\"LW\",\"CF\",\"LW\",\"LW\",\"LW\",\"LW\",\"LW\",\"LW\",\"LW \",\"LW\",\"LW\",\"LW\",\"LW\",\"LW\",\"LW\",\"LW\",\"LW\",\"LW\",\"LW\",\"LW\",\"LW\",\"LW\",\"LW\",\"LW\",\"LW\",\"LW\",\"LW\",\"LW\",\"LW\",\"LW\",\"LW\",\"LW\",\"LW\",\"LW\",\"LW\",\"LW\",\"LW\",\"LW\",\"LW\",\"LW\",\"LW\",\"LW\",\"LW\",\"LW\",\"LW\",\"LW\",\"LW\",\"LW\",\"RW\",\"RW\",\"RW\",\"CF\",\"CF\",\"CF\",\"LW\",\"LW\",\"LW\",\"CF\",\"CF\",\"CF\",\"CF\",\"CF\",\"LW\",\"CF\",\"CF\",\"CF\",\"CF\",\"LW\",\"LW\",\"LW\",\"CF\",\"CF\",\"CF\",\"LW\",\"CF\",\"CF\",\"CF\",\"CF\",\"LW\",\"CF\",\"CF\",\"CF\",\"CF\",\"CF\",\"LW\",\"LW\",\"LW\",\"LW\",\"LW\",\"LW\",\"LW\",\"LW\",\"LW \",\"LW \",\"CF\",\"CF\",\"CF\",\"CF\",\"CF\",\"LW\",\"LW\",\"LW\",\"LW\",\"LW\",\"LW\",\"LW\",\"LW\",\"LW\",\"LW\",\"LW\",\"LW\",\"LW\",\"LW\",\"LW\",\"CF\",\"LW\",\"LW\",\"CF\",\"LW\",\"LW\",\"LW\",\"LW\",\"LW\",\"LW\",\"LW\",\"LW\",\"LW\",\"LW\",\"LW\",\"LW\",\"CF\",\"LW\",\"LW\",\"LW\",\"LW\",\"LW\",\"LW\",\"CF\",\"LW\",\"LW\",\"LW\",\"LW\",\"LW\",\"CF\",\"CF\",\"CF\",\"LW\",\"CF\",\"CF\",\"CF\",\"LW\",\"CF\",\"CF\",\"CF\",\"CF\",\"CF\",\"CF\",\"CF\",\"CF\",\"CF\",\"LW\",\"LW\",\"LW\",\"CF\",\"LW\",\"LW\",\"LW\",\"CF\",\"CF\",\"CF\",\"CF \",\"CF \",\"CF\",\"CF\",\"CF\",\"CF\",\"CF\",\"CF\",\"CF\",\"CF\",\"CF\",\"CF\",\"CF\",\"CF\",\"LW\",\"CF\"],\"xaxis\":\"x\",\"yaxis\":\"y\",\"type\":\"histogram\"},{\"alignmentgroup\":\"True\",\"bingroup\":\"x\",\"hovertemplate\":\"Club=Juventus FC<br>Playing_Position=%{x}<br>count=%{y}<extra></extra>\",\"legendgroup\":\"Juventus FC\",\"marker\":{\"color\":\"#ab63fa\",\"pattern\":{\"shape\":\"\"}},\"name\":\"Juventus FC\",\"offsetgroup\":\"Juventus FC\",\"orientation\":\"v\",\"showlegend\":true,\"x\":[\"CF\",\"LW\",\"CF\",\"CF\",\"CF\",\"CF\",\"LW\",\"LW\",\"LW\",\"LW\",\"LW\",\"LW\",\"CF\",\"CF\",\"LW\",\"LW\",\"CF\",\"CF\",\"LW\",\"CF\",\"CF\",\"CF\",\"CF\",\"CF\",\"LW\",\"CF\",\"CF\",\"CF\",\"LW\",\"LW\",\"LW\",\"LW\",\"LW\",\"LW\",\"LW\",\"LW\",\"LW\",\"CF\",\"CF\",\"CF\",\"LW\",\"CF\",\"CF\",\"CF\",\"CF\",\"CF\",\"CF\",\"CF\",\"CF\",\"CF\",\"CF\",\"CF\",\"CF\",\"CF\",\"CF\",\"CF\",\"CF\",\"CF\",\"CF\",\"CF\"],\"xaxis\":\"x\",\"yaxis\":\"y\",\"type\":\"histogram\"}],                        {\"template\":{\"data\":{\"histogram2dcontour\":[{\"type\":\"histogram2dcontour\",\"colorbar\":{\"outlinewidth\":0,\"ticks\":\"\"},\"colorscale\":[[0.0,\"#0d0887\"],[0.1111111111111111,\"#46039f\"],[0.2222222222222222,\"#7201a8\"],[0.3333333333333333,\"#9c179e\"],[0.4444444444444444,\"#bd3786\"],[0.5555555555555556,\"#d8576b\"],[0.6666666666666666,\"#ed7953\"],[0.7777777777777778,\"#fb9f3a\"],[0.8888888888888888,\"#fdca26\"],[1.0,\"#f0f921\"]]}],\"choropleth\":[{\"type\":\"choropleth\",\"colorbar\":{\"outlinewidth\":0,\"ticks\":\"\"}}],\"histogram2d\":[{\"type\":\"histogram2d\",\"colorbar\":{\"outlinewidth\":0,\"ticks\":\"\"},\"colorscale\":[[0.0,\"#0d0887\"],[0.1111111111111111,\"#46039f\"],[0.2222222222222222,\"#7201a8\"],[0.3333333333333333,\"#9c179e\"],[0.4444444444444444,\"#bd3786\"],[0.5555555555555556,\"#d8576b\"],[0.6666666666666666,\"#ed7953\"],[0.7777777777777778,\"#fb9f3a\"],[0.8888888888888888,\"#fdca26\"],[1.0,\"#f0f921\"]]}],\"heatmap\":[{\"type\":\"heatmap\",\"colorbar\":{\"outlinewidth\":0,\"ticks\":\"\"},\"colorscale\":[[0.0,\"#0d0887\"],[0.1111111111111111,\"#46039f\"],[0.2222222222222222,\"#7201a8\"],[0.3333333333333333,\"#9c179e\"],[0.4444444444444444,\"#bd3786\"],[0.5555555555555556,\"#d8576b\"],[0.6666666666666666,\"#ed7953\"],[0.7777777777777778,\"#fb9f3a\"],[0.8888888888888888,\"#fdca26\"],[1.0,\"#f0f921\"]]}],\"heatmapgl\":[{\"type\":\"heatmapgl\",\"colorbar\":{\"outlinewidth\":0,\"ticks\":\"\"},\"colorscale\":[[0.0,\"#0d0887\"],[0.1111111111111111,\"#46039f\"],[0.2222222222222222,\"#7201a8\"],[0.3333333333333333,\"#9c179e\"],[0.4444444444444444,\"#bd3786\"],[0.5555555555555556,\"#d8576b\"],[0.6666666666666666,\"#ed7953\"],[0.7777777777777778,\"#fb9f3a\"],[0.8888888888888888,\"#fdca26\"],[1.0,\"#f0f921\"]]}],\"contourcarpet\":[{\"type\":\"contourcarpet\",\"colorbar\":{\"outlinewidth\":0,\"ticks\":\"\"}}],\"contour\":[{\"type\":\"contour\",\"colorbar\":{\"outlinewidth\":0,\"ticks\":\"\"},\"colorscale\":[[0.0,\"#0d0887\"],[0.1111111111111111,\"#46039f\"],[0.2222222222222222,\"#7201a8\"],[0.3333333333333333,\"#9c179e\"],[0.4444444444444444,\"#bd3786\"],[0.5555555555555556,\"#d8576b\"],[0.6666666666666666,\"#ed7953\"],[0.7777777777777778,\"#fb9f3a\"],[0.8888888888888888,\"#fdca26\"],[1.0,\"#f0f921\"]]}],\"surface\":[{\"type\":\"surface\",\"colorbar\":{\"outlinewidth\":0,\"ticks\":\"\"},\"colorscale\":[[0.0,\"#0d0887\"],[0.1111111111111111,\"#46039f\"],[0.2222222222222222,\"#7201a8\"],[0.3333333333333333,\"#9c179e\"],[0.4444444444444444,\"#bd3786\"],[0.5555555555555556,\"#d8576b\"],[0.6666666666666666,\"#ed7953\"],[0.7777777777777778,\"#fb9f3a\"],[0.8888888888888888,\"#fdca26\"],[1.0,\"#f0f921\"]]}],\"mesh3d\":[{\"type\":\"mesh3d\",\"colorbar\":{\"outlinewidth\":0,\"ticks\":\"\"}}],\"scatter\":[{\"fillpattern\":{\"fillmode\":\"overlay\",\"size\":10,\"solidity\":0.2},\"type\":\"scatter\"}],\"parcoords\":[{\"type\":\"parcoords\",\"line\":{\"colorbar\":{\"outlinewidth\":0,\"ticks\":\"\"}}}],\"scatterpolargl\":[{\"type\":\"scatterpolargl\",\"marker\":{\"colorbar\":{\"outlinewidth\":0,\"ticks\":\"\"}}}],\"bar\":[{\"error_x\":{\"color\":\"#2a3f5f\"},\"error_y\":{\"color\":\"#2a3f5f\"},\"marker\":{\"line\":{\"color\":\"#E5ECF6\",\"width\":0.5},\"pattern\":{\"fillmode\":\"overlay\",\"size\":10,\"solidity\":0.2}},\"type\":\"bar\"}],\"scattergeo\":[{\"type\":\"scattergeo\",\"marker\":{\"colorbar\":{\"outlinewidth\":0,\"ticks\":\"\"}}}],\"scatterpolar\":[{\"type\":\"scatterpolar\",\"marker\":{\"colorbar\":{\"outlinewidth\":0,\"ticks\":\"\"}}}],\"histogram\":[{\"marker\":{\"pattern\":{\"fillmode\":\"overlay\",\"size\":10,\"solidity\":0.2}},\"type\":\"histogram\"}],\"scattergl\":[{\"type\":\"scattergl\",\"marker\":{\"colorbar\":{\"outlinewidth\":0,\"ticks\":\"\"}}}],\"scatter3d\":[{\"type\":\"scatter3d\",\"line\":{\"colorbar\":{\"outlinewidth\":0,\"ticks\":\"\"}},\"marker\":{\"colorbar\":{\"outlinewidth\":0,\"ticks\":\"\"}}}],\"scattermapbox\":[{\"type\":\"scattermapbox\",\"marker\":{\"colorbar\":{\"outlinewidth\":0,\"ticks\":\"\"}}}],\"scatterternary\":[{\"type\":\"scatterternary\",\"marker\":{\"colorbar\":{\"outlinewidth\":0,\"ticks\":\"\"}}}],\"scattercarpet\":[{\"type\":\"scattercarpet\",\"marker\":{\"colorbar\":{\"outlinewidth\":0,\"ticks\":\"\"}}}],\"carpet\":[{\"aaxis\":{\"endlinecolor\":\"#2a3f5f\",\"gridcolor\":\"white\",\"linecolor\":\"white\",\"minorgridcolor\":\"white\",\"startlinecolor\":\"#2a3f5f\"},\"baxis\":{\"endlinecolor\":\"#2a3f5f\",\"gridcolor\":\"white\",\"linecolor\":\"white\",\"minorgridcolor\":\"white\",\"startlinecolor\":\"#2a3f5f\"},\"type\":\"carpet\"}],\"table\":[{\"cells\":{\"fill\":{\"color\":\"#EBF0F8\"},\"line\":{\"color\":\"white\"}},\"header\":{\"fill\":{\"color\":\"#C8D4E3\"},\"line\":{\"color\":\"white\"}},\"type\":\"table\"}],\"barpolar\":[{\"marker\":{\"line\":{\"color\":\"#E5ECF6\",\"width\":0.5},\"pattern\":{\"fillmode\":\"overlay\",\"size\":10,\"solidity\":0.2}},\"type\":\"barpolar\"}],\"pie\":[{\"automargin\":true,\"type\":\"pie\"}]},\"layout\":{\"autotypenumbers\":\"strict\",\"colorway\":[\"#636efa\",\"#EF553B\",\"#00cc96\",\"#ab63fa\",\"#FFA15A\",\"#19d3f3\",\"#FF6692\",\"#B6E880\",\"#FF97FF\",\"#FECB52\"],\"font\":{\"color\":\"#2a3f5f\"},\"hovermode\":\"closest\",\"hoverlabel\":{\"align\":\"left\"},\"paper_bgcolor\":\"white\",\"plot_bgcolor\":\"#E5ECF6\",\"polar\":{\"bgcolor\":\"#E5ECF6\",\"angularaxis\":{\"gridcolor\":\"white\",\"linecolor\":\"white\",\"ticks\":\"\"},\"radialaxis\":{\"gridcolor\":\"white\",\"linecolor\":\"white\",\"ticks\":\"\"}},\"ternary\":{\"bgcolor\":\"#E5ECF6\",\"aaxis\":{\"gridcolor\":\"white\",\"linecolor\":\"white\",\"ticks\":\"\"},\"baxis\":{\"gridcolor\":\"white\",\"linecolor\":\"white\",\"ticks\":\"\"},\"caxis\":{\"gridcolor\":\"white\",\"linecolor\":\"white\",\"ticks\":\"\"}},\"coloraxis\":{\"colorbar\":{\"outlinewidth\":0,\"ticks\":\"\"}},\"colorscale\":{\"sequential\":[[0.0,\"#0d0887\"],[0.1111111111111111,\"#46039f\"],[0.2222222222222222,\"#7201a8\"],[0.3333333333333333,\"#9c179e\"],[0.4444444444444444,\"#bd3786\"],[0.5555555555555556,\"#d8576b\"],[0.6666666666666666,\"#ed7953\"],[0.7777777777777778,\"#fb9f3a\"],[0.8888888888888888,\"#fdca26\"],[1.0,\"#f0f921\"]],\"sequentialminus\":[[0.0,\"#0d0887\"],[0.1111111111111111,\"#46039f\"],[0.2222222222222222,\"#7201a8\"],[0.3333333333333333,\"#9c179e\"],[0.4444444444444444,\"#bd3786\"],[0.5555555555555556,\"#d8576b\"],[0.6666666666666666,\"#ed7953\"],[0.7777777777777778,\"#fb9f3a\"],[0.8888888888888888,\"#fdca26\"],[1.0,\"#f0f921\"]],\"diverging\":[[0,\"#8e0152\"],[0.1,\"#c51b7d\"],[0.2,\"#de77ae\"],[0.3,\"#f1b6da\"],[0.4,\"#fde0ef\"],[0.5,\"#f7f7f7\"],[0.6,\"#e6f5d0\"],[0.7,\"#b8e186\"],[0.8,\"#7fbc41\"],[0.9,\"#4d9221\"],[1,\"#276419\"]]},\"xaxis\":{\"gridcolor\":\"white\",\"linecolor\":\"white\",\"ticks\":\"\",\"title\":{\"standoff\":15},\"zerolinecolor\":\"white\",\"automargin\":true,\"zerolinewidth\":2},\"yaxis\":{\"gridcolor\":\"white\",\"linecolor\":\"white\",\"ticks\":\"\",\"title\":{\"standoff\":15},\"zerolinecolor\":\"white\",\"automargin\":true,\"zerolinewidth\":2},\"scene\":{\"xaxis\":{\"backgroundcolor\":\"#E5ECF6\",\"gridcolor\":\"white\",\"linecolor\":\"white\",\"showbackground\":true,\"ticks\":\"\",\"zerolinecolor\":\"white\",\"gridwidth\":2},\"yaxis\":{\"backgroundcolor\":\"#E5ECF6\",\"gridcolor\":\"white\",\"linecolor\":\"white\",\"showbackground\":true,\"ticks\":\"\",\"zerolinecolor\":\"white\",\"gridwidth\":2},\"zaxis\":{\"backgroundcolor\":\"#E5ECF6\",\"gridcolor\":\"white\",\"linecolor\":\"white\",\"showbackground\":true,\"ticks\":\"\",\"zerolinecolor\":\"white\",\"gridwidth\":2}},\"shapedefaults\":{\"line\":{\"color\":\"#2a3f5f\"}},\"annotationdefaults\":{\"arrowcolor\":\"#2a3f5f\",\"arrowhead\":0,\"arrowwidth\":1},\"geo\":{\"bgcolor\":\"white\",\"landcolor\":\"#E5ECF6\",\"subunitcolor\":\"white\",\"showland\":true,\"showlakes\":true,\"lakecolor\":\"white\"},\"title\":{\"x\":0.05},\"mapbox\":{\"style\":\"light\"}}},\"xaxis\":{\"anchor\":\"y\",\"domain\":[0.0,1.0],\"title\":{\"text\":\"Playing_Position\"}},\"yaxis\":{\"anchor\":\"x\",\"domain\":[0.0,1.0],\"title\":{\"text\":\"count\"}},\"legend\":{\"title\":{\"text\":\"Club\"},\"tracegroupgap\":0},\"title\":{\"text\":\"Goals per playing Position\"},\"barmode\":\"relative\",\"height\":500},                        {\"responsive\": true}                    ).then(function(){\n",
       "                            \n",
       "var gd = document.getElementById('3b8da0bd-0f19-48bd-9d53-1047c4308f1c');\n",
       "var x = new MutationObserver(function (mutations, observer) {{\n",
       "        var display = window.getComputedStyle(gd).display;\n",
       "        if (!display || display === 'none') {{\n",
       "            console.log([gd, 'removed!']);\n",
       "            Plotly.purge(gd);\n",
       "            observer.disconnect();\n",
       "        }}\n",
       "}});\n",
       "\n",
       "// Listen for the removal of the full notebook cells\n",
       "var notebookContainer = gd.closest('#notebook-container');\n",
       "if (notebookContainer) {{\n",
       "    x.observe(notebookContainer, {childList: true});\n",
       "}}\n",
       "\n",
       "// Listen for the clearing of the current output cell\n",
       "var outputEl = gd.closest('.output');\n",
       "if (outputEl) {{\n",
       "    x.observe(outputEl, {childList: true});\n",
       "}}\n",
       "\n",
       "                        })                };                });            </script>        </div>"
      ]
     },
     "metadata": {},
     "output_type": "display_data"
    }
   ],
   "source": [
    "px.histogram(\n",
    "    df,\n",
    "    x='Playing_Position',\n",
    "    title=\"Goals per playing Position\",\n",
    "    log_x=False,\n",
    "    log_y=False,\n",
    "    #symbol='title',\n",
    "    #markers=True,\n",
    "    #width=800, \n",
    "    height=500,\n",
    "    color='Club',\n",
    "    hover_name='Club',\n",
    "    hover_data=['Playing_Position','Competition','Season','Club'])"
   ]
  },
  {
   "cell_type": "code",
   "execution_count": 21,
   "id": "5ef2fb7c",
   "metadata": {},
   "outputs": [],
   "source": [
    "mins=list(map(str, range(1,121)))\n",
    "mins.insert(45,\"1stE\")\n",
    "mins.insert(91,\"2ndE\")\n",
    "mins.insert(122,\"ExtE\")\n",
    "df.loc[df.Minute.str[:3]=='45+', 'Minute'] = '1stE'\n",
    "df.loc[df.Minute.str[:3]=='90+', 'Minute'] = '2ndE'\n",
    "df.loc[df.Minute.str[:4]=='120+', 'Minute'] = 'ExtE'\n",
    "mins1=mins[:23]\n",
    "mins2=mins[23:46]\n",
    "mins3=mins[46:69]\n",
    "mins4=mins[69:92]\n",
    "mins5=mins[92:]"
   ]
  },
  {
   "cell_type": "code",
   "execution_count": 22,
   "id": "cd733289",
   "metadata": {},
   "outputs": [
    {
     "data": {
      "text/plain": [
       "Text(0.5, 1.0, 'Goals per Game Minute (1-23)')"
      ]
     },
     "execution_count": 22,
     "metadata": {},
     "output_type": "execute_result"
    },
    {
     "data": {
      "image/png": "[encoded data removed]",
      "text/plain": [
       "<Figure size 2000x500 with 1 Axes>"
      ]
     },
     "metadata": {},
     "output_type": "display_data"
    }
   ],
   "source": [
    "sns.set(rc={'figure.figsize':(20,5)})\n",
    "plt.xticks(fontsize=15)\n",
    "p=sns.countplot(df['Minute'],order=mins1)\n",
    "p.axes.set_title(\"Goals per Game Minute (1-23)\",fontsize=30)"
   ]
  },
  {
   "cell_type": "code",
   "execution_count": 23,
   "id": "c92153c2",
   "metadata": {},
   "outputs": [
    {
     "data": {
      "text/plain": [
       "Text(0.5, 1.0, 'Goals per Game Minute (24-First Half Extra time)')"
      ]
     },
     "execution_count": 23,
     "metadata": {},
     "output_type": "execute_result"
    },
    {
     "data": {
      "image/png": "[encoded data removed]",
      "text/plain": [
       "<Figure size 2000x500 with 1 Axes>"
      ]
     },
     "metadata": {},
     "output_type": "display_data"
    }
   ],
   "source": [
    "p=sns.countplot(df['Minute'],order=mins2)\n",
    "p.axes.set_title(\"Goals per Game Minute (24-First Half Extra time)\",fontsize=30)"
   ]
  },
  {
   "cell_type": "code",
   "execution_count": 24,
   "id": "376afe03",
   "metadata": {},
   "outputs": [
    {
     "data": {
      "text/plain": [
       "Text(0.5, 1.0, 'Goals per Game Minute (46-68)')"
      ]
     },
     "execution_count": 24,
     "metadata": {},
     "output_type": "execute_result"
    },
    {
     "data": {
      "image/png": "[encoded data removed]",
      "text/plain": [
       "<Figure size 2000x500 with 1 Axes>"
      ]
     },
     "metadata": {},
     "output_type": "display_data"
    }
   ],
   "source": [
    "\n",
    "p=sns.countplot(df['Minute'],order=mins3)\n",
    "p.axes.set_title(\"Goals per Game Minute (46-68)\",fontsize=30)"
   ]
  },
  {
   "cell_type": "code",
   "execution_count": 25,
   "id": "9f5f1a83",
   "metadata": {},
   "outputs": [
    {
     "data": {
      "text/plain": [
       "Text(0.5, 1.0, 'Goals per Game Minute 69- 2nd Half Extra time)')"
      ]
     },
     "execution_count": 25,
     "metadata": {},
     "output_type": "execute_result"
    },
    {
     "data": {
      "image/png": "[encoded data removed]",
      "text/plain": [
       "<Figure size 2000x500 with 1 Axes>"
      ]
     },
     "metadata": {},
     "output_type": "display_data"
    }
   ],
   "source": [
    "p=sns.countplot(df['Minute'],order=mins4)\n",
    "p.axes.set_title(\"Goals per Game Minute 69- 2nd Half Extra time)\",fontsize=30)"
   ]
  },
  {
   "cell_type": "code",
   "execution_count": 26,
   "id": "f3f4aa78",
   "metadata": {},
   "outputs": [
    {
     "data": {
      "text/plain": [
       "Text(0.5, 1.0, 'Goals per Game Minute (91-Extra times)')"
      ]
     },
     "execution_count": 26,
     "metadata": {},
     "output_type": "execute_result"
    },
    {
     "data": {
      "image/png": "[encoded data removed]",
      "text/plain": [
       "<Figure size 2000x500 with 1 Axes>"
      ]
     },
     "metadata": {},
     "output_type": "display_data"
    }
   ],
   "source": [
    "p=sns.countplot(df['Minute'],order=mins5)\n",
    "p.axes.set_title(\"Goals per Game Minute (91-Extra times)\",fontsize=30)"
   ]
  },
  {
   "cell_type": "markdown",
   "id": "99f73a5c",
   "metadata": {},
   "source": [
    "# Opponent favorite"
   ]
  },
  {
   "cell_type": "code",
   "execution_count": 28,
   "id": "eb64f5f9",
   "metadata": {},
   "outputs": [
    {
     "data": {
      "text/plain": [
       "<BarContainer object of 1 artists>"
      ]
     },
     "execution_count": 28,
     "metadata": {},
     "output_type": "execute_result"
    },
    {
     "data": {
      "image/png": "[encoded data removed]",
      "text/plain": [
       "<Figure size 1200x500 with 1 Axes>"
      ]
     },
     "metadata": {},
     "output_type": "display_data"
    }
   ],
   "source": [
    "sns.set(rc={'figure.figsize':(12,5)})\n",
    "opponents_df=df.groupby('Opponent').size().reset_index(name='count')\n",
    "fav_opponents_df=opponents_df[opponents_df[\"count\"]>15]\n",
    "plt.xticks(fontsize=20,rotation='vertical')\n",
    "plt.bar(x=fav_opponents_df['Opponent'],height=fav_opponents_df['count'],color=\"#1ae5e1\")"
   ]
  },
  {
   "cell_type": "code",
   "execution_count": 29,
   "id": "c67b8fb5",
   "metadata": {},
   "outputs": [],
   "source": [
    "mins=list(map(str, df.Goal_assist.value_counts().sort_values(ascending=False).index))\n",
    "for min in df['Goal_assist']:\n",
    "    if min not in mins:\n",
    "        mins.append(min)\n",
    "mins1=mins[:int(len(mins)/5)]\n",
    "mins2=mins[int(len(mins)/5):int(2*len(mins)/5)]\n",
    "mins3=mins[2*int(len(mins)/5):int(3*len(mins)/5)]\n",
    "mins4=mins[3*int(len(mins)/5):int(4*len(mins)/5)]\n",
    "mins5=mins[int(4*len(mins)/5):]"
   ]
  },
  {
   "cell_type": "code",
   "execution_count": 30,
   "id": "35a6679e",
   "metadata": {},
   "outputs": [
    {
     "data": {
      "text/plain": [
       "Text(0.5, 1.0, 'Goals Assisted by')"
      ]
     },
     "execution_count": 30,
     "metadata": {},
     "output_type": "execute_result"
    },
    {
     "data": {
      "image/png": "[encoded data removed]",
      "text/plain": [
       "<Figure size 2000x500 with 1 Axes>"
      ]
     },
     "metadata": {},
     "output_type": "display_data"
    }
   ],
   "source": [
    "sns.set(rc={'figure.figsize':(20,5)})\n",
    "plt.xticks(fontsize=15,rotation='vertical')\n",
    "p=sns.countplot(df['Goal_assist'],order=mins1)\n",
    "p.axes.set_title(\"Goals Assisted by\",fontsize=30)"
   ]
  },
  {
   "cell_type": "code",
   "execution_count": null,
   "id": "9e2b0d7d",
   "metadata": {},
   "outputs": [],
   "source": []
  }
 ],
 "metadata": {
  "kernelspec": {
   "display_name": "Python 3 (ipykernel)",
   "language": "python",
   "name": "python3"
  },
  "language_info": {
   "codemirror_mode": {
    "name": "ipython",
    "version": 3
   },
   "file_extension": ".py",
   "mimetype": "text/x-python",
   "name": "python",
   "nbconvert_exporter": "python",
   "pygments_lexer": "ipython3",
   "version": "3.9.13"
  }
 },
 "nbformat": 4,
 "nbformat_minor": 5
}
